{
 "cells": [
  {
   "cell_type": "code",
   "execution_count": 1,
   "metadata": {},
   "outputs": [
    {
     "data": {
      "application/vnd.webio.node+json": {
       "children": [],
       "instanceArgs": {
        "namespace": "html",
        "tag": "div"
       },
       "nodeType": "DOM",
       "props": {},
       "type": "node"
      },
      "text/html": [
       "<div style=\"padding: 1em; background-color: #f8d6da; border: 1px solid #f5c6cb; font-weight: bold;\">\n",
       "<p>The WebIO Jupyter extension was not detected. See the\n",
       "<a href=\"https://juliagizmos.github.io/WebIO.jl/latest/providers/ijulia/\" target=\"_blank\">\n",
       "    WebIO Jupyter integration documentation\n",
       "</a>\n",
       "for more information.\n",
       "</div>\n"
      ],
      "text/plain": [
       "WebIO._IJuliaInit()"
      ]
     },
     "metadata": {
      "@webio": {
       "kernelId": "770db5ff-3bbd-4a98-a0ea-bfcaf1eefd6e"
      }
     },
     "output_type": "display_data"
    }
   ],
   "source": [
    "using WebIO\n",
    "using Interact\n",
    "using Colors, Plots"
   ]
  },
  {
   "cell_type": "markdown",
   "metadata": {},
   "source": [
    "# Outline\n",
    "\n",
    "- How to HTML & JavaScript with Julia\n",
    "- How to communicate between JavaScript and Julia\n",
    "- Loading assets\n",
    "- Interact.jl -- a thing built with WebIO\n",
    "- Deploying your gizmos\n",
    "- Rendering custom types\n",
    "- The big picture of WebIO"
   ]
  },
  {
   "cell_type": "markdown",
   "metadata": {},
   "source": [
    "# Hello Web!"
   ]
  },
  {
   "cell_type": "code",
   "execution_count": 2,
   "metadata": {},
   "outputs": [
    {
     "data": {
      "application/vnd.webio.node+json": {
       "children": [
        "Hello, JuliaCon!"
       ],
       "instanceArgs": {
        "namespace": "html",
        "tag": "marquee"
       },
       "nodeType": "DOM",
       "props": {},
       "type": "node"
      },
      "text/html": [
       "<div\n",
       "    class=\"webio-mountpoint\"\n",
       "    data-webio-mountpoint=\"4331290053439562461\"\n",
       ">\n",
       "    <script>\n",
       "    (function(){\n",
       "    // Some integrations (namely, IJulia/Jupyter) use an alternate render pathway than\n",
       "    // just putting the html on the page. If WebIO isn't defined, then it's pretty likely\n",
       "    // that we're in one of those situations and the integration just isn't installed\n",
       "    // correctly.\n",
       "    if (typeof window.WebIO === \"undefined\") {\n",
       "        document\n",
       "            .querySelector('[data-webio-mountpoint=\"4331290053439562461\"]')\n",
       "            .innerHTML = (\n",
       "                '<div style=\"padding: 1em; background-color: #f8d6da; border: 1px solid #f5c6cb; font-weight: bold;\">' +\n",
       "                '<p><strong>WebIO not detected.</strong></p>' +\n",
       "                '<p>Please read ' +\n",
       "                '<a href=\"https://juliagizmos.github.io/WebIO.jl/latest/troubleshooting/not-detected/\" target=\"_blank\">the troubleshooting guide</a> ' +\n",
       "                'for more information on how to resolve this issue.</p>' +\n",
       "                '<p><a href=\"https://juliagizmos.github.io/WebIO.jl/latest/troubleshooting/not-detected/\" target=\"_blank\">https://juliagizmos.github.io/WebIO.jl/latest/troubleshooting/not-detected/</a></p>' +\n",
       "                '</div>'\n",
       "            );\n",
       "        return;\n",
       "    }\n",
       "    WebIO.mount(\n",
       "        document.querySelector('[data-webio-mountpoint=\"4331290053439562461\"]'),\n",
       "        {\"props\":{},\"nodeType\":\"DOM\",\"type\":\"node\",\"instanceArgs\":{\"namespace\":\"html\",\"tag\":\"marquee\"},\"children\":[\"Hello, JuliaCon!\"]},\n",
       "        window,\n",
       "    );\n",
       "    })()\n",
       "    </script>\n",
       "</div>\n"
      ],
      "text/plain": [
       "(marquee\n",
       "  \"Hello, JuliaCon!\")"
      ]
     },
     "execution_count": 2,
     "metadata": {
      "@webio": {
       "kernelId": "770db5ff-3bbd-4a98-a0ea-bfcaf1eefd6e"
      }
     },
     "output_type": "execute_result"
    }
   ],
   "source": [
    "node(:marquee, \"Hello, JuliaCon!\")"
   ]
  },
  {
   "cell_type": "code",
   "execution_count": 3,
   "metadata": {},
   "outputs": [
    {
     "data": {
      "application/vnd.webio.node+json": {
       "children": [
        {
         "children": [
          "Hello!"
         ],
         "instanceArgs": {
          "namespace": "html",
          "tag": "li"
         },
         "nodeType": "DOM",
         "props": {},
         "type": "node"
        },
        {
         "children": [
          "World!"
         ],
         "instanceArgs": {
          "namespace": "html",
          "tag": "li"
         },
         "nodeType": "DOM",
         "props": {},
         "type": "node"
        }
       ],
       "instanceArgs": {
        "namespace": "html",
        "tag": "ol"
       },
       "nodeType": "DOM",
       "props": {
        "style": {
         "fontFamily": "cursive"
        }
       },
       "type": "node"
      },
      "text/html": [
       "<div\n",
       "    class=\"webio-mountpoint\"\n",
       "    data-webio-mountpoint=\"1052327137971445404\"\n",
       ">\n",
       "    <script>\n",
       "    (function(){\n",
       "    // Some integrations (namely, IJulia/Jupyter) use an alternate render pathway than\n",
       "    // just putting the html on the page. If WebIO isn't defined, then it's pretty likely\n",
       "    // that we're in one of those situations and the integration just isn't installed\n",
       "    // correctly.\n",
       "    if (typeof window.WebIO === \"undefined\") {\n",
       "        document\n",
       "            .querySelector('[data-webio-mountpoint=\"1052327137971445404\"]')\n",
       "            .innerHTML = (\n",
       "                '<div style=\"padding: 1em; background-color: #f8d6da; border: 1px solid #f5c6cb; font-weight: bold;\">' +\n",
       "                '<p><strong>WebIO not detected.</strong></p>' +\n",
       "                '<p>Please read ' +\n",
       "                '<a href=\"https://juliagizmos.github.io/WebIO.jl/latest/troubleshooting/not-detected/\" target=\"_blank\">the troubleshooting guide</a> ' +\n",
       "                'for more information on how to resolve this issue.</p>' +\n",
       "                '<p><a href=\"https://juliagizmos.github.io/WebIO.jl/latest/troubleshooting/not-detected/\" target=\"_blank\">https://juliagizmos.github.io/WebIO.jl/latest/troubleshooting/not-detected/</a></p>' +\n",
       "                '</div>'\n",
       "            );\n",
       "        return;\n",
       "    }\n",
       "    WebIO.mount(\n",
       "        document.querySelector('[data-webio-mountpoint=\"1052327137971445404\"]'),\n",
       "        {\"props\":{\"style\":{\"fontFamily\":\"cursive\"}},\"nodeType\":\"DOM\",\"type\":\"node\",\"instanceArgs\":{\"namespace\":\"html\",\"tag\":\"ol\"},\"children\":[{\"props\":{},\"nodeType\":\"DOM\",\"type\":\"node\",\"instanceArgs\":{\"namespace\":\"html\",\"tag\":\"li\"},\"children\":[\"Hello!\"]},{\"props\":{},\"nodeType\":\"DOM\",\"type\":\"node\",\"instanceArgs\":{\"namespace\":\"html\",\"tag\":\"li\"},\"children\":[\"World!\"]}]},\n",
       "        window,\n",
       "    );\n",
       "    })()\n",
       "    </script>\n",
       "</div>\n"
      ],
      "text/plain": [
       "(ol { style=Dict(\"fontFamily\" => \"cursive\") }\n",
       "  (li\n",
       "    \"Hello!\")\n",
       "  (li\n",
       "    \"World!\"))"
      ]
     },
     "execution_count": 3,
     "metadata": {
      "@webio": {
       "kernelId": "770db5ff-3bbd-4a98-a0ea-bfcaf1eefd6e"
      }
     },
     "output_type": "execute_result"
    }
   ],
   "source": [
    "node(\n",
    "    :ol,\n",
    "    node(:li,\"Hello!\"),\n",
    "    node(:li, \"World!\"),\n",
    "    style=Dict(\"fontFamily\"=>\"cursive\"),\n",
    ")"
   ]
  },
  {
   "cell_type": "code",
   "execution_count": 4,
   "metadata": {},
   "outputs": [
    {
     "data": {
      "application/vnd.webio.node+json": {
       "children": [
        {
         "children": [
          "Hello!"
         ],
         "instanceArgs": {
          "namespace": "html",
          "tag": "li"
         },
         "nodeType": "DOM",
         "props": {},
         "type": "node"
        }
       ],
       "instanceArgs": {
        "namespace": "html",
        "tag": "ol"
       },
       "nodeType": "DOM",
       "props": {},
       "type": "node"
      },
      "text/html": [
       "<div\n",
       "    class=\"webio-mountpoint\"\n",
       "    data-webio-mountpoint=\"5821724201712725925\"\n",
       ">\n",
       "    <script>\n",
       "    (function(){\n",
       "    // Some integrations (namely, IJulia/Jupyter) use an alternate render pathway than\n",
       "    // just putting the html on the page. If WebIO isn't defined, then it's pretty likely\n",
       "    // that we're in one of those situations and the integration just isn't installed\n",
       "    // correctly.\n",
       "    if (typeof window.WebIO === \"undefined\") {\n",
       "        document\n",
       "            .querySelector('[data-webio-mountpoint=\"5821724201712725925\"]')\n",
       "            .innerHTML = (\n",
       "                '<div style=\"padding: 1em; background-color: #f8d6da; border: 1px solid #f5c6cb; font-weight: bold;\">' +\n",
       "                '<p><strong>WebIO not detected.</strong></p>' +\n",
       "                '<p>Please read ' +\n",
       "                '<a href=\"https://juliagizmos.github.io/WebIO.jl/latest/troubleshooting/not-detected/\" target=\"_blank\">the troubleshooting guide</a> ' +\n",
       "                'for more information on how to resolve this issue.</p>' +\n",
       "                '<p><a href=\"https://juliagizmos.github.io/WebIO.jl/latest/troubleshooting/not-detected/\" target=\"_blank\">https://juliagizmos.github.io/WebIO.jl/latest/troubleshooting/not-detected/</a></p>' +\n",
       "                '</div>'\n",
       "            );\n",
       "        return;\n",
       "    }\n",
       "    WebIO.mount(\n",
       "        document.querySelector('[data-webio-mountpoint=\"5821724201712725925\"]'),\n",
       "        {\"props\":{},\"nodeType\":\"DOM\",\"type\":\"node\",\"instanceArgs\":{\"namespace\":\"html\",\"tag\":\"ol\"},\"children\":[{\"props\":{},\"nodeType\":\"DOM\",\"type\":\"node\",\"instanceArgs\":{\"namespace\":\"html\",\"tag\":\"li\"},\"children\":[\"Hello!\"]}]},\n",
       "        window,\n",
       "    );\n",
       "    })()\n",
       "    </script>\n",
       "</div>\n"
      ],
      "text/plain": [
       "(ol\n",
       "  (li\n",
       "    \"Hello!\"))"
      ]
     },
     "execution_count": 4,
     "metadata": {
      "@webio": {
       "kernelId": "770db5ff-3bbd-4a98-a0ea-bfcaf1eefd6e"
      }
     },
     "output_type": "execute_result"
    }
   ],
   "source": [
    "n1 = node(:ol, node(:li, \"Hello!\"))"
   ]
  },
  {
   "cell_type": "code",
   "execution_count": 5,
   "metadata": {},
   "outputs": [
    {
     "data": {
      "application/vnd.webio.node+json": {
       "children": [
        {
         "children": [
          "Hello!"
         ],
         "instanceArgs": {
          "namespace": "html",
          "tag": "li"
         },
         "nodeType": "DOM",
         "props": {},
         "type": "node"
        },
        {
         "children": [
          "World!"
         ],
         "instanceArgs": {
          "namespace": "html",
          "tag": "li"
         },
         "nodeType": "DOM",
         "props": {},
         "type": "node"
        }
       ],
       "instanceArgs": {
        "namespace": "html",
        "tag": "ol"
       },
       "nodeType": "DOM",
       "props": {},
       "type": "node"
      },
      "text/html": [
       "<div\n",
       "    class=\"webio-mountpoint\"\n",
       "    data-webio-mountpoint=\"5726860991045932842\"\n",
       ">\n",
       "    <script>\n",
       "    (function(){\n",
       "    // Some integrations (namely, IJulia/Jupyter) use an alternate render pathway than\n",
       "    // just putting the html on the page. If WebIO isn't defined, then it's pretty likely\n",
       "    // that we're in one of those situations and the integration just isn't installed\n",
       "    // correctly.\n",
       "    if (typeof window.WebIO === \"undefined\") {\n",
       "        document\n",
       "            .querySelector('[data-webio-mountpoint=\"5726860991045932842\"]')\n",
       "            .innerHTML = (\n",
       "                '<div style=\"padding: 1em; background-color: #f8d6da; border: 1px solid #f5c6cb; font-weight: bold;\">' +\n",
       "                '<p><strong>WebIO not detected.</strong></p>' +\n",
       "                '<p>Please read ' +\n",
       "                '<a href=\"https://juliagizmos.github.io/WebIO.jl/latest/troubleshooting/not-detected/\" target=\"_blank\">the troubleshooting guide</a> ' +\n",
       "                'for more information on how to resolve this issue.</p>' +\n",
       "                '<p><a href=\"https://juliagizmos.github.io/WebIO.jl/latest/troubleshooting/not-detected/\" target=\"_blank\">https://juliagizmos.github.io/WebIO.jl/latest/troubleshooting/not-detected/</a></p>' +\n",
       "                '</div>'\n",
       "            );\n",
       "        return;\n",
       "    }\n",
       "    WebIO.mount(\n",
       "        document.querySelector('[data-webio-mountpoint=\"5726860991045932842\"]'),\n",
       "        {\"props\":{},\"nodeType\":\"DOM\",\"type\":\"node\",\"instanceArgs\":{\"namespace\":\"html\",\"tag\":\"ol\"},\"children\":[{\"props\":{},\"nodeType\":\"DOM\",\"type\":\"node\",\"instanceArgs\":{\"namespace\":\"html\",\"tag\":\"li\"},\"children\":[\"Hello!\"]},{\"props\":{},\"nodeType\":\"DOM\",\"type\":\"node\",\"instanceArgs\":{\"namespace\":\"html\",\"tag\":\"li\"},\"children\":[\"World!\"]}]},\n",
       "        window,\n",
       "    );\n",
       "    })()\n",
       "    </script>\n",
       "</div>\n"
      ],
      "text/plain": [
       "(ol\n",
       "  (li\n",
       "    \"Hello!\")\n",
       "  (li\n",
       "    \"World!\"))"
      ]
     },
     "execution_count": 5,
     "metadata": {
      "@webio": {
       "kernelId": "770db5ff-3bbd-4a98-a0ea-bfcaf1eefd6e"
      }
     },
     "output_type": "execute_result"
    }
   ],
   "source": [
    "n2 = n1(node(:li, \"World!\"))"
   ]
  },
  {
   "cell_type": "code",
   "execution_count": 6,
   "metadata": {},
   "outputs": [
    {
     "data": {
      "application/vnd.webio.node+json": {
       "children": [
        {
         "children": [
          "Hello!"
         ],
         "instanceArgs": {
          "namespace": "html",
          "tag": "li"
         },
         "nodeType": "DOM",
         "props": {},
         "type": "node"
        },
        {
         "children": [
          "World!"
         ],
         "instanceArgs": {
          "namespace": "html",
          "tag": "li"
         },
         "nodeType": "DOM",
         "props": {},
         "type": "node"
        }
       ],
       "instanceArgs": {
        "namespace": "html",
        "tag": "ol"
       },
       "nodeType": "DOM",
       "props": {
        "style": {
         "color": "purple"
        }
       },
       "type": "node"
      },
      "text/html": [
       "<div\n",
       "    class=\"webio-mountpoint\"\n",
       "    data-webio-mountpoint=\"4402482613252326078\"\n",
       ">\n",
       "    <script>\n",
       "    (function(){\n",
       "    // Some integrations (namely, IJulia/Jupyter) use an alternate render pathway than\n",
       "    // just putting the html on the page. If WebIO isn't defined, then it's pretty likely\n",
       "    // that we're in one of those situations and the integration just isn't installed\n",
       "    // correctly.\n",
       "    if (typeof window.WebIO === \"undefined\") {\n",
       "        document\n",
       "            .querySelector('[data-webio-mountpoint=\"4402482613252326078\"]')\n",
       "            .innerHTML = (\n",
       "                '<div style=\"padding: 1em; background-color: #f8d6da; border: 1px solid #f5c6cb; font-weight: bold;\">' +\n",
       "                '<p><strong>WebIO not detected.</strong></p>' +\n",
       "                '<p>Please read ' +\n",
       "                '<a href=\"https://juliagizmos.github.io/WebIO.jl/latest/troubleshooting/not-detected/\" target=\"_blank\">the troubleshooting guide</a> ' +\n",
       "                'for more information on how to resolve this issue.</p>' +\n",
       "                '<p><a href=\"https://juliagizmos.github.io/WebIO.jl/latest/troubleshooting/not-detected/\" target=\"_blank\">https://juliagizmos.github.io/WebIO.jl/latest/troubleshooting/not-detected/</a></p>' +\n",
       "                '</div>'\n",
       "            );\n",
       "        return;\n",
       "    }\n",
       "    WebIO.mount(\n",
       "        document.querySelector('[data-webio-mountpoint=\"4402482613252326078\"]'),\n",
       "        {\"props\":{\"style\":{\"color\":\"purple\"}},\"nodeType\":\"DOM\",\"type\":\"node\",\"instanceArgs\":{\"namespace\":\"html\",\"tag\":\"ol\"},\"children\":[{\"props\":{},\"nodeType\":\"DOM\",\"type\":\"node\",\"instanceArgs\":{\"namespace\":\"html\",\"tag\":\"li\"},\"children\":[\"Hello!\"]},{\"props\":{},\"nodeType\":\"DOM\",\"type\":\"node\",\"instanceArgs\":{\"namespace\":\"html\",\"tag\":\"li\"},\"children\":[\"World!\"]}]},\n",
       "        window,\n",
       "    );\n",
       "    })()\n",
       "    </script>\n",
       "</div>\n"
      ],
      "text/plain": [
       "(ol { style=Dict(\"color\" => \"purple\") }\n",
       "  (li\n",
       "    \"Hello!\")\n",
       "  (li\n",
       "    \"World!\"))"
      ]
     },
     "execution_count": 6,
     "metadata": {
      "@webio": {
       "kernelId": "770db5ff-3bbd-4a98-a0ea-bfcaf1eefd6e"
      }
     },
     "output_type": "execute_result"
    }
   ],
   "source": [
    "n3 = n2(style=Dict(\"color\" => \"purple\"))"
   ]
  },
  {
   "cell_type": "code",
   "execution_count": 7,
   "metadata": {},
   "outputs": [
    {
     "data": {
      "application/vnd.webio.node+json": {
       "children": [
        {
         "children": [
          "Hello!"
         ],
         "instanceArgs": {
          "namespace": "html",
          "tag": "li"
         },
         "nodeType": "DOM",
         "props": {},
         "type": "node"
        },
        {
         "children": [
          "World!"
         ],
         "instanceArgs": {
          "namespace": "html",
          "tag": "li"
         },
         "nodeType": "DOM",
         "props": {},
         "type": "node"
        }
       ],
       "instanceArgs": {
        "namespace": "html",
        "tag": "ol"
       },
       "nodeType": "DOM",
       "props": {
        "style": {
         "color": "purple",
         "fontWeight": "bold"
        }
       },
       "type": "node"
      },
      "text/html": [
       "<div\n",
       "    class=\"webio-mountpoint\"\n",
       "    data-webio-mountpoint=\"11236509581007604511\"\n",
       ">\n",
       "    <script>\n",
       "    (function(){\n",
       "    // Some integrations (namely, IJulia/Jupyter) use an alternate render pathway than\n",
       "    // just putting the html on the page. If WebIO isn't defined, then it's pretty likely\n",
       "    // that we're in one of those situations and the integration just isn't installed\n",
       "    // correctly.\n",
       "    if (typeof window.WebIO === \"undefined\") {\n",
       "        document\n",
       "            .querySelector('[data-webio-mountpoint=\"11236509581007604511\"]')\n",
       "            .innerHTML = (\n",
       "                '<div style=\"padding: 1em; background-color: #f8d6da; border: 1px solid #f5c6cb; font-weight: bold;\">' +\n",
       "                '<p><strong>WebIO not detected.</strong></p>' +\n",
       "                '<p>Please read ' +\n",
       "                '<a href=\"https://juliagizmos.github.io/WebIO.jl/latest/troubleshooting/not-detected/\" target=\"_blank\">the troubleshooting guide</a> ' +\n",
       "                'for more information on how to resolve this issue.</p>' +\n",
       "                '<p><a href=\"https://juliagizmos.github.io/WebIO.jl/latest/troubleshooting/not-detected/\" target=\"_blank\">https://juliagizmos.github.io/WebIO.jl/latest/troubleshooting/not-detected/</a></p>' +\n",
       "                '</div>'\n",
       "            );\n",
       "        return;\n",
       "    }\n",
       "    WebIO.mount(\n",
       "        document.querySelector('[data-webio-mountpoint=\"11236509581007604511\"]'),\n",
       "        {\"props\":{\"style\":{\"color\":\"purple\",\"fontWeight\":\"bold\"}},\"nodeType\":\"DOM\",\"type\":\"node\",\"instanceArgs\":{\"namespace\":\"html\",\"tag\":\"ol\"},\"children\":[{\"props\":{},\"nodeType\":\"DOM\",\"type\":\"node\",\"instanceArgs\":{\"namespace\":\"html\",\"tag\":\"li\"},\"children\":[\"Hello!\"]},{\"props\":{},\"nodeType\":\"DOM\",\"type\":\"node\",\"instanceArgs\":{\"namespace\":\"html\",\"tag\":\"li\"},\"children\":[\"World!\"]}]},\n",
       "        window,\n",
       "    );\n",
       "    })()\n",
       "    </script>\n",
       "</div>\n"
      ],
      "text/plain": [
       "(ol { style=Dict{Any, Any}(\"color\" => \"purple\", \"fontWeight\" => \"bold\") }\n",
       "  (li\n",
       "    \"Hello!\")\n",
       "  (li\n",
       "    \"World!\"))"
      ]
     },
     "execution_count": 7,
     "metadata": {
      "@webio": {
       "kernelId": "770db5ff-3bbd-4a98-a0ea-bfcaf1eefd6e"
      }
     },
     "output_type": "execute_result"
    }
   ],
   "source": [
    "n3(Dict(:style=>Dict(\"fontWeight\" => \"bold\")))"
   ]
  },
  {
   "cell_type": "markdown",
   "metadata": {},
   "source": [
    "# CSSUtils"
   ]
  },
  {
   "cell_type": "code",
   "execution_count": 8,
   "metadata": {},
   "outputs": [],
   "source": [
    "using CSSUtil"
   ]
  },
  {
   "cell_type": "code",
   "execution_count": 9,
   "metadata": {},
   "outputs": [
    {
     "data": {
      "text/plain": [
       "Dict{Symbol, Dict{Symbol, String}} with 1 entry:\n",
       "  :style => Dict(:fontWeight=>\"bold\")"
      ]
     },
     "execution_count": 9,
     "metadata": {},
     "output_type": "execute_result"
    }
   ],
   "source": [
    "style1 = style(:fontWeight=>\"bold\")"
   ]
  },
  {
   "cell_type": "code",
   "execution_count": 10,
   "metadata": {},
   "outputs": [
    {
     "data": {
      "text/plain": [
       "Dict{Symbol, Dict{String, Symbol}} with 1 entry:\n",
       "  :style => Dict(\"fontWeight\"=>:bold)"
      ]
     },
     "execution_count": 10,
     "metadata": {},
     "output_type": "execute_result"
    }
   ],
   "source": [
    "fontweight(:bold) # from CSSUtil"
   ]
  },
  {
   "cell_type": "code",
   "execution_count": 11,
   "metadata": {},
   "outputs": [
    {
     "data": {
      "application/vnd.webio.node+json": {
       "children": [
        {
         "children": [
          "Hello!"
         ],
         "instanceArgs": {
          "namespace": "html",
          "tag": "li"
         },
         "nodeType": "DOM",
         "props": {},
         "type": "node"
        },
        {
         "children": [
          "World!"
         ],
         "instanceArgs": {
          "namespace": "html",
          "tag": "li"
         },
         "nodeType": "DOM",
         "props": {},
         "type": "node"
        }
       ],
       "instanceArgs": {
        "namespace": "html",
        "tag": "ol"
       },
       "nodeType": "DOM",
       "props": {
        "style": {
         "fontWeight": "bold"
        }
       },
       "type": "node"
      },
      "text/html": [
       "<div\n",
       "    class=\"webio-mountpoint\"\n",
       "    data-webio-mountpoint=\"15684933550114874636\"\n",
       ">\n",
       "    <script>\n",
       "    (function(){\n",
       "    // Some integrations (namely, IJulia/Jupyter) use an alternate render pathway than\n",
       "    // just putting the html on the page. If WebIO isn't defined, then it's pretty likely\n",
       "    // that we're in one of those situations and the integration just isn't installed\n",
       "    // correctly.\n",
       "    if (typeof window.WebIO === \"undefined\") {\n",
       "        document\n",
       "            .querySelector('[data-webio-mountpoint=\"15684933550114874636\"]')\n",
       "            .innerHTML = (\n",
       "                '<div style=\"padding: 1em; background-color: #f8d6da; border: 1px solid #f5c6cb; font-weight: bold;\">' +\n",
       "                '<p><strong>WebIO not detected.</strong></p>' +\n",
       "                '<p>Please read ' +\n",
       "                '<a href=\"https://juliagizmos.github.io/WebIO.jl/latest/troubleshooting/not-detected/\" target=\"_blank\">the troubleshooting guide</a> ' +\n",
       "                'for more information on how to resolve this issue.</p>' +\n",
       "                '<p><a href=\"https://juliagizmos.github.io/WebIO.jl/latest/troubleshooting/not-detected/\" target=\"_blank\">https://juliagizmos.github.io/WebIO.jl/latest/troubleshooting/not-detected/</a></p>' +\n",
       "                '</div>'\n",
       "            );\n",
       "        return;\n",
       "    }\n",
       "    WebIO.mount(\n",
       "        document.querySelector('[data-webio-mountpoint=\"15684933550114874636\"]'),\n",
       "        {\"props\":{\"style\":{\"fontWeight\":\"bold\"}},\"nodeType\":\"DOM\",\"type\":\"node\",\"instanceArgs\":{\"namespace\":\"html\",\"tag\":\"ol\"},\"children\":[{\"props\":{},\"nodeType\":\"DOM\",\"type\":\"node\",\"instanceArgs\":{\"namespace\":\"html\",\"tag\":\"li\"},\"children\":[\"Hello!\"]},{\"props\":{},\"nodeType\":\"DOM\",\"type\":\"node\",\"instanceArgs\":{\"namespace\":\"html\",\"tag\":\"li\"},\"children\":[\"World!\"]}]},\n",
       "        window,\n",
       "    );\n",
       "    })()\n",
       "    </script>\n",
       "</div>\n"
      ],
      "text/plain": [
       "(ol { style=Dict(:fontWeight => \"bold\") }\n",
       "  (li\n",
       "    \"Hello!\")\n",
       "  (li\n",
       "    \"World!\"))"
      ]
     },
     "execution_count": 11,
     "metadata": {
      "@webio": {
       "kernelId": "770db5ff-3bbd-4a98-a0ea-bfcaf1eefd6e"
      }
     },
     "output_type": "execute_result"
    }
   ],
   "source": [
    "n2(style1)"
   ]
  },
  {
   "cell_type": "code",
   "execution_count": 12,
   "metadata": {},
   "outputs": [
    {
     "data": {
      "application/vnd.webio.node+json": {
       "children": [
        {
         "children": [
          "Hello!"
         ],
         "instanceArgs": {
          "namespace": "html",
          "tag": "li"
         },
         "nodeType": "DOM",
         "props": {},
         "type": "node"
        },
        {
         "children": [
          "World!"
         ],
         "instanceArgs": {
          "namespace": "html",
          "tag": "li"
         },
         "nodeType": "DOM",
         "props": {},
         "type": "node"
        }
       ],
       "instanceArgs": {
        "namespace": "html",
        "tag": "ol"
       },
       "nodeType": "DOM",
       "props": {
        "style": {
         "fontWeight": "bold"
        }
       },
       "type": "node"
      },
      "text/html": [
       "<div\n",
       "    class=\"webio-mountpoint\"\n",
       "    data-webio-mountpoint=\"4313944488465656306\"\n",
       ">\n",
       "    <script>\n",
       "    (function(){\n",
       "    // Some integrations (namely, IJulia/Jupyter) use an alternate render pathway than\n",
       "    // just putting the html on the page. If WebIO isn't defined, then it's pretty likely\n",
       "    // that we're in one of those situations and the integration just isn't installed\n",
       "    // correctly.\n",
       "    if (typeof window.WebIO === \"undefined\") {\n",
       "        document\n",
       "            .querySelector('[data-webio-mountpoint=\"4313944488465656306\"]')\n",
       "            .innerHTML = (\n",
       "                '<div style=\"padding: 1em; background-color: #f8d6da; border: 1px solid #f5c6cb; font-weight: bold;\">' +\n",
       "                '<p><strong>WebIO not detected.</strong></p>' +\n",
       "                '<p>Please read ' +\n",
       "                '<a href=\"https://juliagizmos.github.io/WebIO.jl/latest/troubleshooting/not-detected/\" target=\"_blank\">the troubleshooting guide</a> ' +\n",
       "                'for more information on how to resolve this issue.</p>' +\n",
       "                '<p><a href=\"https://juliagizmos.github.io/WebIO.jl/latest/troubleshooting/not-detected/\" target=\"_blank\">https://juliagizmos.github.io/WebIO.jl/latest/troubleshooting/not-detected/</a></p>' +\n",
       "                '</div>'\n",
       "            );\n",
       "        return;\n",
       "    }\n",
       "    WebIO.mount(\n",
       "        document.querySelector('[data-webio-mountpoint=\"4313944488465656306\"]'),\n",
       "        {\"props\":{\"style\":{\"fontWeight\":\"bold\"}},\"nodeType\":\"DOM\",\"type\":\"node\",\"instanceArgs\":{\"namespace\":\"html\",\"tag\":\"ol\"},\"children\":[{\"props\":{},\"nodeType\":\"DOM\",\"type\":\"node\",\"instanceArgs\":{\"namespace\":\"html\",\"tag\":\"li\"},\"children\":[\"Hello!\"]},{\"props\":{},\"nodeType\":\"DOM\",\"type\":\"node\",\"instanceArgs\":{\"namespace\":\"html\",\"tag\":\"li\"},\"children\":[\"World!\"]}]},\n",
       "        window,\n",
       "    );\n",
       "    })()\n",
       "    </script>\n",
       "</div>\n"
      ],
      "text/plain": [
       "(ol { style=Dict(\"fontWeight\" => :bold) }\n",
       "  (li\n",
       "    \"Hello!\")\n",
       "  (li\n",
       "    \"World!\"))"
      ]
     },
     "execution_count": 12,
     "metadata": {
      "@webio": {
       "kernelId": "770db5ff-3bbd-4a98-a0ea-bfcaf1eefd6e"
      }
     },
     "output_type": "execute_result"
    }
   ],
   "source": [
    "n2(fontweight(:bold))"
   ]
  },
  {
   "cell_type": "markdown",
   "metadata": {},
   "source": [
    "## Layouts"
   ]
  },
  {
   "cell_type": "code",
   "execution_count": 13,
   "metadata": {},
   "outputs": [
    {
     "data": {
      "application/vnd.webio.node+json": {
       "children": [],
       "instanceArgs": {
        "namespace": "html",
        "tag": "div"
       },
       "nodeType": "DOM",
       "props": {
        "style": {
         "background": "purple",
         "height": "4.0em",
         "width": "4.0em"
        }
       },
       "type": "node"
      },
      "text/html": [
       "<div\n",
       "    class=\"webio-mountpoint\"\n",
       "    data-webio-mountpoint=\"7411738876239857216\"\n",
       ">\n",
       "    <script>\n",
       "    (function(){\n",
       "    // Some integrations (namely, IJulia/Jupyter) use an alternate render pathway than\n",
       "    // just putting the html on the page. If WebIO isn't defined, then it's pretty likely\n",
       "    // that we're in one of those situations and the integration just isn't installed\n",
       "    // correctly.\n",
       "    if (typeof window.WebIO === \"undefined\") {\n",
       "        document\n",
       "            .querySelector('[data-webio-mountpoint=\"7411738876239857216\"]')\n",
       "            .innerHTML = (\n",
       "                '<div style=\"padding: 1em; background-color: #f8d6da; border: 1px solid #f5c6cb; font-weight: bold;\">' +\n",
       "                '<p><strong>WebIO not detected.</strong></p>' +\n",
       "                '<p>Please read ' +\n",
       "                '<a href=\"https://juliagizmos.github.io/WebIO.jl/latest/troubleshooting/not-detected/\" target=\"_blank\">the troubleshooting guide</a> ' +\n",
       "                'for more information on how to resolve this issue.</p>' +\n",
       "                '<p><a href=\"https://juliagizmos.github.io/WebIO.jl/latest/troubleshooting/not-detected/\" target=\"_blank\">https://juliagizmos.github.io/WebIO.jl/latest/troubleshooting/not-detected/</a></p>' +\n",
       "                '</div>'\n",
       "            );\n",
       "        return;\n",
       "    }\n",
       "    WebIO.mount(\n",
       "        document.querySelector('[data-webio-mountpoint=\"7411738876239857216\"]'),\n",
       "        {\"props\":{\"style\":{\"height\":\"4.0em\",\"width\":\"4.0em\",\"background\":\"purple\"}},\"nodeType\":\"DOM\",\"type\":\"node\",\"instanceArgs\":{\"namespace\":\"html\",\"tag\":\"div\"},\"children\":[]},\n",
       "        window,\n",
       "    );\n",
       "    })()\n",
       "    </script>\n",
       "</div>\n"
      ],
      "text/plain": [
       "(div { style=Dict{Any, Any}(\"height\" => 4.0em, \"width\" => 4.0em, \"background\" => \"purple\") })"
      ]
     },
     "execution_count": 13,
     "metadata": {
      "@webio": {
       "kernelId": "770db5ff-3bbd-4a98-a0ea-bfcaf1eefd6e"
      }
     },
     "output_type": "execute_result"
    }
   ],
   "source": [
    "purplebox = node(:div)(background(\"purple\"))(width(4em))(height(4em))"
   ]
  },
  {
   "cell_type": "code",
   "execution_count": 14,
   "metadata": {},
   "outputs": [
    {
     "data": {
      "application/vnd.webio.node+json": {
       "children": [],
       "instanceArgs": {
        "namespace": "html",
        "tag": "div"
       },
       "nodeType": "DOM",
       "props": {
        "style": {
         "background": "pink",
         "height": "4.0em",
         "width": "4.0em"
        }
       },
       "type": "node"
      },
      "text/html": [
       "<div\n",
       "    class=\"webio-mountpoint\"\n",
       "    data-webio-mountpoint=\"1998142462614477025\"\n",
       ">\n",
       "    <script>\n",
       "    (function(){\n",
       "    // Some integrations (namely, IJulia/Jupyter) use an alternate render pathway than\n",
       "    // just putting the html on the page. If WebIO isn't defined, then it's pretty likely\n",
       "    // that we're in one of those situations and the integration just isn't installed\n",
       "    // correctly.\n",
       "    if (typeof window.WebIO === \"undefined\") {\n",
       "        document\n",
       "            .querySelector('[data-webio-mountpoint=\"1998142462614477025\"]')\n",
       "            .innerHTML = (\n",
       "                '<div style=\"padding: 1em; background-color: #f8d6da; border: 1px solid #f5c6cb; font-weight: bold;\">' +\n",
       "                '<p><strong>WebIO not detected.</strong></p>' +\n",
       "                '<p>Please read ' +\n",
       "                '<a href=\"https://juliagizmos.github.io/WebIO.jl/latest/troubleshooting/not-detected/\" target=\"_blank\">the troubleshooting guide</a> ' +\n",
       "                'for more information on how to resolve this issue.</p>' +\n",
       "                '<p><a href=\"https://juliagizmos.github.io/WebIO.jl/latest/troubleshooting/not-detected/\" target=\"_blank\">https://juliagizmos.github.io/WebIO.jl/latest/troubleshooting/not-detected/</a></p>' +\n",
       "                '</div>'\n",
       "            );\n",
       "        return;\n",
       "    }\n",
       "    WebIO.mount(\n",
       "        document.querySelector('[data-webio-mountpoint=\"1998142462614477025\"]'),\n",
       "        {\"props\":{\"style\":{\"height\":\"4.0em\",\"width\":\"4.0em\",\"background\":\"pink\"}},\"nodeType\":\"DOM\",\"type\":\"node\",\"instanceArgs\":{\"namespace\":\"html\",\"tag\":\"div\"},\"children\":[]},\n",
       "        window,\n",
       "    );\n",
       "    })()\n",
       "    </script>\n",
       "</div>\n"
      ],
      "text/plain": [
       "(div { style=Dict{Any, Any}(\"height\" => 4.0em, \"width\" => 4.0em, \"background\" => \"pink\") })"
      ]
     },
     "execution_count": 14,
     "metadata": {
      "@webio": {
       "kernelId": "770db5ff-3bbd-4a98-a0ea-bfcaf1eefd6e"
      }
     },
     "output_type": "execute_result"
    }
   ],
   "source": [
    "pinkbox = node(:div)(background(\"pink\"))(width(4em))(height(4em))"
   ]
  },
  {
   "cell_type": "code",
   "execution_count": 15,
   "metadata": {},
   "outputs": [
    {
     "data": {
      "application/vnd.webio.node+json": {
       "children": [
        {
         "children": [
          {
           "children": [],
           "instanceArgs": {
            "namespace": "html",
            "tag": "div"
           },
           "nodeType": "DOM",
           "props": {
            "style": {
             "background": "purple",
             "height": "4.0em",
             "width": "4.0em"
            }
           },
           "type": "node"
          },
          {
           "children": [],
           "instanceArgs": {
            "namespace": "html",
            "tag": "div"
           },
           "nodeType": "DOM",
           "props": {
            "style": {
             "background": "pink",
             "height": "4.0em",
             "width": "4.0em"
            }
           },
           "type": "node"
          }
         ],
         "instanceArgs": {
          "namespace": "html",
          "tag": "div"
         },
         "nodeType": "DOM",
         "props": {
          "style": {
           "display": "flex",
           "flex-direction": "column"
          }
         },
         "type": "node"
        },
        {
         "children": [
          {
           "children": [],
           "instanceArgs": {
            "namespace": "html",
            "tag": "div"
           },
           "nodeType": "DOM",
           "props": {
            "style": {
             "background": "pink",
             "height": "4.0em",
             "width": "4.0em"
            }
           },
           "type": "node"
          },
          {
           "children": [],
           "instanceArgs": {
            "namespace": "html",
            "tag": "div"
           },
           "nodeType": "DOM",
           "props": {
            "style": {
             "background": "purple",
             "height": "4.0em",
             "width": "4.0em"
            }
           },
           "type": "node"
          }
         ],
         "instanceArgs": {
          "namespace": "html",
          "tag": "div"
         },
         "nodeType": "DOM",
         "props": {
          "style": {
           "display": "flex",
           "flex-direction": "column"
          }
         },
         "type": "node"
        }
       ],
       "instanceArgs": {
        "namespace": "html",
        "tag": "div"
       },
       "nodeType": "DOM",
       "props": {
        "style": {
         "display": "flex",
         "flex-direction": "row"
        }
       },
       "type": "node"
      },
      "text/html": [
       "<div\n",
       "    class=\"webio-mountpoint\"\n",
       "    data-webio-mountpoint=\"17100799183606943430\"\n",
       ">\n",
       "    <script>\n",
       "    (function(){\n",
       "    // Some integrations (namely, IJulia/Jupyter) use an alternate render pathway than\n",
       "    // just putting the html on the page. If WebIO isn't defined, then it's pretty likely\n",
       "    // that we're in one of those situations and the integration just isn't installed\n",
       "    // correctly.\n",
       "    if (typeof window.WebIO === \"undefined\") {\n",
       "        document\n",
       "            .querySelector('[data-webio-mountpoint=\"17100799183606943430\"]')\n",
       "            .innerHTML = (\n",
       "                '<div style=\"padding: 1em; background-color: #f8d6da; border: 1px solid #f5c6cb; font-weight: bold;\">' +\n",
       "                '<p><strong>WebIO not detected.</strong></p>' +\n",
       "                '<p>Please read ' +\n",
       "                '<a href=\"https://juliagizmos.github.io/WebIO.jl/latest/troubleshooting/not-detected/\" target=\"_blank\">the troubleshooting guide</a> ' +\n",
       "                'for more information on how to resolve this issue.</p>' +\n",
       "                '<p><a href=\"https://juliagizmos.github.io/WebIO.jl/latest/troubleshooting/not-detected/\" target=\"_blank\">https://juliagizmos.github.io/WebIO.jl/latest/troubleshooting/not-detected/</a></p>' +\n",
       "                '</div>'\n",
       "            );\n",
       "        return;\n",
       "    }\n",
       "    WebIO.mount(\n",
       "        document.querySelector('[data-webio-mountpoint=\"17100799183606943430\"]'),\n",
       "        {\"props\":{\"style\":{\"display\":\"flex\",\"flex-direction\":\"row\"}},\"nodeType\":\"DOM\",\"type\":\"node\",\"instanceArgs\":{\"namespace\":\"html\",\"tag\":\"div\"},\"children\":[{\"props\":{\"style\":{\"display\":\"flex\",\"flex-direction\":\"column\"}},\"nodeType\":\"DOM\",\"type\":\"node\",\"instanceArgs\":{\"namespace\":\"html\",\"tag\":\"div\"},\"children\":[{\"props\":{\"style\":{\"height\":\"4.0em\",\"width\":\"4.0em\",\"background\":\"purple\"}},\"nodeType\":\"DOM\",\"type\":\"node\",\"instanceArgs\":{\"namespace\":\"html\",\"tag\":\"div\"},\"children\":[]},{\"props\":{\"style\":{\"height\":\"4.0em\",\"width\":\"4.0em\",\"background\":\"pink\"}},\"nodeType\":\"DOM\",\"type\":\"node\",\"instanceArgs\":{\"namespace\":\"html\",\"tag\":\"div\"},\"children\":[]}]},{\"props\":{\"style\":{\"display\":\"flex\",\"flex-direction\":\"column\"}},\"nodeType\":\"DOM\",\"type\":\"node\",\"instanceArgs\":{\"namespace\":\"html\",\"tag\":\"div\"},\"children\":[{\"props\":{\"style\":{\"height\":\"4.0em\",\"width\":\"4.0em\",\"background\":\"pink\"}},\"nodeType\":\"DOM\",\"type\":\"node\",\"instanceArgs\":{\"namespace\":\"html\",\"tag\":\"div\"},\"children\":[]},{\"props\":{\"style\":{\"height\":\"4.0em\",\"width\":\"4.0em\",\"background\":\"purple\"}},\"nodeType\":\"DOM\",\"type\":\"node\",\"instanceArgs\":{\"namespace\":\"html\",\"tag\":\"div\"},\"children\":[]}]}]},\n",
       "        window,\n",
       "    );\n",
       "    })()\n",
       "    </script>\n",
       "</div>\n"
      ],
      "text/plain": [
       "(div { style=Dict(\"display\" => \"flex\", \"flex-direction\" => \"row\") }\n",
       "  (div { style=Dict(\"display\" => \"flex\", \"flex-direction\" => \"column\") }\n",
       "    (div { style=Dict{Any, Any}(\"height\" => 4.0em, \"width\" => 4.0em, \"background\" => \"purple\") })\n",
       "    (div { style=Dict{Any, Any}(\"height\" => 4.0em, \"width\" => 4.0em, \"background\" => \"pink\") }))\n",
       "  (div { style=Dict(\"display\" => \"flex\", \"flex-direction\" => \"column\") }\n",
       "    (div { style=Dict{Any, Any}(\"height\" => 4.0em, \"width\" => 4.0em, \"background\" => \"pink\") })\n",
       "    (div { style=Dict{Any, Any}(\"height\" => 4.0em, \"width\" => 4.0em, \"background\" => \"purple\") })))"
      ]
     },
     "execution_count": 15,
     "metadata": {
      "@webio": {
       "kernelId": "770db5ff-3bbd-4a98-a0ea-bfcaf1eefd6e"
      }
     },
     "output_type": "execute_result"
    }
   ],
   "source": [
    "hbox(vbox(purplebox, pinkbox),\n",
    "    vbox(pinkbox, purplebox))"
   ]
  },
  {
   "cell_type": "code",
   "execution_count": 16,
   "metadata": {},
   "outputs": [
    {
     "data": {
      "application/vnd.webio.node+json": {
       "children": [
        {
         "children": [
          {
           "children": [],
           "instanceArgs": {
            "namespace": "html",
            "tag": "div"
           },
           "nodeType": "DOM",
           "props": {
            "style": {
             "background": "purple",
             "height": "4.0em",
             "width": "4.0em"
            }
           },
           "type": "node"
          },
          {
           "children": [],
           "instanceArgs": {
            "namespace": "html",
            "tag": "div"
           },
           "nodeType": "DOM",
           "props": {
            "style": {
             "background": "pink",
             "height": "4.0em",
             "width": "4.0em"
            }
           },
           "type": "node"
          }
         ],
         "instanceArgs": {
          "namespace": "html",
          "tag": "div"
         },
         "nodeType": "DOM",
         "props": {
          "style": {
           "display": "flex",
           "flex-direction": "column"
          }
         },
         "type": "node"
        },
        {
         "children": [],
         "instanceArgs": {
          "namespace": "html",
          "tag": "div"
         },
         "nodeType": "DOM",
         "props": {
          "style": {
           "height": "0.0px",
           "width": "1.0em"
          }
         },
         "type": "node"
        },
        {
         "children": [
          {
           "children": [],
           "instanceArgs": {
            "namespace": "html",
            "tag": "div"
           },
           "nodeType": "DOM",
           "props": {
            "style": {
             "background": "pink",
             "height": "4.0em",
             "width": "4.0em"
            }
           },
           "type": "node"
          },
          {
           "children": [],
           "instanceArgs": {
            "namespace": "html",
            "tag": "div"
           },
           "nodeType": "DOM",
           "props": {
            "style": {
             "background": "purple",
             "height": "4.0em",
             "width": "4.0em"
            }
           },
           "type": "node"
          }
         ],
         "instanceArgs": {
          "namespace": "html",
          "tag": "div"
         },
         "nodeType": "DOM",
         "props": {
          "style": {
           "display": "flex",
           "flex-direction": "column"
          }
         },
         "type": "node"
        }
       ],
       "instanceArgs": {
        "namespace": "html",
        "tag": "div"
       },
       "nodeType": "DOM",
       "props": {
        "style": {
         "display": "flex",
         "flex-direction": "row"
        }
       },
       "type": "node"
      },
      "text/html": [
       "<div\n",
       "    class=\"webio-mountpoint\"\n",
       "    data-webio-mountpoint=\"5169943613215978440\"\n",
       ">\n",
       "    <script>\n",
       "    (function(){\n",
       "    // Some integrations (namely, IJulia/Jupyter) use an alternate render pathway than\n",
       "    // just putting the html on the page. If WebIO isn't defined, then it's pretty likely\n",
       "    // that we're in one of those situations and the integration just isn't installed\n",
       "    // correctly.\n",
       "    if (typeof window.WebIO === \"undefined\") {\n",
       "        document\n",
       "            .querySelector('[data-webio-mountpoint=\"5169943613215978440\"]')\n",
       "            .innerHTML = (\n",
       "                '<div style=\"padding: 1em; background-color: #f8d6da; border: 1px solid #f5c6cb; font-weight: bold;\">' +\n",
       "                '<p><strong>WebIO not detected.</strong></p>' +\n",
       "                '<p>Please read ' +\n",
       "                '<a href=\"https://juliagizmos.github.io/WebIO.jl/latest/troubleshooting/not-detected/\" target=\"_blank\">the troubleshooting guide</a> ' +\n",
       "                'for more information on how to resolve this issue.</p>' +\n",
       "                '<p><a href=\"https://juliagizmos.github.io/WebIO.jl/latest/troubleshooting/not-detected/\" target=\"_blank\">https://juliagizmos.github.io/WebIO.jl/latest/troubleshooting/not-detected/</a></p>' +\n",
       "                '</div>'\n",
       "            );\n",
       "        return;\n",
       "    }\n",
       "    WebIO.mount(\n",
       "        document.querySelector('[data-webio-mountpoint=\"5169943613215978440\"]'),\n",
       "        {\"props\":{\"style\":{\"display\":\"flex\",\"flex-direction\":\"row\"}},\"nodeType\":\"DOM\",\"type\":\"node\",\"instanceArgs\":{\"namespace\":\"html\",\"tag\":\"div\"},\"children\":[{\"props\":{\"style\":{\"display\":\"flex\",\"flex-direction\":\"column\"}},\"nodeType\":\"DOM\",\"type\":\"node\",\"instanceArgs\":{\"namespace\":\"html\",\"tag\":\"div\"},\"children\":[{\"props\":{\"style\":{\"height\":\"4.0em\",\"width\":\"4.0em\",\"background\":\"purple\"}},\"nodeType\":\"DOM\",\"type\":\"node\",\"instanceArgs\":{\"namespace\":\"html\",\"tag\":\"div\"},\"children\":[]},{\"props\":{\"style\":{\"height\":\"4.0em\",\"width\":\"4.0em\",\"background\":\"pink\"}},\"nodeType\":\"DOM\",\"type\":\"node\",\"instanceArgs\":{\"namespace\":\"html\",\"tag\":\"div\"},\"children\":[]}]},{\"props\":{\"style\":{\"height\":\"0.0px\",\"width\":\"1.0em\"}},\"nodeType\":\"DOM\",\"type\":\"node\",\"instanceArgs\":{\"namespace\":\"html\",\"tag\":\"div\"},\"children\":[]},{\"props\":{\"style\":{\"display\":\"flex\",\"flex-direction\":\"column\"}},\"nodeType\":\"DOM\",\"type\":\"node\",\"instanceArgs\":{\"namespace\":\"html\",\"tag\":\"div\"},\"children\":[{\"props\":{\"style\":{\"height\":\"4.0em\",\"width\":\"4.0em\",\"background\":\"pink\"}},\"nodeType\":\"DOM\",\"type\":\"node\",\"instanceArgs\":{\"namespace\":\"html\",\"tag\":\"div\"},\"children\":[]},{\"props\":{\"style\":{\"height\":\"4.0em\",\"width\":\"4.0em\",\"background\":\"purple\"}},\"nodeType\":\"DOM\",\"type\":\"node\",\"instanceArgs\":{\"namespace\":\"html\",\"tag\":\"div\"},\"children\":[]}]}]},\n",
       "        window,\n",
       "    );\n",
       "    })()\n",
       "    </script>\n",
       "</div>\n"
      ],
      "text/plain": [
       "(div { style=Dict(\"display\" => \"flex\", \"flex-direction\" => \"row\") }\n",
       "  (div { style=Dict(\"display\" => \"flex\", \"flex-direction\" => \"column\") }\n",
       "    (div { style=Dict{Any, Any}(\"height\" => 4.0em, \"width\" => 4.0em, \"background\" => \"purple\") })\n",
       "    (div { style=Dict{Any, Any}(\"height\" => 4.0em, \"width\" => 4.0em, \"background\" => \"pink\") }))\n",
       "  (div { style=Dict{String, Measures.Length{U, Float64} where U}(\"height\" => 0.0px, \"width\" => 1.0em) })\n",
       "  (div { style=Dict(\"display\" => \"flex\", \"flex-direction\" => \"column\") }\n",
       "    (div { style=Dict{Any, Any}(\"height\" => 4.0em, \"width\" => 4.0em, \"background\" => \"pink\") })\n",
       "    (div { style=Dict{Any, Any}(\"height\" => 4.0em, \"width\" => 4.0em, \"background\" => \"purple\") })))"
      ]
     },
     "execution_count": 16,
     "metadata": {
      "@webio": {
       "kernelId": "770db5ff-3bbd-4a98-a0ea-bfcaf1eefd6e"
      }
     },
     "output_type": "execute_result"
    }
   ],
   "source": [
    "hbox(vbox(purplebox, pinkbox),\n",
    "    hskip(1em),# give a horizontal spacing of 1em\n",
    "    vbox(pinkbox, purplebox))"
   ]
  },
  {
   "cell_type": "code",
   "execution_count": 17,
   "metadata": {},
   "outputs": [
    {
     "data": {
      "application/vnd.webio.node+json": {
       "children": [
        {
         "children": [
          {
           "children": [],
           "instanceArgs": {
            "namespace": "html",
            "tag": "div"
           },
           "nodeType": "DOM",
           "props": {
            "style": {
             "background": "purple",
             "height": "4.0em",
             "width": "4.0em"
            }
           },
           "type": "node"
          },
          {
           "children": [],
           "instanceArgs": {
            "namespace": "html",
            "tag": "div"
           },
           "nodeType": "DOM",
           "props": {
            "style": {
             "height": "1.0em",
             "width": "0.0px"
            }
           },
           "type": "node"
          },
          {
           "children": [],
           "instanceArgs": {
            "namespace": "html",
            "tag": "div"
           },
           "nodeType": "DOM",
           "props": {
            "style": {
             "background": "pink",
             "height": "4.0em",
             "width": "4.0em"
            }
           },
           "type": "node"
          }
         ],
         "instanceArgs": {
          "namespace": "html",
          "tag": "div"
         },
         "nodeType": "DOM",
         "props": {
          "style": {
           "display": "flex",
           "flex-direction": "column"
          }
         },
         "type": "node"
        },
        {
         "children": [],
         "instanceArgs": {
          "namespace": "html",
          "tag": "div"
         },
         "nodeType": "DOM",
         "props": {
          "style": {
           "height": "0.0px",
           "width": "1.0em"
          }
         },
         "type": "node"
        },
        {
         "children": [
          {
           "children": [],
           "instanceArgs": {
            "namespace": "html",
            "tag": "div"
           },
           "nodeType": "DOM",
           "props": {
            "style": {
             "background": "pink",
             "height": "4.0em",
             "width": "4.0em"
            }
           },
           "type": "node"
          },
          {
           "children": [],
           "instanceArgs": {
            "namespace": "html",
            "tag": "div"
           },
           "nodeType": "DOM",
           "props": {
            "style": {
             "height": "1.0em",
             "width": "0.0px"
            }
           },
           "type": "node"
          },
          {
           "children": [],
           "instanceArgs": {
            "namespace": "html",
            "tag": "div"
           },
           "nodeType": "DOM",
           "props": {
            "style": {
             "background": "purple",
             "height": "4.0em",
             "width": "4.0em"
            }
           },
           "type": "node"
          }
         ],
         "instanceArgs": {
          "namespace": "html",
          "tag": "div"
         },
         "nodeType": "DOM",
         "props": {
          "style": {
           "display": "flex",
           "flex-direction": "column"
          }
         },
         "type": "node"
        }
       ],
       "instanceArgs": {
        "namespace": "html",
        "tag": "div"
       },
       "nodeType": "DOM",
       "props": {
        "style": {
         "display": "flex",
         "flex-direction": "row"
        }
       },
       "type": "node"
      },
      "text/html": [
       "<div\n",
       "    class=\"webio-mountpoint\"\n",
       "    data-webio-mountpoint=\"12705610885502108211\"\n",
       ">\n",
       "    <script>\n",
       "    (function(){\n",
       "    // Some integrations (namely, IJulia/Jupyter) use an alternate render pathway than\n",
       "    // just putting the html on the page. If WebIO isn't defined, then it's pretty likely\n",
       "    // that we're in one of those situations and the integration just isn't installed\n",
       "    // correctly.\n",
       "    if (typeof window.WebIO === \"undefined\") {\n",
       "        document\n",
       "            .querySelector('[data-webio-mountpoint=\"12705610885502108211\"]')\n",
       "            .innerHTML = (\n",
       "                '<div style=\"padding: 1em; background-color: #f8d6da; border: 1px solid #f5c6cb; font-weight: bold;\">' +\n",
       "                '<p><strong>WebIO not detected.</strong></p>' +\n",
       "                '<p>Please read ' +\n",
       "                '<a href=\"https://juliagizmos.github.io/WebIO.jl/latest/troubleshooting/not-detected/\" target=\"_blank\">the troubleshooting guide</a> ' +\n",
       "                'for more information on how to resolve this issue.</p>' +\n",
       "                '<p><a href=\"https://juliagizmos.github.io/WebIO.jl/latest/troubleshooting/not-detected/\" target=\"_blank\">https://juliagizmos.github.io/WebIO.jl/latest/troubleshooting/not-detected/</a></p>' +\n",
       "                '</div>'\n",
       "            );\n",
       "        return;\n",
       "    }\n",
       "    WebIO.mount(\n",
       "        document.querySelector('[data-webio-mountpoint=\"12705610885502108211\"]'),\n",
       "        {\"props\":{\"style\":{\"display\":\"flex\",\"flex-direction\":\"row\"}},\"nodeType\":\"DOM\",\"type\":\"node\",\"instanceArgs\":{\"namespace\":\"html\",\"tag\":\"div\"},\"children\":[{\"props\":{\"style\":{\"display\":\"flex\",\"flex-direction\":\"column\"}},\"nodeType\":\"DOM\",\"type\":\"node\",\"instanceArgs\":{\"namespace\":\"html\",\"tag\":\"div\"},\"children\":[{\"props\":{\"style\":{\"height\":\"4.0em\",\"width\":\"4.0em\",\"background\":\"purple\"}},\"nodeType\":\"DOM\",\"type\":\"node\",\"instanceArgs\":{\"namespace\":\"html\",\"tag\":\"div\"},\"children\":[]},{\"props\":{\"style\":{\"height\":\"1.0em\",\"width\":\"0.0px\"}},\"nodeType\":\"DOM\",\"type\":\"node\",\"instanceArgs\":{\"namespace\":\"html\",\"tag\":\"div\"},\"children\":[]},{\"props\":{\"style\":{\"height\":\"4.0em\",\"width\":\"4.0em\",\"background\":\"pink\"}},\"nodeType\":\"DOM\",\"type\":\"node\",\"instanceArgs\":{\"namespace\":\"html\",\"tag\":\"div\"},\"children\":[]}]},{\"props\":{\"style\":{\"height\":\"0.0px\",\"width\":\"1.0em\"}},\"nodeType\":\"DOM\",\"type\":\"node\",\"instanceArgs\":{\"namespace\":\"html\",\"tag\":\"div\"},\"children\":[]},{\"props\":{\"style\":{\"display\":\"flex\",\"flex-direction\":\"column\"}},\"nodeType\":\"DOM\",\"type\":\"node\",\"instanceArgs\":{\"namespace\":\"html\",\"tag\":\"div\"},\"children\":[{\"props\":{\"style\":{\"height\":\"4.0em\",\"width\":\"4.0em\",\"background\":\"pink\"}},\"nodeType\":\"DOM\",\"type\":\"node\",\"instanceArgs\":{\"namespace\":\"html\",\"tag\":\"div\"},\"children\":[]},{\"props\":{\"style\":{\"height\":\"1.0em\",\"width\":\"0.0px\"}},\"nodeType\":\"DOM\",\"type\":\"node\",\"instanceArgs\":{\"namespace\":\"html\",\"tag\":\"div\"},\"children\":[]},{\"props\":{\"style\":{\"height\":\"4.0em\",\"width\":\"4.0em\",\"background\":\"purple\"}},\"nodeType\":\"DOM\",\"type\":\"node\",\"instanceArgs\":{\"namespace\":\"html\",\"tag\":\"div\"},\"children\":[]}]}]},\n",
       "        window,\n",
       "    );\n",
       "    })()\n",
       "    </script>\n",
       "</div>\n"
      ],
      "text/plain": [
       "(div { style=Dict(\"display\" => \"flex\", \"flex-direction\" => \"row\") }\n",
       "  (div { style=Dict(\"display\" => \"flex\", \"flex-direction\" => \"column\") }\n",
       "    (div { style=Dict{Any, Any}(\"height\" => 4.0em, \"width\" => 4.0em, \"background\" => \"purple\") })\n",
       "    (div { style=Dict{String, Measures.Length{U, Float64} where U}(\"height\" => 1.0em, \"width\" => 0.0px) })\n",
       "    (div { style=Dict{Any, Any}(\"height\" => 4.0em, \"width\" => 4.0em, \"background\" => \"pink\") }))\n",
       "  (div { style=Dict{String, Measures.Length{U, Float64} where U}(\"height\" => 0.0px, \"width\" => 1.0em) })\n",
       "  (div { style=Dict(\"display\" => \"flex\", \"flex-direction\" => \"column\") }\n",
       "    (div { style=Dict{Any, Any}(\"height\" => 4.0em, \"width\" => 4.0em, \"background\" => \"pink\") })\n",
       "    (div { style=Dict{String, Measures.Length{U, Float64} where U}(\"height\" => 1.0em, \"width\" => 0.0px) })\n",
       "    (div { style=Dict{Any, Any}(\"height\" => 4.0em, \"width\" => 4.0em, \"background\" => \"purple\") })))"
      ]
     },
     "execution_count": 17,
     "metadata": {
      "@webio": {
       "kernelId": "770db5ff-3bbd-4a98-a0ea-bfcaf1eefd6e"
      }
     },
     "output_type": "execute_result"
    }
   ],
   "source": [
    "# also add vertical spacing\n",
    "hbox(vbox(purplebox, vskip(1em), pinkbox),\n",
    "    hskip(1em),\n",
    "    vbox(pinkbox, vskip(1em), purplebox))"
   ]
  },
  {
   "cell_type": "code",
   "execution_count": 18,
   "metadata": {},
   "outputs": [
    {
     "data": {
      "application/vnd.webio.node+json": {
       "children": [
        {
         "children": [
          {
           "children": [
            "Hello, Markdown!"
           ],
           "instanceArgs": {
            "namespace": "html",
            "tag": "h1"
           },
           "nodeType": "DOM",
           "props": {},
           "type": "node"
          },
          {
           "children": [
            "Lorem ipsum"
           ],
           "instanceArgs": {
            "namespace": "html",
            "tag": "h2"
           },
           "nodeType": "DOM",
           "props": {},
           "type": "node"
          },
          {
           "children": [
            "Cauchy-Schwartz inequality:"
           ],
           "instanceArgs": {
            "namespace": "html",
            "tag": "p"
           },
           "nodeType": "DOM",
           "props": {},
           "type": "node"
          },
          {
           "children": [
            {
             "children": [],
             "instanceArgs": {
              "namespace": "html",
              "tag": "div"
             },
             "nodeType": "DOM",
             "props": {},
             "type": "node"
            }
           ],
           "instanceArgs": {
            "handlers": {},
            "id": "11324322950057973804",
            "imports": {
             "data": [
              {
               "name": null,
               "type": "js",
               "url": "https://cdn.jsdelivr.net/npm/katex@0.10.1/dist/katex.min.js"
              },
              {
               "name": null,
               "type": "css",
               "url": "https://cdn.jsdelivr.net/npm/katex@0.10.1/dist/katex.min.css"
              }
             ],
             "type": "async_block"
            },
            "mount_callbacks": [
             "function () {\n    var handler = (function (katex) {\nkatex.render(\"\\\\left(\\\\sum_{k=1}^n a_k b_k \\\\right)^2 \\\\leq\\n  \\\\left(\\\\sum_{k=1}^n a_k^2 \\\\right)  \\\\left(\\\\sum_{k=1}^n b_k^2 \\\\right)\", this.dom, {displayMode: true})\n});\n    (WebIO.importBlock({\"data\":[{\"name\":null,\"type\":\"js\",\"url\":\"https://cdn.jsdelivr.net/npm/katex@0.10.1/dist/katex.min.js\"},{\"name\":null,\"type\":\"css\",\"url\":\"https://cdn.jsdelivr.net/npm/katex@0.10.1/dist/katex.min.css\"}],\"type\":\"async_block\"})).then((imports) => handler.apply(this, imports));\n}\n"
            ],
            "observables": {},
            "systemjs_options": null
           },
           "nodeType": "Scope",
           "props": {},
           "type": "node"
          },
          {
           "children": [
            "function gcd(a::T, b::T) where T<:Integer\n    while b != 0\n        t = b\n        b = rem(a, b)\n        a = t\n    end\n    checked_abs(a)\nend"
           ],
           "instanceArgs": {
            "namespace": "html",
            "tag": "pre"
           },
           "nodeType": "DOM",
           "props": {},
           "type": "node"
          }
         ],
         "instanceArgs": {
          "namespace": "html",
          "tag": "div"
         },
         "nodeType": "DOM",
         "props": {
          "className": "jl-markdown",
          "style": {
           "display": "flex",
           "flex-direction": "column"
          }
         },
         "type": "node"
        }
       ],
       "instanceArgs": {
        "namespace": "html",
        "tag": "div"
       },
       "nodeType": "DOM",
       "props": {
        "style": {
         "background": "#fff1f0",
         "padding": "1.0em"
        }
       },
       "type": "node"
      },
      "text/html": [
       "<div\n",
       "    class=\"webio-mountpoint\"\n",
       "    data-webio-mountpoint=\"2275695153643667499\"\n",
       ">\n",
       "    <script>\n",
       "    (function(){\n",
       "    // Some integrations (namely, IJulia/Jupyter) use an alternate render pathway than\n",
       "    // just putting the html on the page. If WebIO isn't defined, then it's pretty likely\n",
       "    // that we're in one of those situations and the integration just isn't installed\n",
       "    // correctly.\n",
       "    if (typeof window.WebIO === \"undefined\") {\n",
       "        document\n",
       "            .querySelector('[data-webio-mountpoint=\"2275695153643667499\"]')\n",
       "            .innerHTML = (\n",
       "                '<div style=\"padding: 1em; background-color: #f8d6da; border: 1px solid #f5c6cb; font-weight: bold;\">' +\n",
       "                '<p><strong>WebIO not detected.</strong></p>' +\n",
       "                '<p>Please read ' +\n",
       "                '<a href=\"https://juliagizmos.github.io/WebIO.jl/latest/troubleshooting/not-detected/\" target=\"_blank\">the troubleshooting guide</a> ' +\n",
       "                'for more information on how to resolve this issue.</p>' +\n",
       "                '<p><a href=\"https://juliagizmos.github.io/WebIO.jl/latest/troubleshooting/not-detected/\" target=\"_blank\">https://juliagizmos.github.io/WebIO.jl/latest/troubleshooting/not-detected/</a></p>' +\n",
       "                '</div>'\n",
       "            );\n",
       "        return;\n",
       "    }\n",
       "    WebIO.mount(\n",
       "        document.querySelector('[data-webio-mountpoint=\"2275695153643667499\"]'),\n",
       "        {\"props\":{\"style\":{\"padding\":\"1.0em\",\"background\":\"#fff1f0\"}},\"nodeType\":\"DOM\",\"type\":\"node\",\"instanceArgs\":{\"namespace\":\"html\",\"tag\":\"div\"},\"children\":[{\"props\":{\"className\":\"jl-markdown\",\"style\":{\"display\":\"flex\",\"flex-direction\":\"column\"}},\"nodeType\":\"DOM\",\"type\":\"node\",\"instanceArgs\":{\"namespace\":\"html\",\"tag\":\"div\"},\"children\":[{\"props\":{},\"nodeType\":\"DOM\",\"type\":\"node\",\"instanceArgs\":{\"namespace\":\"html\",\"tag\":\"h1\"},\"children\":[\"Hello, Markdown!\"]},{\"props\":{},\"nodeType\":\"DOM\",\"type\":\"node\",\"instanceArgs\":{\"namespace\":\"html\",\"tag\":\"h2\"},\"children\":[\"Lorem ipsum\"]},{\"props\":{},\"nodeType\":\"DOM\",\"type\":\"node\",\"instanceArgs\":{\"namespace\":\"html\",\"tag\":\"p\"},\"children\":[\"Cauchy-Schwartz inequality:\"]},{\"props\":{},\"nodeType\":\"Scope\",\"type\":\"node\",\"instanceArgs\":{\"imports\":{\"data\":[{\"name\":null,\"type\":\"js\",\"url\":\"https:\\/\\/cdn.jsdelivr.net\\/npm\\/katex@0.10.1\\/dist\\/katex.min.js\"},{\"name\":null,\"type\":\"css\",\"url\":\"https:\\/\\/cdn.jsdelivr.net\\/npm\\/katex@0.10.1\\/dist\\/katex.min.css\"}],\"type\":\"async_block\"},\"id\":\"17081380535332226779\",\"handlers\":{},\"systemjs_options\":null,\"mount_callbacks\":[\"function () {\\n    var handler = (function (katex) {\\nkatex.render(\\\"\\\\\\\\left(\\\\\\\\sum_{k=1}^n a_k b_k \\\\\\\\right)^2 \\\\\\\\leq\\\\n  \\\\\\\\left(\\\\\\\\sum_{k=1}^n a_k^2 \\\\\\\\right)  \\\\\\\\left(\\\\\\\\sum_{k=1}^n b_k^2 \\\\\\\\right)\\\", this.dom, {displayMode: true})\\n});\\n    (WebIO.importBlock({\\\"data\\\":[{\\\"name\\\":null,\\\"type\\\":\\\"js\\\",\\\"url\\\":\\\"https:\\/\\/cdn.jsdelivr.net\\/npm\\/katex@0.10.1\\/dist\\/katex.min.js\\\"},{\\\"name\\\":null,\\\"type\\\":\\\"css\\\",\\\"url\\\":\\\"https:\\/\\/cdn.jsdelivr.net\\/npm\\/katex@0.10.1\\/dist\\/katex.min.css\\\"}],\\\"type\\\":\\\"async_block\\\"})).then((imports) => handler.apply(this, imports));\\n}\\n\"],\"observables\":{}},\"children\":[{\"props\":{},\"nodeType\":\"DOM\",\"type\":\"node\",\"instanceArgs\":{\"namespace\":\"html\",\"tag\":\"div\"},\"children\":[]}]},{\"props\":{},\"nodeType\":\"DOM\",\"type\":\"node\",\"instanceArgs\":{\"namespace\":\"html\",\"tag\":\"pre\"},\"children\":[\"function gcd(a::T, b::T) where T<:Integer\\n    while b != 0\\n        t = b\\n        b = rem(a, b)\\n        a = t\\n    end\\n    checked_abs(a)\\nend\"]}]}]},\n",
       "        window,\n",
       "    );\n",
       "    })()\n",
       "    </script>\n",
       "</div>\n"
      ],
      "text/plain": [
       "(div { style=Dict{Any, Any}(\"padding\" => 1.0em, \"background\" => \"#fff1f0\") }\n",
       "  # Hello, Markdown!\n",
       "\n",
       "## Lorem ipsum\n",
       "\n",
       "Cauchy-Schwartz inequality:\n",
       "\n",
       "$$\n",
       "\\left(\\sum_{k=1}^n a_k b_k \\right)^2 \\leq\n",
       "  \\left(\\sum_{k=1}^n a_k^2 \\right)  \\left(\\sum_{k=1}^n b_k^2 \\right)\n",
       "$$\n",
       "\n",
       "```julia\n",
       "function gcd(a::T, b::T) where T<:Integer\n",
       "    while b != 0\n",
       "        t = b\n",
       "        b = rem(a, b)\n",
       "        a = t\n",
       "    end\n",
       "    checked_abs(a)\n",
       "end\n",
       "```\n",
       ")"
      ]
     },
     "execution_count": 18,
     "metadata": {
      "@webio": {
       "kernelId": "770db5ff-3bbd-4a98-a0ea-bfcaf1eefd6e"
      }
     },
     "output_type": "execute_result"
    }
   ],
   "source": [
    "using Markdown\n",
    "mymarkdown = md\"\"\"\n",
    "# Hello, Markdown!\n",
    "## Lorem ipsum\n",
    "\n",
    "Cauchy-Schwartz inequality:\n",
    "\n",
    "$$\\left(\\sum_{k=1}^n a_k b_k \\right)^2 \\leq\n",
    "  \\left(\\sum_{k=1}^n a_k^2 \\right)  \\left(\\sum_{k=1}^n b_k^2 \\right)$$\n",
    "    \n",
    "```julia\n",
    "function gcd(a::T, b::T) where T<:Integer\n",
    "    while b != 0\n",
    "        t = b\n",
    "        b = rem(a, b)\n",
    "        a = t\n",
    "    end\n",
    "    checked_abs(a)\n",
    "end\n",
    "```\n",
    "\"\"\"\n",
    "\n",
    "pad(1em, mymarkdown)(background(\"#fff1f0\"))"
   ]
  },
  {
   "cell_type": "markdown",
   "metadata": {},
   "source": [
    "# JavaScript in Julia"
   ]
  },
  {
   "cell_type": "code",
   "execution_count": 19,
   "metadata": {},
   "outputs": [
    {
     "data": {
      "text/plain": [
       "WebIO.JSString(\"function () {\\n    alert(\\\"hi\\\") // you can interpolate Julia variables!\\n}\\n\")"
      ]
     },
     "execution_count": 19,
     "metadata": {},
     "output_type": "execute_result"
    }
   ],
   "source": [
    "message = \"hi\"\n",
    "\n",
    "callback = js\"\"\"\n",
    "function () {\n",
    "    alert($message) // you can interpolate Julia variables!\n",
    "}\n",
    "\"\"\"\n",
    "\n",
    "# note: if you change the value of message on Julia, it will not notify\n",
    "# javascript about it."
   ]
  },
  {
   "cell_type": "code",
   "execution_count": 20,
   "metadata": {},
   "outputs": [
    {
     "data": {
      "application/vnd.webio.node+json": {
       "children": [
        "Click me"
       ],
       "instanceArgs": {
        "namespace": "html",
        "tag": "button"
       },
       "nodeType": "DOM",
       "props": {
        "events": {
         "click": "function () {\n    alert(\"hi\") // you can interpolate Julia variables!\n}\n"
        }
       },
       "type": "node"
      },
      "text/html": [
       "<div\n",
       "    class=\"webio-mountpoint\"\n",
       "    data-webio-mountpoint=\"4442537759037433706\"\n",
       ">\n",
       "    <script>\n",
       "    (function(){\n",
       "    // Some integrations (namely, IJulia/Jupyter) use an alternate render pathway than\n",
       "    // just putting the html on the page. If WebIO isn't defined, then it's pretty likely\n",
       "    // that we're in one of those situations and the integration just isn't installed\n",
       "    // correctly.\n",
       "    if (typeof window.WebIO === \"undefined\") {\n",
       "        document\n",
       "            .querySelector('[data-webio-mountpoint=\"4442537759037433706\"]')\n",
       "            .innerHTML = (\n",
       "                '<div style=\"padding: 1em; background-color: #f8d6da; border: 1px solid #f5c6cb; font-weight: bold;\">' +\n",
       "                '<p><strong>WebIO not detected.</strong></p>' +\n",
       "                '<p>Please read ' +\n",
       "                '<a href=\"https://juliagizmos.github.io/WebIO.jl/latest/troubleshooting/not-detected/\" target=\"_blank\">the troubleshooting guide</a> ' +\n",
       "                'for more information on how to resolve this issue.</p>' +\n",
       "                '<p><a href=\"https://juliagizmos.github.io/WebIO.jl/latest/troubleshooting/not-detected/\" target=\"_blank\">https://juliagizmos.github.io/WebIO.jl/latest/troubleshooting/not-detected/</a></p>' +\n",
       "                '</div>'\n",
       "            );\n",
       "        return;\n",
       "    }\n",
       "    WebIO.mount(\n",
       "        document.querySelector('[data-webio-mountpoint=\"4442537759037433706\"]'),\n",
       "        {\"props\":{\"events\":{\"click\":\"function () {\\n    alert(\\\"hi\\\") \\/\\/ you can interpolate Julia variables!\\n}\\n\"}},\"nodeType\":\"DOM\",\"type\":\"node\",\"instanceArgs\":{\"namespace\":\"html\",\"tag\":\"button\"},\"children\":[\"Click me\"]},\n",
       "        window,\n",
       "    );\n",
       "    })()\n",
       "    </script>\n",
       "</div>\n"
      ],
      "text/plain": [
       "(button { events=Dict{String, WebIO.JSString}(\"click\" => WebIO.JSString(\"function () {\\n    alert(\\\"hi\\\") // you can interpolate Julia variables!\\n}\\n\")) }\n",
       "  \"Click me\")"
      ]
     },
     "execution_count": 20,
     "metadata": {
      "@webio": {
       "kernelId": "770db5ff-3bbd-4a98-a0ea-bfcaf1eefd6e"
      }
     },
     "output_type": "execute_result"
    }
   ],
   "source": [
    "node(:button,\n",
    "    \"Click me\",\n",
    "    events=Dict(\"click\" => callback)\n",
    ")"
   ]
  },
  {
   "cell_type": "code",
   "execution_count": 21,
   "metadata": {},
   "outputs": [],
   "source": [
    "using JSExpr"
   ]
  },
  {
   "cell_type": "code",
   "execution_count": 22,
   "metadata": {},
   "outputs": [
    {
     "data": {
      "text/plain": [
       "JSString(\"(function (x){return alert(\\\"hi\\\")})\")"
      ]
     },
     "execution_count": 22,
     "metadata": {},
     "output_type": "execute_result"
    }
   ],
   "source": [
    "fancy_callback = @js x -> alert(\"hi\")"
   ]
  },
  {
   "cell_type": "code",
   "execution_count": 23,
   "metadata": {},
   "outputs": [
    {
     "data": {
      "application/vnd.webio.node+json": {
       "children": [
        "Click me"
       ],
       "instanceArgs": {
        "namespace": "html",
        "tag": "button"
       },
       "nodeType": "DOM",
       "props": {
        "events": {
         "click": "(function (){return alert(\"hello, there!\")})"
        }
       },
       "type": "node"
      },
      "text/html": [
       "<div\n",
       "    class=\"webio-mountpoint\"\n",
       "    data-webio-mountpoint=\"16919756905811631644\"\n",
       ">\n",
       "    <script>\n",
       "    (function(){\n",
       "    // Some integrations (namely, IJulia/Jupyter) use an alternate render pathway than\n",
       "    // just putting the html on the page. If WebIO isn't defined, then it's pretty likely\n",
       "    // that we're in one of those situations and the integration just isn't installed\n",
       "    // correctly.\n",
       "    if (typeof window.WebIO === \"undefined\") {\n",
       "        document\n",
       "            .querySelector('[data-webio-mountpoint=\"16919756905811631644\"]')\n",
       "            .innerHTML = (\n",
       "                '<div style=\"padding: 1em; background-color: #f8d6da; border: 1px solid #f5c6cb; font-weight: bold;\">' +\n",
       "                '<p><strong>WebIO not detected.</strong></p>' +\n",
       "                '<p>Please read ' +\n",
       "                '<a href=\"https://juliagizmos.github.io/WebIO.jl/latest/troubleshooting/not-detected/\" target=\"_blank\">the troubleshooting guide</a> ' +\n",
       "                'for more information on how to resolve this issue.</p>' +\n",
       "                '<p><a href=\"https://juliagizmos.github.io/WebIO.jl/latest/troubleshooting/not-detected/\" target=\"_blank\">https://juliagizmos.github.io/WebIO.jl/latest/troubleshooting/not-detected/</a></p>' +\n",
       "                '</div>'\n",
       "            );\n",
       "        return;\n",
       "    }\n",
       "    WebIO.mount(\n",
       "        document.querySelector('[data-webio-mountpoint=\"16919756905811631644\"]'),\n",
       "        {\"props\":{\"events\":{\"click\":\"(function (){return alert(\\\"hello, there!\\\")})\"}},\"nodeType\":\"DOM\",\"type\":\"node\",\"instanceArgs\":{\"namespace\":\"html\",\"tag\":\"button\"},\"children\":[\"Click me\"]},\n",
       "        window,\n",
       "    );\n",
       "    })()\n",
       "    </script>\n",
       "</div>\n"
      ],
      "text/plain": [
       "(button { events=Dict{String, JSString}(\"click\" => JSString(\"(function (){return alert(\\\"hello, there!\\\")})\")) }\n",
       "  \"Click me\")"
      ]
     },
     "execution_count": 23,
     "metadata": {
      "@webio": {
       "kernelId": "770db5ff-3bbd-4a98-a0ea-bfcaf1eefd6e"
      }
     },
     "output_type": "execute_result"
    }
   ],
   "source": [
    "node(:button,\n",
    "    \"Click me\",\n",
    "    events = Dict(\n",
    "        \"click\" => @js ()->alert(\"hello, there!\")\n",
    "    )\n",
    ")"
   ]
  },
  {
   "cell_type": "markdown",
   "metadata": {},
   "source": [
    "# Communicating between Julia and JavaScript"
   ]
  },
  {
   "cell_type": "markdown",
   "metadata": {},
   "source": [
    "## A Digression: Observables\n",
    "\n",
    "They are like Refs but you can listen to their changes."
   ]
  },
  {
   "cell_type": "code",
   "execution_count": 24,
   "metadata": {},
   "outputs": [],
   "source": [
    "using Observables"
   ]
  },
  {
   "cell_type": "code",
   "execution_count": 25,
   "metadata": {},
   "outputs": [
    {
     "data": {
      "application/vnd.webio.node+json": {
       "children": [
        {
         "children": [],
         "instanceArgs": {
          "namespace": "html",
          "tag": "div"
         },
         "nodeType": "DOM",
         "props": {
          "className": "webio-observable",
          "setInnerHtml": "<pre>\"hi\"</pre>"
         },
         "type": "node"
        }
       ],
       "instanceArgs": {
        "handlers": {
         "obs-output": [
          "function (value, scope) {\n    scope.setInnerHTML(value);\n}\n"
         ]
        },
        "id": "5154729432974047718",
        "imports": {
         "data": [],
         "type": "async_block"
        },
        "mount_callbacks": [],
        "observables": {
         "obs-output": {
          "id": "3",
          "sync": false,
          "value": "<pre>\"hi\"</pre>"
         }
        },
        "systemjs_options": null
       },
       "nodeType": "Scope",
       "props": {},
       "type": "node"
      },
      "text/html": [
       "<div\n",
       "    class=\"webio-mountpoint\"\n",
       "    data-webio-mountpoint=\"3705729432904727735\"\n",
       ">\n",
       "    <script>\n",
       "    (function(){\n",
       "    // Some integrations (namely, IJulia/Jupyter) use an alternate render pathway than\n",
       "    // just putting the html on the page. If WebIO isn't defined, then it's pretty likely\n",
       "    // that we're in one of those situations and the integration just isn't installed\n",
       "    // correctly.\n",
       "    if (typeof window.WebIO === \"undefined\") {\n",
       "        document\n",
       "            .querySelector('[data-webio-mountpoint=\"3705729432904727735\"]')\n",
       "            .innerHTML = (\n",
       "                '<div style=\"padding: 1em; background-color: #f8d6da; border: 1px solid #f5c6cb; font-weight: bold;\">' +\n",
       "                '<p><strong>WebIO not detected.</strong></p>' +\n",
       "                '<p>Please read ' +\n",
       "                '<a href=\"https://juliagizmos.github.io/WebIO.jl/latest/troubleshooting/not-detected/\" target=\"_blank\">the troubleshooting guide</a> ' +\n",
       "                'for more information on how to resolve this issue.</p>' +\n",
       "                '<p><a href=\"https://juliagizmos.github.io/WebIO.jl/latest/troubleshooting/not-detected/\" target=\"_blank\">https://juliagizmos.github.io/WebIO.jl/latest/troubleshooting/not-detected/</a></p>' +\n",
       "                '</div>'\n",
       "            );\n",
       "        return;\n",
       "    }\n",
       "    WebIO.mount(\n",
       "        document.querySelector('[data-webio-mountpoint=\"3705729432904727735\"]'),\n",
       "        {\"props\":{},\"nodeType\":\"Scope\",\"type\":\"node\",\"instanceArgs\":{\"imports\":{\"data\":[],\"type\":\"async_block\"},\"id\":\"15395269473848110482\",\"handlers\":{\"obs-output\":[\"function (value, scope) {\\n    scope.setInnerHTML(value);\\n}\\n\"]},\"systemjs_options\":null,\"mount_callbacks\":[],\"observables\":{\"obs-output\":{\"sync\":false,\"id\":\"2\",\"value\":\"<pre>\\\"hi\\\"<\\/pre>\"}}},\"children\":[{\"props\":{\"className\":\"webio-observable\",\"setInnerHtml\":\"<pre>\\\"hi\\\"<\\/pre>\"},\"nodeType\":\"DOM\",\"type\":\"node\",\"instanceArgs\":{\"namespace\":\"html\",\"tag\":\"div\"},\"children\":[]}]},\n",
       "        window,\n",
       "    );\n",
       "    })()\n",
       "    </script>\n",
       "</div>\n"
      ],
      "text/plain": [
       "Observable(\"hi\")\n"
      ]
     },
     "execution_count": 25,
     "metadata": {
      "@webio": {
       "kernelId": "770db5ff-3bbd-4a98-a0ea-bfcaf1eefd6e"
      }
     },
     "output_type": "execute_result"
    }
   ],
   "source": [
    "observ = Observable(\"hi\")"
   ]
  },
  {
   "cell_type": "code",
   "execution_count": 26,
   "metadata": {},
   "outputs": [
    {
     "data": {
      "text/plain": [
       "\"Life\""
      ]
     },
     "execution_count": 26,
     "metadata": {},
     "output_type": "execute_result"
    }
   ],
   "source": [
    "observ[] = \"Life\""
   ]
  },
  {
   "cell_type": "code",
   "execution_count": 27,
   "metadata": {},
   "outputs": [
    {
     "data": {
      "text/plain": [
       "\"Life\""
      ]
     },
     "execution_count": 27,
     "metadata": {},
     "output_type": "execute_result"
    }
   ],
   "source": [
    "observ[]"
   ]
  },
  {
   "cell_type": "code",
   "execution_count": 28,
   "metadata": {},
   "outputs": [
    {
     "data": {
      "text/plain": [
       "ObserverFunction defined at In[28]:2 operating on Observable(\"Life\")"
      ]
     },
     "execution_count": 28,
     "metadata": {},
     "output_type": "execute_result"
    }
   ],
   "source": [
    "on(observ) do val\n",
    "    println(\"my value was updated to \", val)\n",
    "end"
   ]
  },
  {
   "cell_type": "code",
   "execution_count": 29,
   "metadata": {},
   "outputs": [
    {
     "name": "stdout",
     "output_type": "stream",
     "text": [
      "my value was updated to World\n"
     ]
    },
    {
     "data": {
      "text/plain": [
       "\"World\""
      ]
     },
     "execution_count": 29,
     "metadata": {},
     "output_type": "execute_result"
    }
   ],
   "source": [
    "observ[] = \"World\""
   ]
  },
  {
   "cell_type": "markdown",
   "metadata": {},
   "source": [
    "## JavaScript $\\rightarrow$ Julia"
   ]
  },
  {
   "cell_type": "code",
   "execution_count": 30,
   "metadata": {},
   "outputs": [
    {
     "data": {
      "application/vnd.webio.node+json": {
       "children": [
        {
         "children": [
          "Click me"
         ],
         "instanceArgs": {
          "namespace": "html",
          "tag": "button"
         },
         "nodeType": "DOM",
         "props": {
          "events": {
           "click": "(function (){return WebIO.setval({\"name\":\"clicks\",\"scope\":\"9814357888453648818\",\"id\":\"4\",\"type\":\"observable\"},(WebIO.getval({\"name\":\"clicks\",\"scope\":\"9814357888453648818\",\"id\":\"4\",\"type\":\"observable\"})+1))})"
          }
         },
         "type": "node"
        }
       ],
       "instanceArgs": {
        "handlers": {},
        "id": "9814357888453648818",
        "imports": {
         "data": [],
         "type": "async_block"
        },
        "mount_callbacks": [],
        "observables": {
         "clicks": {
          "id": "4",
          "sync": false,
          "value": 0
         }
        },
        "systemjs_options": null
       },
       "nodeType": "Scope",
       "props": {},
       "type": "node"
      },
      "text/html": [
       "<div\n",
       "    class=\"webio-mountpoint\"\n",
       "    data-webio-mountpoint=\"10286809615184278629\"\n",
       ">\n",
       "    <script>\n",
       "    (function(){\n",
       "    // Some integrations (namely, IJulia/Jupyter) use an alternate render pathway than\n",
       "    // just putting the html on the page. If WebIO isn't defined, then it's pretty likely\n",
       "    // that we're in one of those situations and the integration just isn't installed\n",
       "    // correctly.\n",
       "    if (typeof window.WebIO === \"undefined\") {\n",
       "        document\n",
       "            .querySelector('[data-webio-mountpoint=\"10286809615184278629\"]')\n",
       "            .innerHTML = (\n",
       "                '<div style=\"padding: 1em; background-color: #f8d6da; border: 1px solid #f5c6cb; font-weight: bold;\">' +\n",
       "                '<p><strong>WebIO not detected.</strong></p>' +\n",
       "                '<p>Please read ' +\n",
       "                '<a href=\"https://juliagizmos.github.io/WebIO.jl/latest/troubleshooting/not-detected/\" target=\"_blank\">the troubleshooting guide</a> ' +\n",
       "                'for more information on how to resolve this issue.</p>' +\n",
       "                '<p><a href=\"https://juliagizmos.github.io/WebIO.jl/latest/troubleshooting/not-detected/\" target=\"_blank\">https://juliagizmos.github.io/WebIO.jl/latest/troubleshooting/not-detected/</a></p>' +\n",
       "                '</div>'\n",
       "            );\n",
       "        return;\n",
       "    }\n",
       "    WebIO.mount(\n",
       "        document.querySelector('[data-webio-mountpoint=\"10286809615184278629\"]'),\n",
       "        {\"props\":{},\"nodeType\":\"Scope\",\"type\":\"node\",\"instanceArgs\":{\"imports\":{\"data\":[],\"type\":\"async_block\"},\"id\":\"9814357888453648818\",\"handlers\":{},\"systemjs_options\":null,\"mount_callbacks\":[],\"observables\":{\"clicks\":{\"sync\":false,\"id\":\"4\",\"value\":0}}},\"children\":[{\"props\":{\"events\":{\"click\":\"(function (){return WebIO.setval({\\\"name\\\":\\\"clicks\\\",\\\"scope\\\":\\\"9814357888453648818\\\",\\\"id\\\":\\\"4\\\",\\\"type\\\":\\\"observable\\\"},(WebIO.getval({\\\"name\\\":\\\"clicks\\\",\\\"scope\\\":\\\"9814357888453648818\\\",\\\"id\\\":\\\"4\\\",\\\"type\\\":\\\"observable\\\"})+1))})\"}},\"nodeType\":\"DOM\",\"type\":\"node\",\"instanceArgs\":{\"namespace\":\"html\",\"tag\":\"button\"},\"children\":[\"Click me\"]}]},\n",
       "        window,\n",
       "    );\n",
       "    })()\n",
       "    </script>\n",
       "</div>\n"
      ],
      "text/plain": [
       "Scope(Node{WebIO.DOM}(WebIO.DOM(:html, :button), Any[\"Click me\"], Dict{Symbol, Any}(:events => Dict{String, JSString}(\"click\" => JSString(\"(function (){return WebIO.setval({\\\"name\\\":\\\"clicks\\\",\\\"scope\\\":\\\"9814357888453648818\\\",\\\"id\\\":\\\"4\\\",\\\"type\\\":\\\"observable\\\"},(WebIO.getval({\\\"name\\\":\\\"clicks\\\",\\\"scope\\\":\\\"9814357888453648818\\\",\\\"id\\\":\\\"4\\\",\\\"type\\\":\\\"observable\\\"})+1))})\")))), Dict{String, Tuple{AbstractObservable, Union{Nothing, Bool}}}(\"clicks\" => (Observable(0), nothing)), Set{String}(), nothing, Asset[], Dict{Any, Any}(), WebIO.ConnectionPool(Channel{Any}(32), Set{AbstractConnection}(), Base.GenericCondition{ReentrantLock}(Base.IntrusiveLinkedList{Task}(Task (runnable, started) @0x000002118a2947d0, Task (runnable, started) @0x000002118a2947d0), ReentrantLock(nothing, 0x00000000, 0x00, Base.GenericCondition{Base.Threads.SpinLock}(Base.IntrusiveLinkedList{Task}(nothing, nothing), Base.Threads.SpinLock(0)), (2274349018832, 2274352814176, 145709735898)))), JSString[])"
      ]
     },
     "execution_count": 30,
     "metadata": {
      "@webio": {
       "kernelId": "770db5ff-3bbd-4a98-a0ea-bfcaf1eefd6e"
      }
     },
     "output_type": "execute_result"
    }
   ],
   "source": [
    "click_counter = Observable(0)\n",
    "\n",
    "btn_scope = Scope()\n",
    "btn_scope[\"clicks\"] = click_counter\n",
    "\n",
    "btn_scope.dom = node(:button,\n",
    "    \"Click me\",\n",
    "    events=Dict(\n",
    "        \"click\" => @js ()-> $click_counter[] = $click_counter[] + 1))\n",
    "\n",
    "btn_scope"
   ]
  },
  {
   "cell_type": "code",
   "execution_count": 31,
   "metadata": {},
   "outputs": [
    {
     "data": {
      "application/vnd.webio.node+json": {
       "children": [
        {
         "children": [],
         "instanceArgs": {
          "namespace": "html",
          "tag": "div"
         },
         "nodeType": "DOM",
         "props": {
          "className": "webio-observable",
          "setInnerHtml": "<pre>0</pre>"
         },
         "type": "node"
        }
       ],
       "instanceArgs": {
        "handlers": {
         "obs-output": [
          "function (value, scope) {\n    scope.setInnerHTML(value);\n}\n"
         ]
        },
        "id": "9817889502757561332",
        "imports": {
         "data": [],
         "type": "async_block"
        },
        "mount_callbacks": [],
        "observables": {
         "obs-output": {
          "id": "6",
          "sync": false,
          "value": "<pre>0</pre>"
         }
        },
        "systemjs_options": null
       },
       "nodeType": "Scope",
       "props": {},
       "type": "node"
      },
      "text/html": [
       "<div\n",
       "    class=\"webio-mountpoint\"\n",
       "    data-webio-mountpoint=\"10179756085997597723\"\n",
       ">\n",
       "    <script>\n",
       "    (function(){\n",
       "    // Some integrations (namely, IJulia/Jupyter) use an alternate render pathway than\n",
       "    // just putting the html on the page. If WebIO isn't defined, then it's pretty likely\n",
       "    // that we're in one of those situations and the integration just isn't installed\n",
       "    // correctly.\n",
       "    if (typeof window.WebIO === \"undefined\") {\n",
       "        document\n",
       "            .querySelector('[data-webio-mountpoint=\"10179756085997597723\"]')\n",
       "            .innerHTML = (\n",
       "                '<div style=\"padding: 1em; background-color: #f8d6da; border: 1px solid #f5c6cb; font-weight: bold;\">' +\n",
       "                '<p><strong>WebIO not detected.</strong></p>' +\n",
       "                '<p>Please read ' +\n",
       "                '<a href=\"https://juliagizmos.github.io/WebIO.jl/latest/troubleshooting/not-detected/\" target=\"_blank\">the troubleshooting guide</a> ' +\n",
       "                'for more information on how to resolve this issue.</p>' +\n",
       "                '<p><a href=\"https://juliagizmos.github.io/WebIO.jl/latest/troubleshooting/not-detected/\" target=\"_blank\">https://juliagizmos.github.io/WebIO.jl/latest/troubleshooting/not-detected/</a></p>' +\n",
       "                '</div>'\n",
       "            );\n",
       "        return;\n",
       "    }\n",
       "    WebIO.mount(\n",
       "        document.querySelector('[data-webio-mountpoint=\"10179756085997597723\"]'),\n",
       "        {\"props\":{},\"nodeType\":\"Scope\",\"type\":\"node\",\"instanceArgs\":{\"imports\":{\"data\":[],\"type\":\"async_block\"},\"id\":\"16686349850911423902\",\"handlers\":{\"obs-output\":[\"function (value, scope) {\\n    scope.setInnerHTML(value);\\n}\\n\"]},\"systemjs_options\":null,\"mount_callbacks\":[],\"observables\":{\"obs-output\":{\"sync\":false,\"id\":\"5\",\"value\":\"<pre>0<\\/pre>\"}}},\"children\":[{\"props\":{\"className\":\"webio-observable\",\"setInnerHtml\":\"<pre>0<\\/pre>\"},\"nodeType\":\"DOM\",\"type\":\"node\",\"instanceArgs\":{\"namespace\":\"html\",\"tag\":\"div\"},\"children\":[]}]},\n",
       "        window,\n",
       "    );\n",
       "    })()\n",
       "    </script>\n",
       "</div>\n"
      ],
      "text/plain": [
       "Observable(0)\n"
      ]
     },
     "execution_count": 31,
     "metadata": {
      "@webio": {
       "kernelId": "770db5ff-3bbd-4a98-a0ea-bfcaf1eefd6e"
      }
     },
     "output_type": "execute_result"
    }
   ],
   "source": [
    "click_counter"
   ]
  },
  {
   "cell_type": "code",
   "execution_count": 32,
   "metadata": {},
   "outputs": [
    {
     "data": {
      "application/vnd.webio.node+json": {
       "children": [
        {
         "children": [
          {
           "children": [
            "Click me"
           ],
           "instanceArgs": {
            "namespace": "html",
            "tag": "button"
           },
           "nodeType": "DOM",
           "props": {
            "events": {
             "click": "(function (){return WebIO.setval({\"name\":\"clicks\",\"scope\":\"9814357888453648818\",\"id\":\"4\",\"type\":\"observable\"},(WebIO.getval({\"name\":\"clicks\",\"scope\":\"9814357888453648818\",\"id\":\"4\",\"type\":\"observable\"})+1))})"
            }
           },
           "type": "node"
          }
         ],
         "instanceArgs": {
          "handlers": {},
          "id": "9814357888453648818",
          "imports": {
           "data": [],
           "type": "async_block"
          },
          "mount_callbacks": [],
          "observables": {
           "clicks": {
            "id": "4",
            "sync": true,
            "value": 0
           }
          },
          "systemjs_options": null
         },
         "nodeType": "Scope",
         "props": {},
         "type": "node"
        },
        {
         "children": [],
         "instanceArgs": {
          "namespace": "html",
          "tag": "div"
         },
         "nodeType": "DOM",
         "props": {
          "style": {
           "height": "0.0px",
           "width": "1.0em"
          }
         },
         "type": "node"
        },
        {
         "children": [
          {
           "children": [],
           "instanceArgs": {
            "namespace": "html",
            "tag": "div"
           },
           "nodeType": "DOM",
           "props": {
            "className": "webio-observable",
            "setInnerHtml": "<pre>0</pre>"
           },
           "type": "node"
          }
         ],
         "instanceArgs": {
          "handlers": {
           "obs-output": [
            "function (value, scope) {\n    scope.setInnerHTML(value);\n}\n"
           ]
          },
          "id": "1819659033025218785",
          "imports": {
           "data": [],
           "type": "async_block"
          },
          "mount_callbacks": [],
          "observables": {
           "obs-output": {
            "id": "8",
            "sync": false,
            "value": "<pre>0</pre>"
           }
          },
          "systemjs_options": null
         },
         "nodeType": "Scope",
         "props": {},
         "type": "node"
        }
       ],
       "instanceArgs": {
        "namespace": "html",
        "tag": "div"
       },
       "nodeType": "DOM",
       "props": {
        "style": {
         "display": "flex",
         "flex-direction": "row"
        }
       },
       "type": "node"
      },
      "text/html": [
       "<div\n",
       "    class=\"webio-mountpoint\"\n",
       "    data-webio-mountpoint=\"4567743586933524101\"\n",
       ">\n",
       "    <script>\n",
       "    (function(){\n",
       "    // Some integrations (namely, IJulia/Jupyter) use an alternate render pathway than\n",
       "    // just putting the html on the page. If WebIO isn't defined, then it's pretty likely\n",
       "    // that we're in one of those situations and the integration just isn't installed\n",
       "    // correctly.\n",
       "    if (typeof window.WebIO === \"undefined\") {\n",
       "        document\n",
       "            .querySelector('[data-webio-mountpoint=\"4567743586933524101\"]')\n",
       "            .innerHTML = (\n",
       "                '<div style=\"padding: 1em; background-color: #f8d6da; border: 1px solid #f5c6cb; font-weight: bold;\">' +\n",
       "                '<p><strong>WebIO not detected.</strong></p>' +\n",
       "                '<p>Please read ' +\n",
       "                '<a href=\"https://juliagizmos.github.io/WebIO.jl/latest/troubleshooting/not-detected/\" target=\"_blank\">the troubleshooting guide</a> ' +\n",
       "                'for more information on how to resolve this issue.</p>' +\n",
       "                '<p><a href=\"https://juliagizmos.github.io/WebIO.jl/latest/troubleshooting/not-detected/\" target=\"_blank\">https://juliagizmos.github.io/WebIO.jl/latest/troubleshooting/not-detected/</a></p>' +\n",
       "                '</div>'\n",
       "            );\n",
       "        return;\n",
       "    }\n",
       "    WebIO.mount(\n",
       "        document.querySelector('[data-webio-mountpoint=\"4567743586933524101\"]'),\n",
       "        {\"props\":{\"style\":{\"display\":\"flex\",\"flex-direction\":\"row\"}},\"nodeType\":\"DOM\",\"type\":\"node\",\"instanceArgs\":{\"namespace\":\"html\",\"tag\":\"div\"},\"children\":[{\"props\":{},\"nodeType\":\"Scope\",\"type\":\"node\",\"instanceArgs\":{\"imports\":{\"data\":[],\"type\":\"async_block\"},\"id\":\"9814357888453648818\",\"handlers\":{},\"systemjs_options\":null,\"mount_callbacks\":[],\"observables\":{\"clicks\":{\"sync\":true,\"id\":\"4\",\"value\":0}}},\"children\":[{\"props\":{\"events\":{\"click\":\"(function (){return WebIO.setval({\\\"name\\\":\\\"clicks\\\",\\\"scope\\\":\\\"9814357888453648818\\\",\\\"id\\\":\\\"4\\\",\\\"type\\\":\\\"observable\\\"},(WebIO.getval({\\\"name\\\":\\\"clicks\\\",\\\"scope\\\":\\\"9814357888453648818\\\",\\\"id\\\":\\\"4\\\",\\\"type\\\":\\\"observable\\\"})+1))})\"}},\"nodeType\":\"DOM\",\"type\":\"node\",\"instanceArgs\":{\"namespace\":\"html\",\"tag\":\"button\"},\"children\":[\"Click me\"]}]},{\"props\":{\"style\":{\"height\":\"0.0px\",\"width\":\"1.0em\"}},\"nodeType\":\"DOM\",\"type\":\"node\",\"instanceArgs\":{\"namespace\":\"html\",\"tag\":\"div\"},\"children\":[]},{\"props\":{},\"nodeType\":\"Scope\",\"type\":\"node\",\"instanceArgs\":{\"imports\":{\"data\":[],\"type\":\"async_block\"},\"id\":\"14273095420723047522\",\"handlers\":{\"obs-output\":[\"function (value, scope) {\\n    scope.setInnerHTML(value);\\n}\\n\"]},\"systemjs_options\":null,\"mount_callbacks\":[],\"observables\":{\"obs-output\":{\"sync\":false,\"id\":\"7\",\"value\":\"<pre>0<\\/pre>\"}}},\"children\":[{\"props\":{\"className\":\"webio-observable\",\"setInnerHtml\":\"<pre>0<\\/pre>\"},\"nodeType\":\"DOM\",\"type\":\"node\",\"instanceArgs\":{\"namespace\":\"html\",\"tag\":\"div\"},\"children\":[]}]}]},\n",
       "        window,\n",
       "    );\n",
       "    })()\n",
       "    </script>\n",
       "</div>\n"
      ],
      "text/plain": [
       "(div { style=Dict(\"display\" => \"flex\", \"flex-direction\" => \"row\") }\n",
       "    (button { events=Dict{String, JSString}(\"click\" => JSString(\"(function (){return WebIO.setval({\\\"name\\\":\\\"clicks\\\",\\\"scope\\\":\\\"9814357888453648818\\\",\\\"id\\\":\\\"4\\\",\\\"type\\\":\\\"observable\\\"},(WebIO.getval({\\\"name\\\":\\\"clicks\\\",\\\"scope\\\":\\\"9814357888453648818\\\",\\\"id\\\":\\\"4\\\",\\\"type\\\":\\\"observable\\\"})+1))})\")) }\n",
       "    \"Click me\")\n",
       "  (div { style=Dict{String, Measures.Length{U, Float64} where U}(\"height\" => 0.0px, \"width\" => 1.0em) })\n",
       "  Observable(0))"
      ]
     },
     "execution_count": 32,
     "metadata": {
      "@webio": {
       "kernelId": "770db5ff-3bbd-4a98-a0ea-bfcaf1eefd6e"
      }
     },
     "output_type": "execute_result"
    }
   ],
   "source": [
    "# You can place an observable in the DOM, and it will auto-update\n",
    "hbox(btn_scope, hskip(1em), click_counter)"
   ]
  },
  {
   "cell_type": "markdown",
   "metadata": {},
   "source": [
    "# Julia $\\rightarrow$ JavaScript"
   ]
  },
  {
   "cell_type": "code",
   "execution_count": 33,
   "metadata": {},
   "outputs": [
    {
     "data": {
      "application/vnd.webio.node+json": {
       "children": [
        {
         "children": [
          {
           "children": [],
           "instanceArgs": {
            "namespace": "html",
            "tag": "div"
           },
           "nodeType": "DOM",
           "props": {
            "id": "prog",
            "style": {
             "background": "purple",
             "float": "left",
             "height": "1.0em"
            }
           },
           "type": "node"
          }
         ],
         "instanceArgs": {
          "namespace": "html",
          "tag": "div"
         },
         "nodeType": "DOM",
         "props": {
          "style": {
           "background": "pink",
           "height": "1.0em"
          }
         },
         "type": "node"
        }
       ],
       "instanceArgs": {
        "handlers": {
         "progress": [
          "(function (prog){return this.dom.querySelector(\"#prog\").style.width=((prog*100)+\"%\")})"
         ]
        },
        "id": "17947045170092816063",
        "imports": {
         "data": [],
         "type": "async_block"
        },
        "mount_callbacks": [],
        "observables": {
         "progress": {
          "id": "9",
          "sync": false,
          "value": 0
         }
        },
        "systemjs_options": null
       },
       "nodeType": "Scope",
       "props": {},
       "type": "node"
      },
      "text/html": [
       "<div\n",
       "    class=\"webio-mountpoint\"\n",
       "    data-webio-mountpoint=\"5072090579702369994\"\n",
       ">\n",
       "    <script>\n",
       "    (function(){\n",
       "    // Some integrations (namely, IJulia/Jupyter) use an alternate render pathway than\n",
       "    // just putting the html on the page. If WebIO isn't defined, then it's pretty likely\n",
       "    // that we're in one of those situations and the integration just isn't installed\n",
       "    // correctly.\n",
       "    if (typeof window.WebIO === \"undefined\") {\n",
       "        document\n",
       "            .querySelector('[data-webio-mountpoint=\"5072090579702369994\"]')\n",
       "            .innerHTML = (\n",
       "                '<div style=\"padding: 1em; background-color: #f8d6da; border: 1px solid #f5c6cb; font-weight: bold;\">' +\n",
       "                '<p><strong>WebIO not detected.</strong></p>' +\n",
       "                '<p>Please read ' +\n",
       "                '<a href=\"https://juliagizmos.github.io/WebIO.jl/latest/troubleshooting/not-detected/\" target=\"_blank\">the troubleshooting guide</a> ' +\n",
       "                'for more information on how to resolve this issue.</p>' +\n",
       "                '<p><a href=\"https://juliagizmos.github.io/WebIO.jl/latest/troubleshooting/not-detected/\" target=\"_blank\">https://juliagizmos.github.io/WebIO.jl/latest/troubleshooting/not-detected/</a></p>' +\n",
       "                '</div>'\n",
       "            );\n",
       "        return;\n",
       "    }\n",
       "    WebIO.mount(\n",
       "        document.querySelector('[data-webio-mountpoint=\"5072090579702369994\"]'),\n",
       "        {\"props\":{},\"nodeType\":\"Scope\",\"type\":\"node\",\"instanceArgs\":{\"imports\":{\"data\":[],\"type\":\"async_block\"},\"id\":\"17947045170092816063\",\"handlers\":{\"progress\":[\"(function (prog){return this.dom.querySelector(\\\"#prog\\\").style.width=((prog*100)+\\\"%\\\")})\"]},\"systemjs_options\":null,\"mount_callbacks\":[],\"observables\":{\"progress\":{\"sync\":false,\"id\":\"9\",\"value\":0.0}}},\"children\":[{\"props\":{\"style\":{\"height\":\"1.0em\",\"background\":\"pink\"}},\"nodeType\":\"DOM\",\"type\":\"node\",\"instanceArgs\":{\"namespace\":\"html\",\"tag\":\"div\"},\"children\":[{\"props\":{\"id\":\"prog\",\"style\":{\"height\":\"1.0em\",\"float\":\"left\",\"background\":\"purple\"}},\"nodeType\":\"DOM\",\"type\":\"node\",\"instanceArgs\":{\"namespace\":\"html\",\"tag\":\"div\"},\"children\":[]}]}]},\n",
       "        window,\n",
       "    );\n",
       "    })()\n",
       "    </script>\n",
       "</div>\n"
      ],
      "text/plain": [
       "Scope(Node{WebIO.DOM}(WebIO.DOM(:html, :div), Any[Node{WebIO.DOM}(WebIO.DOM(:html, :div), Any[], Dict{Symbol, Any}(:id => \"prog\", :style => Dict{Symbol, Any}(:height => 1.0em, :float => :left, :background => \"purple\")))], Dict{Symbol, Any}(:style => Dict{Symbol, Any}(:height => 1.0em, :background => \"pink\"))), Dict{String, Tuple{AbstractObservable, Union{Nothing, Bool}}}(\"progress\" => (Observable(0.0), nothing)), Set{String}(), nothing, Asset[], Dict{Any, Any}(\"progress\" => Any[JSString(\"(function (prog){return this.dom.querySelector(\\\"#prog\\\").style.width=((prog*100)+\\\"%\\\")})\")]), WebIO.ConnectionPool(Channel{Any}(32), Set{AbstractConnection}(), Base.GenericCondition{ReentrantLock}(Base.IntrusiveLinkedList{Task}(Task (runnable, started) @0x000002118bc4eca0, Task (runnable, started) @0x000002118bc4eca0), ReentrantLock(nothing, 0x00000000, 0x00, Base.GenericCondition{Base.Threads.SpinLock}(Base.IntrusiveLinkedList{Task}(nothing, nothing), Base.Threads.SpinLock(0)), (2275104945792, 140730434439104, 142164073370)))), JSString[])"
      ]
     },
     "execution_count": 33,
     "metadata": {
      "@webio": {
       "kernelId": "770db5ff-3bbd-4a98-a0ea-bfcaf1eefd6e"
      }
     },
     "output_type": "execute_result"
    }
   ],
   "source": [
    "prog_scope = Scope()\n",
    "progress = Observable(prog_scope, \"progress\", 0.0)\n",
    "prog_scope.dom = node(:div,\n",
    "    style=Dict(\n",
    "        :height=>1em,\n",
    "        :background => \"pink\"),\n",
    "    node(:div,\n",
    "        id=\"prog\",\n",
    "        style=Dict(\n",
    "            :height=>1em,\n",
    "            :float=>:left,\n",
    "            :background=>\"purple\")))\n",
    "\n",
    "callback = @js function (prog)\n",
    "    # `this` refers to the scope object in javascript\n",
    "    # `this.dom` is the DOM where the scope's content\n",
    "    # is rendered.\n",
    "    this.dom.querySelector(\"#prog\").style.width = prog*100+\"%\"\n",
    "end\n",
    "onjs(progress, callback)\n",
    "\n",
    "prog_scope"
   ]
  },
  {
   "cell_type": "code",
   "execution_count": 34,
   "metadata": {},
   "outputs": [],
   "source": [
    "for i=1:100\n",
    "    progress[] = i/100\n",
    "    sleep(0.01)\n",
    "end"
   ]
  },
  {
   "cell_type": "markdown",
   "metadata": {},
   "source": [
    "# Loading assets"
   ]
  },
  {
   "cell_type": "markdown",
   "metadata": {},
   "source": [
    "\"Assets\" in web development jargon means helper or dependency files that maybe JavaScript, CSS, images or even HTML.\n",
    "\n",
    "- **Problem:** The browser cannot load arbitrary files from your computer, for obvious security reasons. So you need to serve it using a web server.\n",
    "- **Solution:** serve the required file or directory over HTTP and use the URL it is available at.\n",
    "- **But** WebIO does not have a HTTP server of its own. It needs to work with Jupyter/Atom/Mux.\n",
    "\n",
    "\n",
    "We solve this problem through the package AssetRegistry.jl -- you can use `AssetRegistry.register` to register a file to be served. This function gives back a URL the file is available at. WebIO has plugins for Jupyter/Atom/Mux which will make sure that these files are available to you at the URL AssetRegistry said it will be at.\n",
    "\n",
    "TODO: add picture!"
   ]
  },
  {
   "cell_type": "code",
   "execution_count": 35,
   "metadata": {},
   "outputs": [
    {
     "name": "stderr",
     "output_type": "stream",
     "text": [
      "\u001b[32m\u001b[1m   Resolving\u001b[22m\u001b[39m package versions...\n",
      "\u001b[32m\u001b[1m  No Changes\u001b[22m\u001b[39m to `C:\\Users\\20172517\\.julia\\environments\\v1.11\\Project.toml`\n",
      "\u001b[32m\u001b[1m  No Changes\u001b[22m\u001b[39m to `C:\\Users\\20172517\\.julia\\environments\\v1.11\\Manifest.toml`\n"
     ]
    }
   ],
   "source": [
    "]add AssetRegistry"
   ]
  },
  {
   "cell_type": "code",
   "execution_count": 36,
   "metadata": {},
   "outputs": [],
   "source": [
    "using AssetRegistry"
   ]
  },
  {
   "cell_type": "code",
   "execution_count": 37,
   "metadata": {},
   "outputs": [
    {
     "ename": "LoadError",
     "evalue": "Asset not found",
     "output_type": "error",
     "traceback": [
      "Asset not found",
      "",
      "Stacktrace:",
      " [1] error(s::String)",
      "   @ Base .\\error.jl:35",
      " [2] register(path::String; registry_file::String)",
      "   @ AssetRegistry C:\\Users\\20172517\\.julia\\packages\\AssetRegistry\\4TyKv\\src\\AssetRegistry.jl:30",
      " [3] register(path::String)",
      "   @ AssetRegistry C:\\Users\\20172517\\.julia\\packages\\AssetRegistry\\4TyKv\\src\\AssetRegistry.jl:28",
      " [4] top-level scope",
      "   @ In[37]:1"
     ]
    }
   ],
   "source": [
    "gif_url = AssetRegistry.register(\"./animated-logo.gif\")"
   ]
  },
  {
   "cell_type": "code",
   "execution_count": 38,
   "metadata": {},
   "outputs": [
    {
     "ename": "LoadError",
     "evalue": "UndefVarError: `gif_url` not defined in `Main`\nSuggestion: check for spelling errors or missing imports.",
     "output_type": "error",
     "traceback": [
      "UndefVarError: `gif_url` not defined in `Main`\nSuggestion: check for spelling errors or missing imports.",
      "",
      "Stacktrace:",
      " [1] top-level scope",
      "   @ In[38]:1"
     ]
    }
   ],
   "source": [
    "node(:img, src=gif_url)"
   ]
  },
  {
   "cell_type": "markdown",
   "metadata": {},
   "source": [
    "# JavaScript Loading\n",
    "\n",
    "Loading a JavaScript file is almost always followed by executing some code which uses functions from that file.\n",
    "\n",
    "\n",
    "The WebIO way to load a JavaScript file is to provide a URL or filepath to the javascript file as the `imports` key word argument when creating a `Scope`. Then you can use `onimport` to define a callback that is run when the javascript file is loaded."
   ]
  },
  {
   "cell_type": "code",
   "execution_count": 39,
   "metadata": {},
   "outputs": [],
   "source": [
    "# Let's first download a javascript file\n",
    "if !isfile(\"moment.min.js\")\n",
    "    download(\n",
    "        \"https://momentjs.com/downloads/moment.min.js\",\n",
    "        \"moment.min.js\")\n",
    "end"
   ]
  },
  {
   "cell_type": "code",
   "execution_count": 40,
   "metadata": {},
   "outputs": [
    {
     "data": {
      "application/vnd.webio.node+json": {
       "children": [
        {
         "children": [
          "<loading moment>"
         ],
         "instanceArgs": {
          "namespace": "html",
          "tag": "span"
         },
         "nodeType": "DOM",
         "props": {
          "id": "humantime"
         },
         "type": "node"
        }
       ],
       "instanceArgs": {
        "handlers": {},
        "id": "9025997101030431775",
        "imports": {
         "data": [
          {
           "name": null,
           "type": "js",
           "url": "/assetserver/d52cc32c7d8e1c92c0c320ddac7210c0c1eb8525-moment.min.js"
          }
         ],
         "type": "async_block"
        },
        "mount_callbacks": [
         "function () {\n    var handler = ((function (moment){return this.dom.querySelector(\"#humantime\").textContent=moment(\"19470815\",\"YYYYMMDD\").fromNow()}));\n    (WebIO.importBlock({\"data\":[{\"name\":null,\"type\":\"js\",\"url\":\"/assetserver/d52cc32c7d8e1c92c0c320ddac7210c0c1eb8525-moment.min.js\"}],\"type\":\"async_block\"})).then((imports) => handler.apply(this, imports));\n}\n"
        ],
        "observables": {},
        "systemjs_options": null
       },
       "nodeType": "Scope",
       "props": {},
       "type": "node"
      },
      "text/html": [
       "<div\n",
       "    class=\"webio-mountpoint\"\n",
       "    data-webio-mountpoint=\"3313158083043148119\"\n",
       ">\n",
       "    <script>\n",
       "    (function(){\n",
       "    // Some integrations (namely, IJulia/Jupyter) use an alternate render pathway than\n",
       "    // just putting the html on the page. If WebIO isn't defined, then it's pretty likely\n",
       "    // that we're in one of those situations and the integration just isn't installed\n",
       "    // correctly.\n",
       "    if (typeof window.WebIO === \"undefined\") {\n",
       "        document\n",
       "            .querySelector('[data-webio-mountpoint=\"3313158083043148119\"]')\n",
       "            .innerHTML = (\n",
       "                '<div style=\"padding: 1em; background-color: #f8d6da; border: 1px solid #f5c6cb; font-weight: bold;\">' +\n",
       "                '<p><strong>WebIO not detected.</strong></p>' +\n",
       "                '<p>Please read ' +\n",
       "                '<a href=\"https://juliagizmos.github.io/WebIO.jl/latest/troubleshooting/not-detected/\" target=\"_blank\">the troubleshooting guide</a> ' +\n",
       "                'for more information on how to resolve this issue.</p>' +\n",
       "                '<p><a href=\"https://juliagizmos.github.io/WebIO.jl/latest/troubleshooting/not-detected/\" target=\"_blank\">https://juliagizmos.github.io/WebIO.jl/latest/troubleshooting/not-detected/</a></p>' +\n",
       "                '</div>'\n",
       "            );\n",
       "        return;\n",
       "    }\n",
       "    WebIO.mount(\n",
       "        document.querySelector('[data-webio-mountpoint=\"3313158083043148119\"]'),\n",
       "        {\"props\":{},\"nodeType\":\"Scope\",\"type\":\"node\",\"instanceArgs\":{\"imports\":{\"data\":[{\"name\":null,\"type\":\"js\",\"url\":\"\\/assetserver\\/d52cc32c7d8e1c92c0c320ddac7210c0c1eb8525-moment.min.js\"}],\"type\":\"async_block\"},\"id\":\"9025997101030431775\",\"handlers\":{},\"systemjs_options\":null,\"mount_callbacks\":[\"function () {\\n    var handler = ((function (moment){return this.dom.querySelector(\\\"#humantime\\\").textContent=moment(\\\"19470815\\\",\\\"YYYYMMDD\\\").fromNow()}));\\n    (WebIO.importBlock({\\\"data\\\":[{\\\"name\\\":null,\\\"type\\\":\\\"js\\\",\\\"url\\\":\\\"\\/assetserver\\/d52cc32c7d8e1c92c0c320ddac7210c0c1eb8525-moment.min.js\\\"}],\\\"type\\\":\\\"async_block\\\"})).then((imports) => handler.apply(this, imports));\\n}\\n\"],\"observables\":{}},\"children\":[{\"props\":{\"id\":\"humantime\"},\"nodeType\":\"DOM\",\"type\":\"node\",\"instanceArgs\":{\"namespace\":\"html\",\"tag\":\"span\"},\"children\":[\"<loading moment>\"]}]},\n",
       "        window,\n",
       "    );\n",
       "    })()\n",
       "    </script>\n",
       "</div>\n"
      ],
      "text/plain": [
       "Scope(Node{WebIO.DOM}(WebIO.DOM(:html, :span), Any[\"<loading moment>\"], Dict{Symbol, Any}(:id => \"humantime\")), Dict{String, Tuple{AbstractObservable, Union{Nothing, Bool}}}(), Set{String}(), nothing, Asset[Asset(\"js\", nothing, \"./moment.min.js\")], Dict{Any, Any}(), WebIO.ConnectionPool(Channel{Any}(32), Set{AbstractConnection}(), Base.GenericCondition{ReentrantLock}(Base.IntrusiveLinkedList{Task}(Task (runnable, started) @0x00000211b7d943f0, Task (runnable, started) @0x00000211b7d943f0), ReentrantLock(nothing, 0x00000000, 0x00, Base.GenericCondition{Base.Threads.SpinLock}(Base.IntrusiveLinkedList{Task}(nothing, nothing), Base.Threads.SpinLock(0)), (1, 2274955639664, 140730421768352)))), JSString[JSString(\"function () {\\n    var handler = ((function (moment){return this.dom.querySelector(\\\"#humantime\\\").textContent=moment(\\\"19470815\\\",\\\"YYYYMMDD\\\").fromNow()}));\\n    (WebIO.importBlock({\\\"data\\\":[{\\\"name\\\":null,\\\"type\\\":\\\"js\\\",\\\"url\\\":\\\"/assetserver/d52cc32c7d8e1c92c0c320ddac7210c0c1eb8525-moment.min.js\\\"}],\\\"type\\\":\\\"async_block\\\"})).then((imports) => handler.apply(this, imports));\\n}\\n\")])"
      ]
     },
     "execution_count": 40,
     "metadata": {
      "@webio": {
       "kernelId": "770db5ff-3bbd-4a98-a0ea-bfcaf1eefd6e"
      }
     },
     "output_type": "execute_result"
    }
   ],
   "source": [
    "# Scope automatically asks AssetRegistry to register any local JS paths\n",
    "# you can also use a publicly available URL instead of a file path\n",
    "moment_scope = Scope(imports=[\"./moment.min.js\"])\n",
    "\n",
    "moment_scope.dom = node(:span, id=\"humantime\", \"<loading moment>\")\n",
    "\n",
    "onimport(moment_scope,\n",
    "    @js function (moment) # The javascript module!\n",
    "            this.dom.querySelector(\"#humantime\").textContent =\n",
    "                moment(\"19470815\", \"YYYYMMDD\").fromNow()\n",
    "        end)"
   ]
  },
  {
   "cell_type": "code",
   "execution_count": 41,
   "metadata": {},
   "outputs": [
    {
     "data": {
      "text/plain": [
       "fromnow (generic function with 1 method)"
      ]
     },
     "execution_count": 41,
     "metadata": {},
     "output_type": "execute_result"
    }
   ],
   "source": [
    "function fromnow(date)\n",
    "        # Scope automatically asks AssetRegistry to register any local JS paths\n",
    "    # you can also use a publicly available URL instead of a file path\n",
    "    moment_scope = Scope(imports=[\"./moment.min.js\"])\n",
    "\n",
    "    moment_scope.dom = node(:span, id=\"humantime\", \"<loading moment>\")\n",
    "\n",
    "    onimport(moment_scope,\n",
    "        @js function (moment) # The javascript module!\n",
    "                this.dom.querySelector(\"#humantime\").textContent =\n",
    "                    moment($date, \"YYYYMMDD\").fromNow()\n",
    "            end)\n",
    "end"
   ]
  },
  {
   "cell_type": "code",
   "execution_count": 42,
   "metadata": {},
   "outputs": [
    {
     "data": {
      "application/vnd.webio.node+json": {
       "children": [
        "Cassini flew by Jupiter ",
        {
         "children": [
          {
           "children": [
            "<loading moment>"
           ],
           "instanceArgs": {
            "namespace": "html",
            "tag": "span"
           },
           "nodeType": "DOM",
           "props": {
            "id": "humantime"
           },
           "type": "node"
          }
         ],
         "instanceArgs": {
          "handlers": {},
          "id": "14052482381108054514",
          "imports": {
           "data": [
            {
             "name": null,
             "type": "js",
             "url": "/assetserver/d52cc32c7d8e1c92c0c320ddac7210c0c1eb8525-moment.min.js"
            }
           ],
           "type": "async_block"
          },
          "mount_callbacks": [
           "function () {\n    var handler = ((function (moment){return this.dom.querySelector(\"#humantime\").textContent=moment(\"20001230\",\"YYYYMMDD\").fromNow()}));\n    (WebIO.importBlock({\"data\":[{\"name\":null,\"type\":\"js\",\"url\":\"/assetserver/d52cc32c7d8e1c92c0c320ddac7210c0c1eb8525-moment.min.js\"}],\"type\":\"async_block\"})).then((imports) => handler.apply(this, imports));\n}\n"
          ],
          "observables": {},
          "systemjs_options": null
         },
         "nodeType": "Scope",
         "props": {},
         "type": "node"
        }
       ],
       "instanceArgs": {
        "namespace": "html",
        "tag": "div"
       },
       "nodeType": "DOM",
       "props": {},
       "type": "node"
      },
      "text/html": [
       "<div\n",
       "    class=\"webio-mountpoint\"\n",
       "    data-webio-mountpoint=\"4650351253017258443\"\n",
       ">\n",
       "    <script>\n",
       "    (function(){\n",
       "    // Some integrations (namely, IJulia/Jupyter) use an alternate render pathway than\n",
       "    // just putting the html on the page. If WebIO isn't defined, then it's pretty likely\n",
       "    // that we're in one of those situations and the integration just isn't installed\n",
       "    // correctly.\n",
       "    if (typeof window.WebIO === \"undefined\") {\n",
       "        document\n",
       "            .querySelector('[data-webio-mountpoint=\"4650351253017258443\"]')\n",
       "            .innerHTML = (\n",
       "                '<div style=\"padding: 1em; background-color: #f8d6da; border: 1px solid #f5c6cb; font-weight: bold;\">' +\n",
       "                '<p><strong>WebIO not detected.</strong></p>' +\n",
       "                '<p>Please read ' +\n",
       "                '<a href=\"https://juliagizmos.github.io/WebIO.jl/latest/troubleshooting/not-detected/\" target=\"_blank\">the troubleshooting guide</a> ' +\n",
       "                'for more information on how to resolve this issue.</p>' +\n",
       "                '<p><a href=\"https://juliagizmos.github.io/WebIO.jl/latest/troubleshooting/not-detected/\" target=\"_blank\">https://juliagizmos.github.io/WebIO.jl/latest/troubleshooting/not-detected/</a></p>' +\n",
       "                '</div>'\n",
       "            );\n",
       "        return;\n",
       "    }\n",
       "    WebIO.mount(\n",
       "        document.querySelector('[data-webio-mountpoint=\"4650351253017258443\"]'),\n",
       "        {\"props\":{},\"nodeType\":\"DOM\",\"type\":\"node\",\"instanceArgs\":{\"namespace\":\"html\",\"tag\":\"div\"},\"children\":[\"Cassini flew by Jupiter \",{\"props\":{},\"nodeType\":\"Scope\",\"type\":\"node\",\"instanceArgs\":{\"imports\":{\"data\":[{\"name\":null,\"type\":\"js\",\"url\":\"\\/assetserver\\/d52cc32c7d8e1c92c0c320ddac7210c0c1eb8525-moment.min.js\"}],\"type\":\"async_block\"},\"id\":\"14052482381108054514\",\"handlers\":{},\"systemjs_options\":null,\"mount_callbacks\":[\"function () {\\n    var handler = ((function (moment){return this.dom.querySelector(\\\"#humantime\\\").textContent=moment(\\\"20001230\\\",\\\"YYYYMMDD\\\").fromNow()}));\\n    (WebIO.importBlock({\\\"data\\\":[{\\\"name\\\":null,\\\"type\\\":\\\"js\\\",\\\"url\\\":\\\"\\/assetserver\\/d52cc32c7d8e1c92c0c320ddac7210c0c1eb8525-moment.min.js\\\"}],\\\"type\\\":\\\"async_block\\\"})).then((imports) => handler.apply(this, imports));\\n}\\n\"],\"observables\":{}},\"children\":[{\"props\":{\"id\":\"humantime\"},\"nodeType\":\"DOM\",\"type\":\"node\",\"instanceArgs\":{\"namespace\":\"html\",\"tag\":\"span\"},\"children\":[\"<loading moment>\"]}]}]},\n",
       "        window,\n",
       "    );\n",
       "    })()\n",
       "    </script>\n",
       "</div>\n"
      ],
      "text/plain": [
       "(div\n",
       "  \"Cassini flew by Jupiter \"\n",
       "    (span { id=\"humantime\" }\n",
       "    \"<loading moment>\"))"
      ]
     },
     "execution_count": 42,
     "metadata": {
      "@webio": {
       "kernelId": "770db5ff-3bbd-4a98-a0ea-bfcaf1eefd6e"
      }
     },
     "output_type": "execute_result"
    }
   ],
   "source": [
    "node(:div, \"Cassini flew by Jupiter \", fromnow(\"20001230\"))"
   ]
  },
  {
   "cell_type": "markdown",
   "metadata": {},
   "source": [
    "# Interact.jl"
   ]
  },
  {
   "cell_type": "markdown",
   "metadata": {},
   "source": [
    "## `@manipulate` macro\n",
    "\n",
    "Very handy if you know you want to twiddle with something very simple. Not ideal for customizing look and feel or complicated interactions.\n",
    "\n",
    "The syntax is simple:"
   ]
  },
  {
   "cell_type": "code",
   "execution_count": 43,
   "metadata": {},
   "outputs": [
    {
     "data": {
      "application/vnd.webio.node+json": {
       "children": [
        {
         "children": [
          {
           "children": [
            {
             "children": [
              {
               "children": [
                {
                 "children": [
                  "f"
                 ],
                 "instanceArgs": {
                  "namespace": "html",
                  "tag": "label"
                 },
                 "nodeType": "DOM",
                 "props": {
                  "className": "interact ",
                  "style": {
                   "padding": "5px 10px 0px 10px"
                  }
                 },
                 "type": "node"
                }
               ],
               "instanceArgs": {
                "namespace": "html",
                "tag": "div"
               },
               "nodeType": "DOM",
               "props": {
                "className": "interact-flex-row-left"
               },
               "type": "node"
              },
              {
               "children": [
                {
                 "children": [
                  {
                   "children": [
                    {
                     "children": [],
                     "instanceArgs": {
                      "namespace": "html",
                      "tag": "label"
                     },
                     "nodeType": "DOM",
                     "props": {
                      "attributes": {
                       "data-bind": "text : key"
                      }
                     },
                     "type": "node"
                    }
                   ],
                   "instanceArgs": {
                    "namespace": "html",
                    "tag": "span"
                   },
                   "nodeType": "DOM",
                   "props": {
                    "attributes": {
                     "data-bind": "click: function (){$root.update(val)}, css: {'is-primary is-selected' : $root.index() == val, 'interact-widget is-medium button ' : true}"
                    }
                   },
                   "type": "node"
                  }
                 ],
                 "instanceArgs": {
                  "namespace": "html",
                  "tag": "div"
                 },
                 "nodeType": "DOM",
                 "props": {
                  "attributes": {
                   "data-bind": "foreach : options_js"
                  },
                  "className": "buttons has-addons is-centered"
                 },
                 "type": "node"
                }
               ],
               "instanceArgs": {
                "namespace": "html",
                "tag": "div"
               },
               "nodeType": "DOM",
               "props": {
                "className": "interact-flex-row-center"
               },
               "type": "node"
              },
              {
               "children": [
                {
                 "children": [],
                 "instanceArgs": {
                  "namespace": "html",
                  "tag": "div"
                 },
                 "nodeType": "DOM",
                 "props": {},
                 "type": "node"
                }
               ],
               "instanceArgs": {
                "namespace": "html",
                "tag": "div"
               },
               "nodeType": "DOM",
               "props": {
                "className": "interact-flex-row-right"
               },
               "type": "node"
              }
             ],
             "instanceArgs": {
              "namespace": "html",
              "tag": "div"
             },
             "nodeType": "DOM",
             "props": {
              "className": "interact-flex-row interact-widget"
             },
             "type": "node"
            }
           ],
           "instanceArgs": {
            "handlers": {
             "index": [
              "(function (val){return (val!=this.model[\"index\"]()) ? (this.valueFromJulia[\"index\"]=true, this.model[\"index\"](val)) : undefined})"
             ],
             "options_js": [
              "(function (val){return (val!=this.model[\"options_js\"]()) ? (this.valueFromJulia[\"options_js\"]=true, this.model[\"options_js\"](val)) : undefined})"
             ]
            },
            "id": "9647987603699994557",
            "imports": {
             "data": [
              {
               "name": "knockout",
               "type": "js",
               "url": "/assetserver/2f41271402a5ef9c872f54d98b634dd0b52b51b5-knockout.js"
              },
              {
               "name": "knockout_punches",
               "type": "js",
               "url": "/assetserver/16d9eac8f67d66ea9255f645c61cae4d19575e2b-knockout_punches.js"
              },
              {
               "name": null,
               "type": "js",
               "url": "/assetserver/7509dc6ca400d77fd72cc5878837451f5a140ca9-all.js"
              },
              {
               "name": null,
               "type": "css",
               "url": "/assetserver/338684eb23500e230519893e91491e2c79026b2c-style.css"
              },
              {
               "name": null,
               "type": "css",
               "url": "/assetserver/de6306d24411796848be2926b10ddad8cbaee8b2-bulma_confined.min.css"
              }
             ],
             "type": "async_block"
            },
            "mount_callbacks": [
             "function () {\n    var handler = (function (ko, koPunches) {\n    ko.punches.enableAll();\n    ko.bindingHandlers.numericValue = {\n        init: function(element, valueAccessor, allBindings, data, context) {\n            var stringified = ko.observable(ko.unwrap(valueAccessor()));\n            stringified.subscribe(function(value) {\n                var val = parseFloat(value);\n                if (!isNaN(val)) {\n                    valueAccessor()(val);\n                }\n            });\n            valueAccessor().subscribe(function(value) {\n                var str = JSON.stringify(value);\n                if ((str == \"0\") && ([\"-0\", \"-0.\"].indexOf(stringified()) >= 0))\n                     return;\n                 if ([\"null\", \"\"].indexOf(str) >= 0)\n                     return;\n                stringified(str);\n            });\n            ko.applyBindingsToNode(\n                element,\n                {\n                    value: stringified,\n                    valueUpdate: allBindings.get('valueUpdate'),\n                },\n                context,\n            );\n        }\n    };\n    var json_data = {\"options_js\":WebIO.getval({\"name\":\"options_js\",\"scope\":\"9647987603699994557\",\"id\":\"14\",\"type\":\"observable\"}),\"index\":WebIO.getval({\"name\":\"index\",\"scope\":\"9647987603699994557\",\"id\":\"13\",\"type\":\"observable\"})};\n    var self = this;\n    function AppViewModel() {\n        for (var key in json_data) {\n            var el = json_data[key];\n            this[key] = Array.isArray(el) ? ko.observableArray(el) : ko.observable(el);\n        }\n        [this[\"update\"]=function (val) {this.index(val)}]\n        \n        [this[\"options_js\"].subscribe((function (val){!(this.valueFromJulia[\"options_js\"]) ? (WebIO.setval({\"name\":\"options_js\",\"scope\":\"9647987603699994557\",\"id\":\"14\",\"type\":\"observable\"},val)) : undefined; return this.valueFromJulia[\"options_js\"]=false}),self),this[\"index\"].subscribe((function (val){!(this.valueFromJulia[\"index\"]) ? (WebIO.setval({\"name\":\"index\",\"scope\":\"9647987603699994557\",\"id\":\"13\",\"type\":\"observable\"},val)) : undefined; return this.valueFromJulia[\"index\"]=false}),self)]\n        \n    }\n    self.model = new AppViewModel();\n    self.valueFromJulia = {};\n    for (var key in json_data) {\n        self.valueFromJulia[key] = false;\n    }\n    ko.applyBindings(self.model, self.dom);\n}\n);\n    (WebIO.importBlock({\"data\":[{\"name\":\"knockout\",\"type\":\"js\",\"url\":\"/assetserver/2f41271402a5ef9c872f54d98b634dd0b52b51b5-knockout.js\"},{\"name\":\"knockout_punches\",\"type\":\"js\",\"url\":\"/assetserver/16d9eac8f67d66ea9255f645c61cae4d19575e2b-knockout_punches.js\"}],\"type\":\"async_block\"})).then((imports) => handler.apply(this, imports));\n}\n"
            ],
            "observables": {
             "index": {
              "id": "13",
              "sync": true,
              "value": 1
             },
             "options_js": {
              "id": "14",
              "sync": false,
              "value": [
               {
                "id": "idumUg8eRd",
                "key": "sin",
                "val": 1
               },
               {
                "id": "idJFto5fvP",
                "key": "cos",
                "val": 2
               },
               {
                "id": "idaMMsh57Y",
                "key": "tan",
                "val": 3
               }
              ]
             }
            },
            "systemjs_options": null
           },
           "nodeType": "Scope",
           "props": {},
           "type": "node"
          }
         ],
         "instanceArgs": {
          "namespace": "html",
          "tag": "div"
         },
         "nodeType": "DOM",
         "props": {
          "className": "interact-widget"
         },
         "type": "node"
        },
        {
         "children": [
          {
           "children": [
            {
             "children": [
              {
               "children": [
                {
                 "children": [
                  "ϕ"
                 ],
                 "instanceArgs": {
                  "namespace": "html",
                  "tag": "label"
                 },
                 "nodeType": "DOM",
                 "props": {
                  "className": "interact ",
                  "style": {
                   "padding": "5px 10px 0px 10px"
                  }
                 },
                 "type": "node"
                }
               ],
               "instanceArgs": {
                "namespace": "html",
                "tag": "div"
               },
               "nodeType": "DOM",
               "props": {
                "className": "interact-flex-row-left"
               },
               "type": "node"
              },
              {
               "children": [
                {
                 "children": [],
                 "instanceArgs": {
                  "namespace": "html",
                  "tag": "input"
                 },
                 "nodeType": "DOM",
                 "props": {
                  "attributes": {
                   "data-bind": "numericValue: index, valueUpdate: 'input', event: {change: function (){this.changes(this.changes()+1)}}",
                   "orient": "horizontal",
                   "type": "range"
                  },
                  "className": "slider slider is-fullwidth",
                  "max": 126,
                  "min": 1,
                  "step": 1,
                  "style": {}
                 },
                 "type": "node"
                }
               ],
               "instanceArgs": {
                "namespace": "html",
                "tag": "div"
               },
               "nodeType": "DOM",
               "props": {
                "className": "interact-flex-row-center"
               },
               "type": "node"
              },
              {
               "children": [
                {
                 "children": [],
                 "instanceArgs": {
                  "namespace": "html",
                  "tag": "p"
                 },
                 "nodeType": "DOM",
                 "props": {
                  "attributes": {
                   "data-bind": "text: formatted_val"
                  }
                 },
                 "type": "node"
                }
               ],
               "instanceArgs": {
                "namespace": "html",
                "tag": "div"
               },
               "nodeType": "DOM",
               "props": {
                "className": "interact-flex-row-right"
               },
               "type": "node"
              }
             ],
             "instanceArgs": {
              "namespace": "html",
              "tag": "div"
             },
             "nodeType": "DOM",
             "props": {
              "className": "interact-flex-row interact-widget"
             },
             "type": "node"
            }
           ],
           "instanceArgs": {
            "handlers": {
             "changes": [
              "(function (val){return (val!=this.model[\"changes\"]()) ? (this.valueFromJulia[\"changes\"]=true, this.model[\"changes\"](val)) : undefined})"
             ],
             "index": [
              "(function (val){return (val!=this.model[\"index\"]()) ? (this.valueFromJulia[\"index\"]=true, this.model[\"index\"](val)) : undefined})"
             ]
            },
            "id": "13129863515086317278",
            "imports": {
             "data": [
              {
               "name": "knockout",
               "type": "js",
               "url": "/assetserver/2f41271402a5ef9c872f54d98b634dd0b52b51b5-knockout.js"
              },
              {
               "name": "knockout_punches",
               "type": "js",
               "url": "/assetserver/16d9eac8f67d66ea9255f645c61cae4d19575e2b-knockout_punches.js"
              },
              {
               "name": null,
               "type": "js",
               "url": "/assetserver/7509dc6ca400d77fd72cc5878837451f5a140ca9-all.js"
              },
              {
               "name": null,
               "type": "css",
               "url": "/assetserver/338684eb23500e230519893e91491e2c79026b2c-style.css"
              },
              {
               "name": null,
               "type": "css",
               "url": "/assetserver/de6306d24411796848be2926b10ddad8cbaee8b2-bulma_confined.min.css"
              }
             ],
             "type": "async_block"
            },
            "mount_callbacks": [
             "function () {\n    var handler = (function (ko, koPunches) {\n    ko.punches.enableAll();\n    ko.bindingHandlers.numericValue = {\n        init: function(element, valueAccessor, allBindings, data, context) {\n            var stringified = ko.observable(ko.unwrap(valueAccessor()));\n            stringified.subscribe(function(value) {\n                var val = parseFloat(value);\n                if (!isNaN(val)) {\n                    valueAccessor()(val);\n                }\n            });\n            valueAccessor().subscribe(function(value) {\n                var str = JSON.stringify(value);\n                if ((str == \"0\") && ([\"-0\", \"-0.\"].indexOf(stringified()) >= 0))\n                     return;\n                 if ([\"null\", \"\"].indexOf(str) >= 0)\n                     return;\n                stringified(str);\n            });\n            ko.applyBindingsToNode(\n                element,\n                {\n                    value: stringified,\n                    valueUpdate: allBindings.get('valueUpdate'),\n                },\n                context,\n            );\n        }\n    };\n    var json_data = {\"formatted_vals\":[\"0.0\",\"0.05\",\"0.1\",\"0.15\",\"0.2\",\"0.25\",\"0.3\",\"0.35\",\"0.4\",\"0.45\",\"0.5\",\"0.55\",\"0.6\",\"0.65\",\"0.7\",\"0.75\",\"0.8\",\"0.85\",\"0.9\",\"0.95\",\"1.0\",\"1.05\",\"1.1\",\"1.15\",\"1.2\",\"1.25\",\"1.3\",\"1.35\",\"1.4\",\"1.45\",\"1.5\",\"1.55\",\"1.6\",\"1.65\",\"1.7\",\"1.75\",\"1.8\",\"1.85\",\"1.9\",\"1.95\",\"2.0\",\"2.05\",\"2.1\",\"2.15\",\"2.2\",\"2.25\",\"2.3\",\"2.35\",\"2.4\",\"2.45\",\"2.5\",\"2.55\",\"2.6\",\"2.65\",\"2.7\",\"2.75\",\"2.8\",\"2.85\",\"2.9\",\"2.95\",\"3.0\",\"3.05\",\"3.1\",\"3.15\",\"3.2\",\"3.25\",\"3.3\",\"3.35\",\"3.4\",\"3.45\",\"3.5\",\"3.55\",\"3.6\",\"3.65\",\"3.7\",\"3.75\",\"3.8\",\"3.85\",\"3.9\",\"3.95\",\"4.0\",\"4.05\",\"4.1\",\"4.15\",\"4.2\",\"4.25\",\"4.3\",\"4.35\",\"4.4\",\"4.45\",\"4.5\",\"4.55\",\"4.6\",\"4.65\",\"4.7\",\"4.75\",\"4.8\",\"4.85\",\"4.9\",\"4.95\",\"5.0\",\"5.05\",\"5.1\",\"5.15\",\"5.2\",\"5.25\",\"5.3\",\"5.35\",\"5.4\",\"5.45\",\"5.5\",\"5.55\",\"5.6\",\"5.65\",\"5.7\",\"5.75\",\"5.8\",\"5.85\",\"5.9\",\"5.95\",\"6.0\",\"6.05\",\"6.1\",\"6.15\",\"6.2\",\"6.25\"],\"changes\":WebIO.getval({\"name\":\"changes\",\"scope\":\"13129863515086317278\",\"id\":\"17\",\"type\":\"observable\"}),\"index\":WebIO.getval({\"name\":\"index\",\"scope\":\"13129863515086317278\",\"id\":\"16\",\"type\":\"observable\"})};\n    var self = this;\n    function AppViewModel() {\n        for (var key in json_data) {\n            var el = json_data[key];\n            this[key] = Array.isArray(el) ? ko.observableArray(el) : ko.observable(el);\n        }\n        \n        [this[\"formatted_val\"]=ko.computed(    function(){\n        return this.formatted_vals()[parseInt(this.index())-(1)];\n    }\n,this)]\n        [this[\"changes\"].subscribe((function (val){!(this.valueFromJulia[\"changes\"]) ? (WebIO.setval({\"name\":\"changes\",\"scope\":\"13129863515086317278\",\"id\":\"17\",\"type\":\"observable\"},val)) : undefined; return this.valueFromJulia[\"changes\"]=false}),self),this[\"index\"].subscribe((function (val){!(this.valueFromJulia[\"index\"]) ? (WebIO.setval({\"name\":\"index\",\"scope\":\"13129863515086317278\",\"id\":\"16\",\"type\":\"observable\"},val)) : undefined; return this.valueFromJulia[\"index\"]=false}),self)]\n        \n    }\n    self.model = new AppViewModel();\n    self.valueFromJulia = {};\n    for (var key in json_data) {\n        self.valueFromJulia[key] = false;\n    }\n    ko.applyBindings(self.model, self.dom);\n}\n);\n    (WebIO.importBlock({\"data\":[{\"name\":\"knockout\",\"type\":\"js\",\"url\":\"/assetserver/2f41271402a5ef9c872f54d98b634dd0b52b51b5-knockout.js\"},{\"name\":\"knockout_punches\",\"type\":\"js\",\"url\":\"/assetserver/16d9eac8f67d66ea9255f645c61cae4d19575e2b-knockout_punches.js\"}],\"type\":\"async_block\"})).then((imports) => handler.apply(this, imports));\n}\n"
            ],
            "observables": {
             "changes": {
              "id": "17",
              "sync": false,
              "value": 0
             },
             "index": {
              "id": "16",
              "sync": true,
              "value": 63
             }
            },
            "systemjs_options": null
           },
           "nodeType": "Scope",
           "props": {},
           "type": "node"
          }
         ],
         "instanceArgs": {
          "namespace": "html",
          "tag": "div"
         },
         "nodeType": "DOM",
         "props": {
          "className": "field interact-widget"
         },
         "type": "node"
        },
        {
         "children": [
          {
           "children": [],
           "instanceArgs": {
            "id": "23",
            "name": "obs-node"
           },
           "nodeType": "ObservableNode",
           "props": {},
           "type": "node"
          }
         ],
         "instanceArgs": {
          "handlers": {},
          "id": "10755557593862434967",
          "imports": {
           "data": [],
           "type": "async_block"
          },
          "mount_callbacks": [],
          "observables": {
           "obs-node": {
            "id": "23",
            "sync": false,
            "value": {
             "children": [
              {
               "children": [],
               "instanceArgs": {
                "namespace": "html",
                "tag": "div"
               },
               "nodeType": "DOM",
               "props": {
                "setInnerHtml": "<?xml version=\"1.0\" encoding=\"utf-8\"?>\n<svg xmlns=\"http://www.w3.org/2000/svg\" xmlns:xlink=\"http://www.w3.org/1999/xlink\" width=\"600\" height=\"400\" viewBox=\"0 0 2400 1600\">\n<defs>\n  <clipPath id=\"clip570\">\n    <rect x=\"0\" y=\"0\" width=\"2400\" height=\"1600\"/>\n  </clipPath>\n</defs>\n<path clip-path=\"url(#clip570)\" d=\"M0 1600 L2400 1600 L2400 0 L0 0  Z\" fill=\"#ffffff\" fill-rule=\"evenodd\" fill-opacity=\"1\"/>\n<defs>\n  <clipPath id=\"clip571\">\n    <rect x=\"480\" y=\"0\" width=\"1681\" height=\"1600\"/>\n  </clipPath>\n</defs>\n<path clip-path=\"url(#clip570)\" d=\"M193.936 1486.45 L2352.76 1486.45 L2352.76 47.2441 L193.936 47.2441  Z\" fill=\"#ffffff\" fill-rule=\"evenodd\" fill-opacity=\"1\"/>\n<defs>\n  <clipPath id=\"clip572\">\n    <rect x=\"193\" y=\"47\" width=\"2160\" height=\"1440\"/>\n  </clipPath>\n</defs>\n<polyline clip-path=\"url(#clip572)\" style=\"stroke:#000000; stroke-linecap:round; stroke-linejoin:round; stroke-width:2; stroke-opacity:0.1; fill:none\" points=\"255.035,1486.45 255.035,47.2441 \"/>\n<polyline clip-path=\"url(#clip572)\" style=\"stroke:#000000; stroke-linecap:round; stroke-linejoin:round; stroke-width:2; stroke-opacity:0.1; fill:none\" points=\"579.596,1486.45 579.596,47.2441 \"/>\n<polyline clip-path=\"url(#clip572)\" style=\"stroke:#000000; stroke-linecap:round; stroke-linejoin:round; stroke-width:2; stroke-opacity:0.1; fill:none\" points=\"904.157,1486.45 904.157,47.2441 \"/>\n<polyline clip-path=\"url(#clip572)\" style=\"stroke:#000000; stroke-linecap:round; stroke-linejoin:round; stroke-width:2; stroke-opacity:0.1; fill:none\" points=\"1228.72,1486.45 1228.72,47.2441 \"/>\n<polyline clip-path=\"url(#clip572)\" style=\"stroke:#000000; stroke-linecap:round; stroke-linejoin:round; stroke-width:2; stroke-opacity:0.1; fill:none\" points=\"1553.28,1486.45 1553.28,47.2441 \"/>\n<polyline clip-path=\"url(#clip572)\" style=\"stroke:#000000; stroke-linecap:round; stroke-linejoin:round; stroke-width:2; stroke-opacity:0.1; fill:none\" points=\"1877.84,1486.45 1877.84,47.2441 \"/>\n<polyline clip-path=\"url(#clip572)\" style=\"stroke:#000000; stroke-linecap:round; stroke-linejoin:round; stroke-width:2; stroke-opacity:0.1; fill:none\" points=\"2202.4,1486.45 2202.4,47.2441 \"/>\n<polyline clip-path=\"url(#clip572)\" style=\"stroke:#000000; stroke-linecap:round; stroke-linejoin:round; stroke-width:2; stroke-opacity:0.1; fill:none\" points=\"193.936,1445.72 2352.76,1445.72 \"/>\n<polyline clip-path=\"url(#clip572)\" style=\"stroke:#000000; stroke-linecap:round; stroke-linejoin:round; stroke-width:2; stroke-opacity:0.1; fill:none\" points=\"193.936,1106.28 2352.76,1106.28 \"/>\n<polyline clip-path=\"url(#clip572)\" style=\"stroke:#000000; stroke-linecap:round; stroke-linejoin:round; stroke-width:2; stroke-opacity:0.1; fill:none\" points=\"193.936,766.847 2352.76,766.847 \"/>\n<polyline clip-path=\"url(#clip572)\" style=\"stroke:#000000; stroke-linecap:round; stroke-linejoin:round; stroke-width:2; stroke-opacity:0.1; fill:none\" points=\"193.936,427.409 2352.76,427.409 \"/>\n<polyline clip-path=\"url(#clip572)\" style=\"stroke:#000000; stroke-linecap:round; stroke-linejoin:round; stroke-width:2; stroke-opacity:0.1; fill:none\" points=\"193.936,87.9709 2352.76,87.9709 \"/>\n<polyline clip-path=\"url(#clip570)\" style=\"stroke:#000000; stroke-linecap:round; stroke-linejoin:round; stroke-width:4; stroke-opacity:1; fill:none\" points=\"193.936,1486.45 2352.76,1486.45 \"/>\n<polyline clip-path=\"url(#clip570)\" style=\"stroke:#000000; stroke-linecap:round; stroke-linejoin:round; stroke-width:4; stroke-opacity:1; fill:none\" points=\"255.035,1486.45 255.035,1467.55 \"/>\n<polyline clip-path=\"url(#clip570)\" style=\"stroke:#000000; stroke-linecap:round; stroke-linejoin:round; stroke-width:4; stroke-opacity:1; fill:none\" points=\"579.596,1486.45 579.596,1467.55 \"/>\n<polyline clip-path=\"url(#clip570)\" style=\"stroke:#000000; stroke-linecap:round; stroke-linejoin:round; stroke-width:4; stroke-opacity:1; fill:none\" points=\"904.157,1486.45 904.157,1467.55 \"/>\n<polyline clip-path=\"url(#clip570)\" style=\"stroke:#000000; stroke-linecap:round; stroke-linejoin:round; stroke-width:4; stroke-opacity:1; fill:none\" points=\"1228.72,1486.45 1228.72,1467.55 \"/>\n<polyline clip-path=\"url(#clip570)\" style=\"stroke:#000000; stroke-linecap:round; stroke-linejoin:round; stroke-width:4; stroke-opacity:1; fill:none\" points=\"1553.28,1486.45 1553.28,1467.55 \"/>\n<polyline clip-path=\"url(#clip570)\" style=\"stroke:#000000; stroke-linecap:round; stroke-linejoin:round; stroke-width:4; stroke-opacity:1; fill:none\" points=\"1877.84,1486.45 1877.84,1467.55 \"/>\n<polyline clip-path=\"url(#clip570)\" style=\"stroke:#000000; stroke-linecap:round; stroke-linejoin:round; stroke-width:4; stroke-opacity:1; fill:none\" points=\"2202.4,1486.45 2202.4,1467.55 \"/>\n<path clip-path=\"url(#clip570)\" d=\"M255.035 1517.37 Q251.424 1517.37 249.595 1520.93 Q247.789 1524.47 247.789 1531.6 Q247.789 1538.71 249.595 1542.27 Q251.424 1545.82 255.035 1545.82 Q258.669 1545.82 260.474 1542.27 Q262.303 1538.71 262.303 1531.6 Q262.303 1524.47 260.474 1520.93 Q258.669 1517.37 255.035 1517.37 M255.035 1513.66 Q260.845 1513.66 263.9 1518.27 Q266.979 1522.85 266.979 1531.6 Q266.979 1540.33 263.9 1544.94 Q260.845 1549.52 255.035 1549.52 Q249.225 1549.52 246.146 1544.94 Q243.09 1540.33 243.09 1531.6 Q243.09 1522.85 246.146 1518.27 Q249.225 1513.66 255.035 1513.66 Z\" fill=\"#000000\" fill-rule=\"nonzero\" fill-opacity=\"1\" /><path clip-path=\"url(#clip570)\" d=\"M574.249 1544.91 L590.568 1544.91 L590.568 1548.85 L568.624 1548.85 L568.624 1544.91 Q571.286 1542.16 575.869 1537.53 Q580.476 1532.88 581.656 1531.53 Q583.902 1529.01 584.781 1527.27 Q585.684 1525.51 585.684 1523.82 Q585.684 1521.07 583.74 1519.33 Q581.818 1517.6 578.716 1517.6 Q576.517 1517.6 574.064 1518.36 Q571.633 1519.13 568.855 1520.68 L568.855 1515.95 Q571.679 1514.82 574.133 1514.24 Q576.587 1513.66 578.624 1513.66 Q583.994 1513.66 587.189 1516.35 Q590.383 1519.03 590.383 1523.52 Q590.383 1525.65 589.573 1527.57 Q588.786 1529.47 586.679 1532.07 Q586.101 1532.74 582.999 1535.95 Q579.897 1539.15 574.249 1544.91 Z\" fill=\"#000000\" fill-rule=\"nonzero\" fill-opacity=\"1\" /><path clip-path=\"url(#clip570)\" d=\"M907.167 1518.36 L895.361 1536.81 L907.167 1536.81 L907.167 1518.36 M905.94 1514.29 L911.819 1514.29 L911.819 1536.81 L916.75 1536.81 L916.75 1540.7 L911.819 1540.7 L911.819 1548.85 L907.167 1548.85 L907.167 1540.7 L891.565 1540.7 L891.565 1536.19 L905.94 1514.29 Z\" fill=\"#000000\" fill-rule=\"nonzero\" fill-opacity=\"1\" /><path clip-path=\"url(#clip570)\" d=\"M1229.12 1529.7 Q1225.98 1529.7 1224.12 1531.86 Q1222.3 1534.01 1222.3 1537.76 Q1222.3 1541.49 1224.12 1543.66 Q1225.98 1545.82 1229.12 1545.82 Q1232.27 1545.82 1234.1 1543.66 Q1235.95 1541.49 1235.95 1537.76 Q1235.95 1534.01 1234.1 1531.86 Q1232.27 1529.7 1229.12 1529.7 M1238.41 1515.05 L1238.41 1519.31 Q1236.65 1518.48 1234.84 1518.04 Q1233.06 1517.6 1231.3 1517.6 Q1226.67 1517.6 1224.22 1520.72 Q1221.79 1523.85 1221.44 1530.17 Q1222.8 1528.15 1224.86 1527.09 Q1226.92 1526 1229.4 1526 Q1234.61 1526 1237.62 1529.17 Q1240.65 1532.32 1240.65 1537.76 Q1240.65 1543.08 1237.5 1546.3 Q1234.36 1549.52 1229.12 1549.52 Q1223.13 1549.52 1219.96 1544.94 Q1216.79 1540.33 1216.79 1531.6 Q1216.79 1523.41 1220.67 1518.55 Q1224.56 1513.66 1231.11 1513.66 Q1232.87 1513.66 1234.66 1514.01 Q1236.46 1514.36 1238.41 1515.05 Z\" fill=\"#000000\" fill-rule=\"nonzero\" fill-opacity=\"1\" /><path clip-path=\"url(#clip570)\" d=\"M1553.28 1532.44 Q1549.95 1532.44 1548.03 1534.22 Q1546.13 1536 1546.13 1539.13 Q1546.13 1542.25 1548.03 1544.03 Q1549.95 1545.82 1553.28 1545.82 Q1556.61 1545.82 1558.53 1544.03 Q1560.46 1542.23 1560.46 1539.13 Q1560.46 1536 1558.53 1534.22 Q1556.64 1532.44 1553.28 1532.44 M1548.6 1530.45 Q1545.59 1529.7 1543.91 1527.64 Q1542.24 1525.58 1542.24 1522.62 Q1542.24 1518.48 1545.18 1516.07 Q1548.14 1513.66 1553.28 1513.66 Q1558.44 1513.66 1561.38 1516.07 Q1564.32 1518.48 1564.32 1522.62 Q1564.32 1525.58 1562.63 1527.64 Q1560.97 1529.7 1557.98 1530.45 Q1561.36 1531.23 1563.23 1533.52 Q1565.13 1535.82 1565.13 1539.13 Q1565.13 1544.15 1562.05 1546.83 Q1559 1549.52 1553.28 1549.52 Q1547.56 1549.52 1544.48 1546.83 Q1541.43 1544.15 1541.43 1539.13 Q1541.43 1535.82 1543.33 1533.52 Q1545.22 1531.23 1548.6 1530.45 M1546.89 1523.06 Q1546.89 1525.75 1548.56 1527.25 Q1550.25 1528.76 1553.28 1528.76 Q1556.29 1528.76 1557.98 1527.25 Q1559.69 1525.75 1559.69 1523.06 Q1559.69 1520.38 1557.98 1518.87 Q1556.29 1517.37 1553.28 1517.37 Q1550.25 1517.37 1548.56 1518.87 Q1546.89 1520.38 1546.89 1523.06 Z\" fill=\"#000000\" fill-rule=\"nonzero\" fill-opacity=\"1\" /><path clip-path=\"url(#clip570)\" d=\"M1852.53 1544.91 L1860.17 1544.91 L1860.17 1518.55 L1851.86 1520.21 L1851.86 1515.95 L1860.12 1514.29 L1864.8 1514.29 L1864.8 1544.91 L1872.44 1544.91 L1872.44 1548.85 L1852.53 1548.85 L1852.53 1544.91 Z\" fill=\"#000000\" fill-rule=\"nonzero\" fill-opacity=\"1\" /><path clip-path=\"url(#clip570)\" d=\"M1891.88 1517.37 Q1888.27 1517.37 1886.44 1520.93 Q1884.64 1524.47 1884.64 1531.6 Q1884.64 1538.71 1886.44 1542.27 Q1888.27 1545.82 1891.88 1545.82 Q1895.52 1545.82 1897.32 1542.27 Q1899.15 1538.71 1899.15 1531.6 Q1899.15 1524.47 1897.32 1520.93 Q1895.52 1517.37 1891.88 1517.37 M1891.88 1513.66 Q1897.69 1513.66 1900.75 1518.27 Q1903.83 1522.85 1903.83 1531.6 Q1903.83 1540.33 1900.75 1544.94 Q1897.69 1549.52 1891.88 1549.52 Q1886.07 1549.52 1882.99 1544.94 Q1879.94 1540.33 1879.94 1531.6 Q1879.94 1522.85 1882.99 1518.27 Q1886.07 1513.66 1891.88 1513.66 Z\" fill=\"#000000\" fill-rule=\"nonzero\" fill-opacity=\"1\" /><path clip-path=\"url(#clip570)\" d=\"M2177.89 1544.91 L2185.53 1544.91 L2185.53 1518.55 L2177.22 1520.21 L2177.22 1515.95 L2185.48 1514.29 L2190.16 1514.29 L2190.16 1544.91 L2197.8 1544.91 L2197.8 1548.85 L2177.89 1548.85 L2177.89 1544.91 Z\" fill=\"#000000\" fill-rule=\"nonzero\" fill-opacity=\"1\" /><path clip-path=\"url(#clip570)\" d=\"M2211.27 1544.91 L2227.59 1544.91 L2227.59 1548.85 L2205.64 1548.85 L2205.64 1544.91 Q2208.31 1542.16 2212.89 1537.53 Q2217.5 1532.88 2218.68 1531.53 Q2220.92 1529.01 2221.8 1527.27 Q2222.7 1525.51 2222.7 1523.82 Q2222.7 1521.07 2220.76 1519.33 Q2218.84 1517.6 2215.74 1517.6 Q2213.54 1517.6 2211.08 1518.36 Q2208.65 1519.13 2205.88 1520.68 L2205.88 1515.95 Q2208.7 1514.82 2211.15 1514.24 Q2213.61 1513.66 2215.64 1513.66 Q2221.01 1513.66 2224.21 1516.35 Q2227.4 1519.03 2227.4 1523.52 Q2227.4 1525.65 2226.59 1527.57 Q2225.81 1529.47 2223.7 1532.07 Q2223.12 1532.74 2220.02 1535.95 Q2216.92 1539.15 2211.27 1544.91 Z\" fill=\"#000000\" fill-rule=\"nonzero\" fill-opacity=\"1\" /><polyline clip-path=\"url(#clip570)\" style=\"stroke:#000000; stroke-linecap:round; stroke-linejoin:round; stroke-width:4; stroke-opacity:1; fill:none\" points=\"193.936,1486.45 193.936,47.2441 \"/>\n<polyline clip-path=\"url(#clip570)\" style=\"stroke:#000000; stroke-linecap:round; stroke-linejoin:round; stroke-width:4; stroke-opacity:1; fill:none\" points=\"193.936,1445.72 212.834,1445.72 \"/>\n<polyline clip-path=\"url(#clip570)\" style=\"stroke:#000000; stroke-linecap:round; stroke-linejoin:round; stroke-width:4; stroke-opacity:1; fill:none\" points=\"193.936,1106.28 212.834,1106.28 \"/>\n<polyline clip-path=\"url(#clip570)\" style=\"stroke:#000000; stroke-linecap:round; stroke-linejoin:round; stroke-width:4; stroke-opacity:1; fill:none\" points=\"193.936,766.847 212.834,766.847 \"/>\n<polyline clip-path=\"url(#clip570)\" style=\"stroke:#000000; stroke-linecap:round; stroke-linejoin:round; stroke-width:4; stroke-opacity:1; fill:none\" points=\"193.936,427.409 212.834,427.409 \"/>\n<polyline clip-path=\"url(#clip570)\" style=\"stroke:#000000; stroke-linecap:round; stroke-linejoin:round; stroke-width:4; stroke-opacity:1; fill:none\" points=\"193.936,87.9709 212.834,87.9709 \"/>\n<path clip-path=\"url(#clip570)\" d=\"M50.9921 1446.17 L80.6679 1446.17 L80.6679 1450.11 L50.9921 1450.11 L50.9921 1446.17 Z\" fill=\"#000000\" fill-rule=\"nonzero\" fill-opacity=\"1\" /><path clip-path=\"url(#clip570)\" d=\"M91.5706 1459.07 L99.2095 1459.07 L99.2095 1432.7 L90.8993 1434.37 L90.8993 1430.11 L99.1632 1428.44 L103.839 1428.44 L103.839 1459.07 L111.478 1459.07 L111.478 1463 L91.5706 1463 L91.5706 1459.07 Z\" fill=\"#000000\" fill-rule=\"nonzero\" fill-opacity=\"1\" /><path clip-path=\"url(#clip570)\" d=\"M120.922 1457.12 L125.807 1457.12 L125.807 1463 L120.922 1463 L120.922 1457.12 Z\" fill=\"#000000\" fill-rule=\"nonzero\" fill-opacity=\"1\" /><path clip-path=\"url(#clip570)\" d=\"M145.992 1431.52 Q142.381 1431.52 140.552 1435.09 Q138.746 1438.63 138.746 1445.76 Q138.746 1452.86 140.552 1456.43 Q142.381 1459.97 145.992 1459.97 Q149.626 1459.97 151.431 1456.43 Q153.26 1452.86 153.26 1445.76 Q153.26 1438.63 151.431 1435.09 Q149.626 1431.52 145.992 1431.52 M145.992 1427.82 Q151.802 1427.82 154.857 1432.42 Q157.936 1437.01 157.936 1445.76 Q157.936 1454.48 154.857 1459.09 Q151.802 1463.67 145.992 1463.67 Q140.181 1463.67 137.103 1459.09 Q134.047 1454.48 134.047 1445.76 Q134.047 1437.01 137.103 1432.42 Q140.181 1427.82 145.992 1427.82 Z\" fill=\"#000000\" fill-rule=\"nonzero\" fill-opacity=\"1\" /><path clip-path=\"url(#clip570)\" d=\"M51.9875 1106.74 L81.6633 1106.74 L81.6633 1110.67 L51.9875 1110.67 L51.9875 1106.74 Z\" fill=\"#000000\" fill-rule=\"nonzero\" fill-opacity=\"1\" /><path clip-path=\"url(#clip570)\" d=\"M101.756 1092.08 Q98.1447 1092.08 96.316 1095.65 Q94.5104 1099.19 94.5104 1106.32 Q94.5104 1113.43 96.316 1116.99 Q98.1447 1120.53 101.756 1120.53 Q105.39 1120.53 107.196 1116.99 Q109.024 1113.43 109.024 1106.32 Q109.024 1099.19 107.196 1095.65 Q105.39 1092.08 101.756 1092.08 M101.756 1088.38 Q107.566 1088.38 110.621 1092.99 Q113.7 1097.57 113.7 1106.32 Q113.7 1115.05 110.621 1119.65 Q107.566 1124.24 101.756 1124.24 Q95.9456 1124.24 92.8669 1119.65 Q89.8114 1115.05 89.8114 1106.32 Q89.8114 1097.57 92.8669 1092.99 Q95.9456 1088.38 101.756 1088.38 Z\" fill=\"#000000\" fill-rule=\"nonzero\" fill-opacity=\"1\" /><path clip-path=\"url(#clip570)\" d=\"M121.918 1117.68 L126.802 1117.68 L126.802 1123.56 L121.918 1123.56 L121.918 1117.68 Z\" fill=\"#000000\" fill-rule=\"nonzero\" fill-opacity=\"1\" /><path clip-path=\"url(#clip570)\" d=\"M137.033 1089 L155.39 1089 L155.39 1092.94 L141.316 1092.94 L141.316 1101.41 Q142.334 1101.06 143.353 1100.9 Q144.371 1100.72 145.39 1100.72 Q151.177 1100.72 154.556 1103.89 Q157.936 1107.06 157.936 1112.48 Q157.936 1118.06 154.464 1121.16 Q150.992 1124.24 144.672 1124.24 Q142.496 1124.24 140.228 1123.87 Q137.982 1123.5 135.575 1122.75 L135.575 1118.06 Q137.658 1119.19 139.881 1119.75 Q142.103 1120.3 144.58 1120.3 Q148.584 1120.3 150.922 1118.19 Q153.26 1116.09 153.26 1112.48 Q153.26 1108.87 150.922 1106.76 Q148.584 1104.65 144.58 1104.65 Q142.705 1104.65 140.83 1105.07 Q138.978 1105.49 137.033 1106.37 L137.033 1089 Z\" fill=\"#000000\" fill-rule=\"nonzero\" fill-opacity=\"1\" /><path clip-path=\"url(#clip570)\" d=\"M100.76 752.645 Q97.1493 752.645 95.3206 756.21 Q93.515 759.752 93.515 766.881 Q93.515 773.988 95.3206 777.553 Q97.1493 781.094 100.76 781.094 Q104.395 781.094 106.2 777.553 Q108.029 773.988 108.029 766.881 Q108.029 759.752 106.2 756.21 Q104.395 752.645 100.76 752.645 M100.76 748.942 Q106.571 748.942 109.626 753.548 Q112.705 758.131 112.705 766.881 Q112.705 775.608 109.626 780.215 Q106.571 784.798 100.76 784.798 Q94.9502 784.798 91.8715 780.215 Q88.816 775.608 88.816 766.881 Q88.816 758.131 91.8715 753.548 Q94.9502 748.942 100.76 748.942 Z\" fill=\"#000000\" fill-rule=\"nonzero\" fill-opacity=\"1\" /><path clip-path=\"url(#clip570)\" d=\"M120.922 778.247 L125.807 778.247 L125.807 784.127 L120.922 784.127 L120.922 778.247 Z\" fill=\"#000000\" fill-rule=\"nonzero\" fill-opacity=\"1\" /><path clip-path=\"url(#clip570)\" d=\"M145.992 752.645 Q142.381 752.645 140.552 756.21 Q138.746 759.752 138.746 766.881 Q138.746 773.988 140.552 777.553 Q142.381 781.094 145.992 781.094 Q149.626 781.094 151.431 777.553 Q153.26 773.988 153.26 766.881 Q153.26 759.752 151.431 756.21 Q149.626 752.645 145.992 752.645 M145.992 748.942 Q151.802 748.942 154.857 753.548 Q157.936 758.131 157.936 766.881 Q157.936 775.608 154.857 780.215 Q151.802 784.798 145.992 784.798 Q140.181 784.798 137.103 780.215 Q134.047 775.608 134.047 766.881 Q134.047 758.131 137.103 753.548 Q140.181 748.942 145.992 748.942 Z\" fill=\"#000000\" fill-rule=\"nonzero\" fill-opacity=\"1\" /><path clip-path=\"url(#clip570)\" d=\"M101.756 413.207 Q98.1447 413.207 96.316 416.772 Q94.5104 420.314 94.5104 427.443 Q94.5104 434.55 96.316 438.115 Q98.1447 441.656 101.756 441.656 Q105.39 441.656 107.196 438.115 Q109.024 434.55 109.024 427.443 Q109.024 420.314 107.196 416.772 Q105.39 413.207 101.756 413.207 M101.756 409.504 Q107.566 409.504 110.621 414.11 Q113.7 418.694 113.7 427.443 Q113.7 436.17 110.621 440.777 Q107.566 445.36 101.756 445.36 Q95.9456 445.36 92.8669 440.777 Q89.8114 436.17 89.8114 427.443 Q89.8114 418.694 92.8669 414.11 Q95.9456 409.504 101.756 409.504 Z\" fill=\"#000000\" fill-rule=\"nonzero\" fill-opacity=\"1\" /><path clip-path=\"url(#clip570)\" d=\"M121.918 438.809 L126.802 438.809 L126.802 444.689 L121.918 444.689 L121.918 438.809 Z\" fill=\"#000000\" fill-rule=\"nonzero\" fill-opacity=\"1\" /><path clip-path=\"url(#clip570)\" d=\"M137.033 410.129 L155.39 410.129 L155.39 414.064 L141.316 414.064 L141.316 422.536 Q142.334 422.189 143.353 422.027 Q144.371 421.842 145.39 421.842 Q151.177 421.842 154.556 425.013 Q157.936 428.184 157.936 433.601 Q157.936 439.18 154.464 442.281 Q150.992 445.36 144.672 445.36 Q142.496 445.36 140.228 444.99 Q137.982 444.619 135.575 443.879 L135.575 439.18 Q137.658 440.314 139.881 440.869 Q142.103 441.425 144.58 441.425 Q148.584 441.425 150.922 439.318 Q153.26 437.212 153.26 433.601 Q153.26 429.99 150.922 427.883 Q148.584 425.777 144.58 425.777 Q142.705 425.777 140.83 426.193 Q138.978 426.61 137.033 427.49 L137.033 410.129 Z\" fill=\"#000000\" fill-rule=\"nonzero\" fill-opacity=\"1\" /><path clip-path=\"url(#clip570)\" d=\"M91.5706 101.316 L99.2095 101.316 L99.2095 74.9501 L90.8993 76.6168 L90.8993 72.3576 L99.1632 70.6909 L103.839 70.6909 L103.839 101.316 L111.478 101.316 L111.478 105.251 L91.5706 105.251 L91.5706 101.316 Z\" fill=\"#000000\" fill-rule=\"nonzero\" fill-opacity=\"1\" /><path clip-path=\"url(#clip570)\" d=\"M120.922 99.3713 L125.807 99.3713 L125.807 105.251 L120.922 105.251 L120.922 99.3713 Z\" fill=\"#000000\" fill-rule=\"nonzero\" fill-opacity=\"1\" /><path clip-path=\"url(#clip570)\" d=\"M145.992 73.7696 Q142.381 73.7696 140.552 77.3344 Q138.746 80.876 138.746 88.0056 Q138.746 95.1121 140.552 98.6769 Q142.381 102.219 145.992 102.219 Q149.626 102.219 151.431 98.6769 Q153.26 95.1121 153.26 88.0056 Q153.26 80.876 151.431 77.3344 Q149.626 73.7696 145.992 73.7696 M145.992 70.0659 Q151.802 70.0659 154.857 74.6724 Q157.936 79.2557 157.936 88.0056 Q157.936 96.7324 154.857 101.339 Q151.802 105.922 145.992 105.922 Q140.181 105.922 137.103 101.339 Q134.047 96.7324 134.047 88.0056 Q134.047 79.2557 137.103 74.6724 Q140.181 70.0659 145.992 70.0659 Z\" fill=\"#000000\" fill-rule=\"nonzero\" fill-opacity=\"1\" /><polyline clip-path=\"url(#clip572)\" style=\"stroke:#009af9; stroke-linecap:round; stroke-linejoin:round; stroke-width:4; stroke-opacity:1; fill:none\" points=\"255.035,738.619 263.149,772.554 271.263,806.475 279.377,840.298 287.491,873.936 295.605,907.307 303.719,940.327 311.833,972.914 319.947,1004.98 328.061,1036.46 336.175,1067.26 344.289,1097.31 352.403,1126.54 360.517,1154.87 368.631,1182.22 376.745,1208.54 384.859,1233.75 392.973,1257.8 401.087,1280.62 409.201,1302.16 417.315,1322.36 425.429,1341.16 433.543,1358.54 441.657,1374.43 449.771,1388.81 457.886,1401.63 466,1412.87 474.114,1422.49 482.228,1430.47 490.342,1436.79 498.456,1441.44 506.57,1444.4 514.684,1445.67 522.798,1445.24 530.912,1443.12 539.026,1439.3 547.14,1433.81 555.254,1426.65 563.368,1417.84 571.482,1407.4 579.596,1395.36 587.71,1381.75 595.824,1366.6 603.938,1349.96 612.052,1331.85 620.166,1312.34 628.28,1291.46 636.394,1269.27 644.508,1245.82 652.622,1221.18 660.736,1195.4 668.85,1168.55 676.964,1140.69 685.078,1111.9 693.193,1082.25 701.307,1051.81 709.421,1020.66 717.535,988.876 725.649,956.535 733.763,923.72 741.877,890.512 749.991,856.996 758.105,823.254 766.219,789.371 774.333,755.432 782.447,721.521 790.561,687.724 798.675,654.125 806.789,620.807 814.903,587.854 823.017,555.349 831.131,523.372 839.245,492.004 847.359,461.323 855.473,431.405 863.587,402.326 871.701,374.158 879.815,346.971 887.929,320.834 896.043,295.812 904.157,271.967 912.271,249.359 920.385,228.045 928.5,208.077 936.614,189.506 944.728,172.378 952.842,156.736 960.956,142.618 969.07,130.061 977.184,119.096 985.298,109.749 993.412,102.045 1001.53,96.0032 1009.64,91.6377 1017.75,88.9598 1025.87,87.9763 1033.98,88.6896 1042.1,91.0979 1050.21,95.1953 1058.32,100.971 1066.44,108.412 1074.55,117.498 1082.67,128.207 1090.78,140.513 1098.89,154.384 1107.01,169.786 1115.12,186.68 1123.24,205.025 1131.35,224.773 1139.46,245.877 1147.58,268.282 1155.69,291.934 1163.81,316.773 1171.92,342.737 1180.03,369.761 1188.15,397.777 1196.26,426.716 1204.38,456.505 1212.49,487.069 1220.6,518.333 1228.72,550.218 1236.83,582.645 1244.95,615.532 1253.06,648.797 1261.17,682.358 1269.29,716.129 1277.4,750.027 1285.52,783.967 1293.63,817.865 1301.75,851.635 1309.86,885.193 1317.97,918.455 1326.09,951.338 1334.2,983.76 1342.32,1015.64 1350.43,1046.9 1358.54,1077.46 1366.66,1107.24 1374.77,1136.17 1382.89,1164.18 1391,1191.19 1399.11,1217.15 1407.23,1241.97 1415.34,1265.62 1423.46,1288.01 1431.57,1309.1 1439.68,1328.84 1447.8,1347.17 1455.91,1364.05 1464.03,1379.44 1472.14,1393.3 1480.25,1405.59 1488.37,1416.28 1496.48,1425.35 1504.6,1432.78 1512.71,1438.54 1520.82,1442.62 1528.94,1445.02 1537.05,1445.72 1545.17,1444.72 1553.28,1442.02 1561.39,1437.64 1569.51,1431.59 1577.62,1423.87 1585.74,1414.51 1593.85,1403.53 1601.96,1390.96 1610.08,1376.83 1618.19,1361.17 1626.31,1344.03 1634.42,1325.44 1642.53,1305.47 1650.65,1284.14 1658.76,1261.52 1666.88,1237.66 1674.99,1212.63 1683.1,1186.48 1691.22,1159.29 1699.33,1131.11 1707.45,1102.03 1715.56,1072.1 1723.67,1041.41 1731.79,1010.04 1739.9,978.058 1748.02,945.548 1756.13,912.592 1764.25,879.271 1772.36,845.67 1780.47,811.871 1788.59,777.96 1796.7,744.021 1804.82,710.139 1812.93,676.399 1821.04,642.884 1829.16,609.68 1837.27,576.869 1845.39,544.532 1853.5,512.751 1861.61,481.605 1869.73,451.173 1877.84,421.529 1885.96,392.748 1894.07,364.902 1902.18,338.061 1910.3,312.292 1918.41,287.659 1926.53,264.223 1934.64,242.044 1942.75,221.177 1950.87,201.673 1958.98,183.583 1967.1,166.95 1975.21,151.816 1983.32,138.22 1991.44,126.195 1999.55,115.771 2007.67,106.974 2015.78,99.8272 2023.89,94.3473 2032.01,90.5483 2040.12,88.4397 2048.24,88.0268 2056.35,89.3106 2064.46,92.2878 2072.58,96.9511 2080.69,103.289 2088.81,111.285 2096.92,120.92 2105.03,132.169 2113.15,145.005 2121.26,159.395 2129.38,175.303 2137.49,192.69 2145.6,211.512 2153.72,231.721 2161.83,253.269 2169.95,276.1 2178.06,300.158 2186.17,325.382 2194.29,351.71 2202.4,379.075 2210.52,407.409 2218.63,436.642 2226.74,466.701 2234.86,497.509 2242.97,528.991 2251.09,561.067 2259.2,593.657 2267.32,626.681 2275.43,660.055 2283.54,693.695 2291.66,727.519 \"/>\n<path clip-path=\"url(#clip570)\" d=\"M265.897 198.898 L534.209 198.898 L534.209 95.2176 L265.897 95.2176  Z\" fill=\"#ffffff\" fill-rule=\"evenodd\" fill-opacity=\"1\"/>\n<polyline clip-path=\"url(#clip570)\" style=\"stroke:#000000; stroke-linecap:round; stroke-linejoin:round; stroke-width:4; stroke-opacity:1; fill:none\" points=\"265.897,198.898 534.209,198.898 534.209,95.2176 265.897,95.2176 265.897,198.898 \"/>\n<polyline clip-path=\"url(#clip570)\" style=\"stroke:#009af9; stroke-linecap:round; stroke-linejoin:round; stroke-width:4; stroke-opacity:1; fill:none\" points=\"289.884,147.058 433.805,147.058 \"/>\n<path clip-path=\"url(#clip570)\" d=\"M471.634 166.745 Q469.829 171.375 468.116 172.787 Q466.403 174.199 463.532 174.199 L460.13 174.199 L460.13 170.634 L462.63 170.634 Q464.389 170.634 465.361 169.8 Q466.333 168.967 467.514 165.865 L468.278 163.921 L457.792 138.412 L462.306 138.412 L470.407 158.689 L478.509 138.412 L483.023 138.412 L471.634 166.745 Z\" fill=\"#000000\" fill-rule=\"nonzero\" fill-opacity=\"1\" /><path clip-path=\"url(#clip570)\" d=\"M490.315 160.402 L497.954 160.402 L497.954 134.037 L489.643 135.703 L489.643 131.444 L497.907 129.778 L502.583 129.778 L502.583 160.402 L510.222 160.402 L510.222 164.338 L490.315 164.338 L490.315 160.402 Z\" fill=\"#000000\" fill-rule=\"nonzero\" fill-opacity=\"1\" /></svg>\n"
               },
               "type": "node"
              }
             ],
             "instanceArgs": {
              "namespace": "html",
              "tag": "div"
             },
             "nodeType": "DOM",
             "props": {
              "className": "interact-flex-row interact-widget"
             },
             "type": "node"
            }
           }
          },
          "systemjs_options": null
         },
         "nodeType": "Scope",
         "props": {},
         "type": "node"
        }
       ],
       "instanceArgs": {
        "namespace": "html",
        "tag": "div"
       },
       "nodeType": "DOM",
       "props": {},
       "type": "node"
      },
      "text/html": [
       "<div\n",
       "    class=\"webio-mountpoint\"\n",
       "    data-webio-mountpoint=\"15532837005771161782\"\n",
       ">\n",
       "    <script>\n",
       "    (function(){\n",
       "    // Some integrations (namely, IJulia/Jupyter) use an alternate render pathway than\n",
       "    // just putting the html on the page. If WebIO isn't defined, then it's pretty likely\n",
       "    // that we're in one of those situations and the integration just isn't installed\n",
       "    // correctly.\n",
       "    if (typeof window.WebIO === \"undefined\") {\n",
       "        document\n",
       "            .querySelector('[data-webio-mountpoint=\"15532837005771161782\"]')\n",
       "            .innerHTML = (\n",
       "                '<div style=\"padding: 1em; background-color: #f8d6da; border: 1px solid #f5c6cb; font-weight: bold;\">' +\n",
       "                '<p><strong>WebIO not detected.</strong></p>' +\n",
       "                '<p>Please read ' +\n",
       "                '<a href=\"https://juliagizmos.github.io/WebIO.jl/latest/troubleshooting/not-detected/\" target=\"_blank\">the troubleshooting guide</a> ' +\n",
       "                'for more information on how to resolve this issue.</p>' +\n",
       "                '<p><a href=\"https://juliagizmos.github.io/WebIO.jl/latest/troubleshooting/not-detected/\" target=\"_blank\">https://juliagizmos.github.io/WebIO.jl/latest/troubleshooting/not-detected/</a></p>' +\n",
       "                '</div>'\n",
       "            );\n",
       "        return;\n",
       "    }\n",
       "    WebIO.mount(\n",
       "        document.querySelector('[data-webio-mountpoint=\"15532837005771161782\"]'),\n",
       "        {\"props\":{},\"nodeType\":\"DOM\",\"type\":\"node\",\"instanceArgs\":{\"namespace\":\"html\",\"tag\":\"div\"},\"children\":[{\"props\":{\"className\":\"interact-widget\"},\"nodeType\":\"DOM\",\"type\":\"node\",\"instanceArgs\":{\"namespace\":\"html\",\"tag\":\"div\"},\"children\":[{\"props\":{},\"nodeType\":\"Scope\",\"type\":\"node\",\"instanceArgs\":{\"imports\":{\"data\":[{\"name\":\"knockout\",\"type\":\"js\",\"url\":\"\\/assetserver\\/2f41271402a5ef9c872f54d98b634dd0b52b51b5-knockout.js\"},{\"name\":\"knockout_punches\",\"type\":\"js\",\"url\":\"\\/assetserver\\/16d9eac8f67d66ea9255f645c61cae4d19575e2b-knockout_punches.js\"},{\"name\":null,\"type\":\"js\",\"url\":\"\\/assetserver\\/7509dc6ca400d77fd72cc5878837451f5a140ca9-all.js\"},{\"name\":null,\"type\":\"css\",\"url\":\"\\/assetserver\\/338684eb23500e230519893e91491e2c79026b2c-style.css\"},{\"name\":null,\"type\":\"css\",\"url\":\"\\/assetserver\\/de6306d24411796848be2926b10ddad8cbaee8b2-bulma_confined.min.css\"}],\"type\":\"async_block\"},\"id\":\"9647987603699994557\",\"handlers\":{\"options_js\":[\"(function (val){return (val!=this.model[\\\"options_js\\\"]()) ? (this.valueFromJulia[\\\"options_js\\\"]=true, this.model[\\\"options_js\\\"](val)) : undefined})\"],\"index\":[\"(function (val){return (val!=this.model[\\\"index\\\"]()) ? (this.valueFromJulia[\\\"index\\\"]=true, this.model[\\\"index\\\"](val)) : undefined})\"]},\"systemjs_options\":null,\"mount_callbacks\":[\"function () {\\n    var handler = (function (ko, koPunches) {\\n    ko.punches.enableAll();\\n    ko.bindingHandlers.numericValue = {\\n        init: function(element, valueAccessor, allBindings, data, context) {\\n            var stringified = ko.observable(ko.unwrap(valueAccessor()));\\n            stringified.subscribe(function(value) {\\n                var val = parseFloat(value);\\n                if (!isNaN(val)) {\\n                    valueAccessor()(val);\\n                }\\n            });\\n            valueAccessor().subscribe(function(value) {\\n                var str = JSON.stringify(value);\\n                if ((str == \\\"0\\\") && ([\\\"-0\\\", \\\"-0.\\\"].indexOf(stringified()) >= 0))\\n                     return;\\n                 if ([\\\"null\\\", \\\"\\\"].indexOf(str) >= 0)\\n                     return;\\n                stringified(str);\\n            });\\n            ko.applyBindingsToNode(\\n                element,\\n                {\\n                    value: stringified,\\n                    valueUpdate: allBindings.get('valueUpdate'),\\n                },\\n                context,\\n            );\\n        }\\n    };\\n    var json_data = {\\\"options_js\\\":WebIO.getval({\\\"name\\\":\\\"options_js\\\",\\\"scope\\\":\\\"9647987603699994557\\\",\\\"id\\\":\\\"14\\\",\\\"type\\\":\\\"observable\\\"}),\\\"index\\\":WebIO.getval({\\\"name\\\":\\\"index\\\",\\\"scope\\\":\\\"9647987603699994557\\\",\\\"id\\\":\\\"13\\\",\\\"type\\\":\\\"observable\\\"})};\\n    var self = this;\\n    function AppViewModel() {\\n        for (var key in json_data) {\\n            var el = json_data[key];\\n            this[key] = Array.isArray(el) ? ko.observableArray(el) : ko.observable(el);\\n        }\\n        [this[\\\"update\\\"]=function (val) {this.index(val)}]\\n        \\n        [this[\\\"options_js\\\"].subscribe((function (val){!(this.valueFromJulia[\\\"options_js\\\"]) ? (WebIO.setval({\\\"name\\\":\\\"options_js\\\",\\\"scope\\\":\\\"9647987603699994557\\\",\\\"id\\\":\\\"14\\\",\\\"type\\\":\\\"observable\\\"},val)) : undefined; return this.valueFromJulia[\\\"options_js\\\"]=false}),self),this[\\\"index\\\"].subscribe((function (val){!(this.valueFromJulia[\\\"index\\\"]) ? (WebIO.setval({\\\"name\\\":\\\"index\\\",\\\"scope\\\":\\\"9647987603699994557\\\",\\\"id\\\":\\\"13\\\",\\\"type\\\":\\\"observable\\\"},val)) : undefined; return this.valueFromJulia[\\\"index\\\"]=false}),self)]\\n        \\n    }\\n    self.model = new AppViewModel();\\n    self.valueFromJulia = {};\\n    for (var key in json_data) {\\n        self.valueFromJulia[key] = false;\\n    }\\n    ko.applyBindings(self.model, self.dom);\\n}\\n);\\n    (WebIO.importBlock({\\\"data\\\":[{\\\"name\\\":\\\"knockout\\\",\\\"type\\\":\\\"js\\\",\\\"url\\\":\\\"\\/assetserver\\/2f41271402a5ef9c872f54d98b634dd0b52b51b5-knockout.js\\\"},{\\\"name\\\":\\\"knockout_punches\\\",\\\"type\\\":\\\"js\\\",\\\"url\\\":\\\"\\/assetserver\\/16d9eac8f67d66ea9255f645c61cae4d19575e2b-knockout_punches.js\\\"}],\\\"type\\\":\\\"async_block\\\"})).then((imports) => handler.apply(this, imports));\\n}\\n\"],\"observables\":{\"options_js\":{\"sync\":false,\"id\":\"14\",\"value\":[{\"key\":\"sin\",\"val\":1,\"id\":\"idumUg8eRd\"},{\"key\":\"cos\",\"val\":2,\"id\":\"idJFto5fvP\"},{\"key\":\"tan\",\"val\":3,\"id\":\"idaMMsh57Y\"}]},\"index\":{\"sync\":true,\"id\":\"13\",\"value\":1}}},\"children\":[{\"props\":{\"className\":\"interact-flex-row interact-widget\"},\"nodeType\":\"DOM\",\"type\":\"node\",\"instanceArgs\":{\"namespace\":\"html\",\"tag\":\"div\"},\"children\":[{\"props\":{\"className\":\"interact-flex-row-left\"},\"nodeType\":\"DOM\",\"type\":\"node\",\"instanceArgs\":{\"namespace\":\"html\",\"tag\":\"div\"},\"children\":[{\"props\":{\"className\":\"interact \",\"style\":{\"padding\":\"5px 10px 0px 10px\"}},\"nodeType\":\"DOM\",\"type\":\"node\",\"instanceArgs\":{\"namespace\":\"html\",\"tag\":\"label\"},\"children\":[\"f\"]}]},{\"props\":{\"className\":\"interact-flex-row-center\"},\"nodeType\":\"DOM\",\"type\":\"node\",\"instanceArgs\":{\"namespace\":\"html\",\"tag\":\"div\"},\"children\":[{\"props\":{\"attributes\":{\"data-bind\":\"foreach : options_js\"},\"className\":\"buttons has-addons is-centered\"},\"nodeType\":\"DOM\",\"type\":\"node\",\"instanceArgs\":{\"namespace\":\"html\",\"tag\":\"div\"},\"children\":[{\"props\":{\"attributes\":{\"data-bind\":\"click: function (){$root.update(val)}, css: {'is-primary is-selected' : $root.index() == val, 'interact-widget is-medium button ' : true}\"}},\"nodeType\":\"DOM\",\"type\":\"node\",\"instanceArgs\":{\"namespace\":\"html\",\"tag\":\"span\"},\"children\":[{\"props\":{\"attributes\":{\"data-bind\":\"text : key\"}},\"nodeType\":\"DOM\",\"type\":\"node\",\"instanceArgs\":{\"namespace\":\"html\",\"tag\":\"label\"},\"children\":[]}]}]}]},{\"props\":{\"className\":\"interact-flex-row-right\"},\"nodeType\":\"DOM\",\"type\":\"node\",\"instanceArgs\":{\"namespace\":\"html\",\"tag\":\"div\"},\"children\":[{\"props\":{},\"nodeType\":\"DOM\",\"type\":\"node\",\"instanceArgs\":{\"namespace\":\"html\",\"tag\":\"div\"},\"children\":[]}]}]}]}]},{\"props\":{\"className\":\"field interact-widget\"},\"nodeType\":\"DOM\",\"type\":\"node\",\"instanceArgs\":{\"namespace\":\"html\",\"tag\":\"div\"},\"children\":[{\"props\":{},\"nodeType\":\"Scope\",\"type\":\"node\",\"instanceArgs\":{\"imports\":{\"data\":[{\"name\":\"knockout\",\"type\":\"js\",\"url\":\"\\/assetserver\\/2f41271402a5ef9c872f54d98b634dd0b52b51b5-knockout.js\"},{\"name\":\"knockout_punches\",\"type\":\"js\",\"url\":\"\\/assetserver\\/16d9eac8f67d66ea9255f645c61cae4d19575e2b-knockout_punches.js\"},{\"name\":null,\"type\":\"js\",\"url\":\"\\/assetserver\\/7509dc6ca400d77fd72cc5878837451f5a140ca9-all.js\"},{\"name\":null,\"type\":\"css\",\"url\":\"\\/assetserver\\/338684eb23500e230519893e91491e2c79026b2c-style.css\"},{\"name\":null,\"type\":\"css\",\"url\":\"\\/assetserver\\/de6306d24411796848be2926b10ddad8cbaee8b2-bulma_confined.min.css\"}],\"type\":\"async_block\"},\"id\":\"13129863515086317278\",\"handlers\":{\"changes\":[\"(function (val){return (val!=this.model[\\\"changes\\\"]()) ? (this.valueFromJulia[\\\"changes\\\"]=true, this.model[\\\"changes\\\"](val)) : undefined})\"],\"index\":[\"(function (val){return (val!=this.model[\\\"index\\\"]()) ? (this.valueFromJulia[\\\"index\\\"]=true, this.model[\\\"index\\\"](val)) : undefined})\"]},\"systemjs_options\":null,\"mount_callbacks\":[\"function () {\\n    var handler = (function (ko, koPunches) {\\n    ko.punches.enableAll();\\n    ko.bindingHandlers.numericValue = {\\n        init: function(element, valueAccessor, allBindings, data, context) {\\n            var stringified = ko.observable(ko.unwrap(valueAccessor()));\\n            stringified.subscribe(function(value) {\\n                var val = parseFloat(value);\\n                if (!isNaN(val)) {\\n                    valueAccessor()(val);\\n                }\\n            });\\n            valueAccessor().subscribe(function(value) {\\n                var str = JSON.stringify(value);\\n                if ((str == \\\"0\\\") && ([\\\"-0\\\", \\\"-0.\\\"].indexOf(stringified()) >= 0))\\n                     return;\\n                 if ([\\\"null\\\", \\\"\\\"].indexOf(str) >= 0)\\n                     return;\\n                stringified(str);\\n            });\\n            ko.applyBindingsToNode(\\n                element,\\n                {\\n                    value: stringified,\\n                    valueUpdate: allBindings.get('valueUpdate'),\\n                },\\n                context,\\n            );\\n        }\\n    };\\n    var json_data = {\\\"formatted_vals\\\":[\\\"0.0\\\",\\\"0.05\\\",\\\"0.1\\\",\\\"0.15\\\",\\\"0.2\\\",\\\"0.25\\\",\\\"0.3\\\",\\\"0.35\\\",\\\"0.4\\\",\\\"0.45\\\",\\\"0.5\\\",\\\"0.55\\\",\\\"0.6\\\",\\\"0.65\\\",\\\"0.7\\\",\\\"0.75\\\",\\\"0.8\\\",\\\"0.85\\\",\\\"0.9\\\",\\\"0.95\\\",\\\"1.0\\\",\\\"1.05\\\",\\\"1.1\\\",\\\"1.15\\\",\\\"1.2\\\",\\\"1.25\\\",\\\"1.3\\\",\\\"1.35\\\",\\\"1.4\\\",\\\"1.45\\\",\\\"1.5\\\",\\\"1.55\\\",\\\"1.6\\\",\\\"1.65\\\",\\\"1.7\\\",\\\"1.75\\\",\\\"1.8\\\",\\\"1.85\\\",\\\"1.9\\\",\\\"1.95\\\",\\\"2.0\\\",\\\"2.05\\\",\\\"2.1\\\",\\\"2.15\\\",\\\"2.2\\\",\\\"2.25\\\",\\\"2.3\\\",\\\"2.35\\\",\\\"2.4\\\",\\\"2.45\\\",\\\"2.5\\\",\\\"2.55\\\",\\\"2.6\\\",\\\"2.65\\\",\\\"2.7\\\",\\\"2.75\\\",\\\"2.8\\\",\\\"2.85\\\",\\\"2.9\\\",\\\"2.95\\\",\\\"3.0\\\",\\\"3.05\\\",\\\"3.1\\\",\\\"3.15\\\",\\\"3.2\\\",\\\"3.25\\\",\\\"3.3\\\",\\\"3.35\\\",\\\"3.4\\\",\\\"3.45\\\",\\\"3.5\\\",\\\"3.55\\\",\\\"3.6\\\",\\\"3.65\\\",\\\"3.7\\\",\\\"3.75\\\",\\\"3.8\\\",\\\"3.85\\\",\\\"3.9\\\",\\\"3.95\\\",\\\"4.0\\\",\\\"4.05\\\",\\\"4.1\\\",\\\"4.15\\\",\\\"4.2\\\",\\\"4.25\\\",\\\"4.3\\\",\\\"4.35\\\",\\\"4.4\\\",\\\"4.45\\\",\\\"4.5\\\",\\\"4.55\\\",\\\"4.6\\\",\\\"4.65\\\",\\\"4.7\\\",\\\"4.75\\\",\\\"4.8\\\",\\\"4.85\\\",\\\"4.9\\\",\\\"4.95\\\",\\\"5.0\\\",\\\"5.05\\\",\\\"5.1\\\",\\\"5.15\\\",\\\"5.2\\\",\\\"5.25\\\",\\\"5.3\\\",\\\"5.35\\\",\\\"5.4\\\",\\\"5.45\\\",\\\"5.5\\\",\\\"5.55\\\",\\\"5.6\\\",\\\"5.65\\\",\\\"5.7\\\",\\\"5.75\\\",\\\"5.8\\\",\\\"5.85\\\",\\\"5.9\\\",\\\"5.95\\\",\\\"6.0\\\",\\\"6.05\\\",\\\"6.1\\\",\\\"6.15\\\",\\\"6.2\\\",\\\"6.25\\\"],\\\"changes\\\":WebIO.getval({\\\"name\\\":\\\"changes\\\",\\\"scope\\\":\\\"13129863515086317278\\\",\\\"id\\\":\\\"17\\\",\\\"type\\\":\\\"observable\\\"}),\\\"index\\\":WebIO.getval({\\\"name\\\":\\\"index\\\",\\\"scope\\\":\\\"13129863515086317278\\\",\\\"id\\\":\\\"16\\\",\\\"type\\\":\\\"observable\\\"})};\\n    var self = this;\\n    function AppViewModel() {\\n        for (var key in json_data) {\\n            var el = json_data[key];\\n            this[key] = Array.isArray(el) ? ko.observableArray(el) : ko.observable(el);\\n        }\\n        \\n        [this[\\\"formatted_val\\\"]=ko.computed(    function(){\\n        return this.formatted_vals()[parseInt(this.index())-(1)];\\n    }\\n,this)]\\n        [this[\\\"changes\\\"].subscribe((function (val){!(this.valueFromJulia[\\\"changes\\\"]) ? (WebIO.setval({\\\"name\\\":\\\"changes\\\",\\\"scope\\\":\\\"13129863515086317278\\\",\\\"id\\\":\\\"17\\\",\\\"type\\\":\\\"observable\\\"},val)) : undefined; return this.valueFromJulia[\\\"changes\\\"]=false}),self),this[\\\"index\\\"].subscribe((function (val){!(this.valueFromJulia[\\\"index\\\"]) ? (WebIO.setval({\\\"name\\\":\\\"index\\\",\\\"scope\\\":\\\"13129863515086317278\\\",\\\"id\\\":\\\"16\\\",\\\"type\\\":\\\"observable\\\"},val)) : undefined; return this.valueFromJulia[\\\"index\\\"]=false}),self)]\\n        \\n    }\\n    self.model = new AppViewModel();\\n    self.valueFromJulia = {};\\n    for (var key in json_data) {\\n        self.valueFromJulia[key] = false;\\n    }\\n    ko.applyBindings(self.model, self.dom);\\n}\\n);\\n    (WebIO.importBlock({\\\"data\\\":[{\\\"name\\\":\\\"knockout\\\",\\\"type\\\":\\\"js\\\",\\\"url\\\":\\\"\\/assetserver\\/2f41271402a5ef9c872f54d98b634dd0b52b51b5-knockout.js\\\"},{\\\"name\\\":\\\"knockout_punches\\\",\\\"type\\\":\\\"js\\\",\\\"url\\\":\\\"\\/assetserver\\/16d9eac8f67d66ea9255f645c61cae4d19575e2b-knockout_punches.js\\\"}],\\\"type\\\":\\\"async_block\\\"})).then((imports) => handler.apply(this, imports));\\n}\\n\"],\"observables\":{\"changes\":{\"sync\":false,\"id\":\"17\",\"value\":0},\"index\":{\"sync\":true,\"id\":\"16\",\"value\":63}}},\"children\":[{\"props\":{\"className\":\"interact-flex-row interact-widget\"},\"nodeType\":\"DOM\",\"type\":\"node\",\"instanceArgs\":{\"namespace\":\"html\",\"tag\":\"div\"},\"children\":[{\"props\":{\"className\":\"interact-flex-row-left\"},\"nodeType\":\"DOM\",\"type\":\"node\",\"instanceArgs\":{\"namespace\":\"html\",\"tag\":\"div\"},\"children\":[{\"props\":{\"className\":\"interact \",\"style\":{\"padding\":\"5px 10px 0px 10px\"}},\"nodeType\":\"DOM\",\"type\":\"node\",\"instanceArgs\":{\"namespace\":\"html\",\"tag\":\"label\"},\"children\":[\"ϕ\"]}]},{\"props\":{\"className\":\"interact-flex-row-center\"},\"nodeType\":\"DOM\",\"type\":\"node\",\"instanceArgs\":{\"namespace\":\"html\",\"tag\":\"div\"},\"children\":[{\"props\":{\"max\":126,\"min\":1,\"attributes\":{\"type\":\"range\",\"data-bind\":\"numericValue: index, valueUpdate: 'input', event: {change: function (){this.changes(this.changes()+1)}}\",\"orient\":\"horizontal\"},\"step\":1,\"className\":\"slider slider is-fullwidth\",\"style\":{}},\"nodeType\":\"DOM\",\"type\":\"node\",\"instanceArgs\":{\"namespace\":\"html\",\"tag\":\"input\"},\"children\":[]}]},{\"props\":{\"className\":\"interact-flex-row-right\"},\"nodeType\":\"DOM\",\"type\":\"node\",\"instanceArgs\":{\"namespace\":\"html\",\"tag\":\"div\"},\"children\":[{\"props\":{\"attributes\":{\"data-bind\":\"text: formatted_val\"}},\"nodeType\":\"DOM\",\"type\":\"node\",\"instanceArgs\":{\"namespace\":\"html\",\"tag\":\"p\"},\"children\":[]}]}]}]}]},{\"props\":{},\"nodeType\":\"Scope\",\"type\":\"node\",\"instanceArgs\":{\"imports\":{\"data\":[],\"type\":\"async_block\"},\"id\":\"2499186401414605148\",\"handlers\":{},\"systemjs_options\":null,\"mount_callbacks\":[],\"observables\":{\"obs-node\":{\"sync\":false,\"id\":\"21\",\"value\":{\"props\":{\"className\":\"interact-flex-row interact-widget\"},\"nodeType\":\"DOM\",\"type\":\"node\",\"instanceArgs\":{\"namespace\":\"html\",\"tag\":\"div\"},\"children\":[{\"props\":{\"setInnerHtml\":\"<?xml version=\\\"1.0\\\" encoding=\\\"utf-8\\\"?>\\n<svg xmlns=\\\"http:\\/\\/www.w3.org\\/2000\\/svg\\\" xmlns:xlink=\\\"http:\\/\\/www.w3.org\\/1999\\/xlink\\\" width=\\\"600\\\" height=\\\"400\\\" viewBox=\\\"0 0 2400 1600\\\">\\n<defs>\\n  <clipPath id=\\\"clip530\\\">\\n    <rect x=\\\"0\\\" y=\\\"0\\\" width=\\\"2400\\\" height=\\\"1600\\\"\\/>\\n  <\\/clipPath>\\n<\\/defs>\\n<path clip-path=\\\"url(#clip530)\\\" d=\\\"M0 1600 L2400 1600 L2400 0 L0 0  Z\\\" fill=\\\"#ffffff\\\" fill-rule=\\\"evenodd\\\" fill-opacity=\\\"1\\\"\\/>\\n<defs>\\n  <clipPath id=\\\"clip531\\\">\\n    <rect x=\\\"480\\\" y=\\\"0\\\" width=\\\"1681\\\" height=\\\"1600\\\"\\/>\\n  <\\/clipPath>\\n<\\/defs>\\n<path clip-path=\\\"url(#clip530)\\\" d=\\\"M193.936 1486.45 L2352.76 1486.45 L2352.76 47.2441 L193.936 47.2441  Z\\\" fill=\\\"#ffffff\\\" fill-rule=\\\"evenodd\\\" fill-opacity=\\\"1\\\"\\/>\\n<defs>\\n  <clipPath id=\\\"clip532\\\">\\n    <rect x=\\\"193\\\" y=\\\"47\\\" width=\\\"2160\\\" height=\\\"1440\\\"\\/>\\n  <\\/clipPath>\\n<\\/defs>\\n<polyline clip-path=\\\"url(#clip532)\\\" style=\\\"stroke:#000000; stroke-linecap:round; stroke-linejoin:round; stroke-width:2; stroke-opacity:0.1; fill:none\\\" points=\\\"255.035,1486.45 255.035,47.2441 \\\"\\/>\\n<polyline clip-path=\\\"url(#clip532)\\\" style=\\\"stroke:#000000; stroke-linecap:round; stroke-linejoin:round; stroke-width:2; stroke-opacity:0.1; fill:none\\\" points=\\\"579.596,1486.45 579.596,47.2441 \\\"\\/>\\n<polyline clip-path=\\\"url(#clip532)\\\" style=\\\"stroke:#000000; stroke-linecap:round; stroke-linejoin:round; stroke-width:2; stroke-opacity:0.1; fill:none\\\" points=\\\"904.157,1486.45 904.157,47.2441 \\\"\\/>\\n<polyline clip-path=\\\"url(#clip532)\\\" style=\\\"stroke:#000000; stroke-linecap:round; stroke-linejoin:round; stroke-width:2; stroke-opacity:0.1; fill:none\\\" points=\\\"1228.72,1486.45 1228.72,47.2441 \\\"\\/>\\n<polyline clip-path=\\\"url(#clip532)\\\" style=\\\"stroke:#000000; stroke-linecap:round; stroke-linejoin:round; stroke-width:2; stroke-opacity:0.1; fill:none\\\" points=\\\"1553.28,1486.45 1553.28,47.2441 \\\"\\/>\\n<polyline clip-path=\\\"url(#clip532)\\\" style=\\\"stroke:#000000; stroke-linecap:round; stroke-linejoin:round; stroke-width:2; stroke-opacity:0.1; fill:none\\\" points=\\\"1877.84,1486.45 1877.84,47.2441 \\\"\\/>\\n<polyline clip-path=\\\"url(#clip532)\\\" style=\\\"stroke:#000000; stroke-linecap:round; stroke-linejoin:round; stroke-width:2; stroke-opacity:0.1; fill:none\\\" points=\\\"2202.4,1486.45 2202.4,47.2441 \\\"\\/>\\n<polyline clip-path=\\\"url(#clip532)\\\" style=\\\"stroke:#000000; stroke-linecap:round; stroke-linejoin:round; stroke-width:2; stroke-opacity:0.1; fill:none\\\" points=\\\"193.936,1445.72 2352.76,1445.72 \\\"\\/>\\n<polyline clip-path=\\\"url(#clip532)\\\" style=\\\"stroke:#000000; stroke-linecap:round; stroke-linejoin:round; stroke-width:2; stroke-opacity:0.1; fill:none\\\" points=\\\"193.936,1106.28 2352.76,1106.28 \\\"\\/>\\n<polyline clip-path=\\\"url(#clip532)\\\" style=\\\"stroke:#000000; stroke-linecap:round; stroke-linejoin:round; stroke-width:2; stroke-opacity:0.1; fill:none\\\" points=\\\"193.936,766.847 2352.76,766.847 \\\"\\/>\\n<polyline clip-path=\\\"url(#clip532)\\\" style=\\\"stroke:#000000; stroke-linecap:round; stroke-linejoin:round; stroke-width:2; stroke-opacity:0.1; fill:none\\\" points=\\\"193.936,427.409 2352.76,427.409 \\\"\\/>\\n<polyline clip-path=\\\"url(#clip532)\\\" style=\\\"stroke:#000000; stroke-linecap:round; stroke-linejoin:round; stroke-width:2; stroke-opacity:0.1; fill:none\\\" points=\\\"193.936,87.9709 2352.76,87.9709 \\\"\\/>\\n<polyline clip-path=\\\"url(#clip530)\\\" style=\\\"stroke:#000000; stroke-linecap:round; stroke-linejoin:round; stroke-width:4; stroke-opacity:1; fill:none\\\" points=\\\"193.936,1486.45 2352.76,1486.45 \\\"\\/>\\n<polyline clip-path=\\\"url(#clip530)\\\" style=\\\"stroke:#000000; stroke-linecap:round; stroke-linejoin:round; stroke-width:4; stroke-opacity:1; fill:none\\\" points=\\\"255.035,1486.45 255.035,1467.55 \\\"\\/>\\n<polyline clip-path=\\\"url(#clip530)\\\" style=\\\"stroke:#000000; stroke-linecap:round; stroke-linejoin:round; stroke-width:4; stroke-opacity:1; fill:none\\\" points=\\\"579.596,1486.45 579.596,1467.55 \\\"\\/>\\n<polyline clip-path=\\\"url(#clip530)\\\" style=\\\"stroke:#000000; stroke-linecap:round; stroke-linejoin:round; stroke-width:4; stroke-opacity:1; fill:none\\\" points=\\\"904.157,1486.45 904.157,1467.55 \\\"\\/>\\n<polyline clip-path=\\\"url(#clip530)\\\" style=\\\"stroke:#000000; stroke-linecap:round; stroke-linejoin:round; stroke-width:4; stroke-opacity:1; fill:none\\\" points=\\\"1228.72,1486.45 1228.72,1467.55 \\\"\\/>\\n<polyline clip-path=\\\"url(#clip530)\\\" style=\\\"stroke:#000000; stroke-linecap:round; stroke-linejoin:round; stroke-width:4; stroke-opacity:1; fill:none\\\" points=\\\"1553.28,1486.45 1553.28,1467.55 \\\"\\/>\\n<polyline clip-path=\\\"url(#clip530)\\\" style=\\\"stroke:#000000; stroke-linecap:round; stroke-linejoin:round; stroke-width:4; stroke-opacity:1; fill:none\\\" points=\\\"1877.84,1486.45 1877.84,1467.55 \\\"\\/>\\n<polyline clip-path=\\\"url(#clip530)\\\" style=\\\"stroke:#000000; stroke-linecap:round; stroke-linejoin:round; stroke-width:4; stroke-opacity:1; fill:none\\\" points=\\\"2202.4,1486.45 2202.4,1467.55 \\\"\\/>\\n<path clip-path=\\\"url(#clip530)\\\" d=\\\"M255.035 1517.37 Q251.424 1517.37 249.595 1520.93 Q247.789 1524.47 247.789 1531.6 Q247.789 1538.71 249.595 1542.27 Q251.424 1545.82 255.035 1545.82 Q258.669 1545.82 260.474 1542.27 Q262.303 1538.71 262.303 1531.6 Q262.303 1524.47 260.474 1520.93 Q258.669 1517.37 255.035 1517.37 M255.035 1513.66 Q260.845 1513.66 263.9 1518.27 Q266.979 1522.85 266.979 1531.6 Q266.979 1540.33 263.9 1544.94 Q260.845 1549.52 255.035 1549.52 Q249.225 1549.52 246.146 1544.94 Q243.09 1540.33 243.09 1531.6 Q243.09 1522.85 246.146 1518.27 Q249.225 1513.66 255.035 1513.66 Z\\\" fill=\\\"#000000\\\" fill-rule=\\\"nonzero\\\" fill-opacity=\\\"1\\\" \\/><path clip-path=\\\"url(#clip530)\\\" d=\\\"M574.249 1544.91 L590.568 1544.91 L590.568 1548.85 L568.624 1548.85 L568.624 1544.91 Q571.286 1542.16 575.869 1537.53 Q580.476 1532.88 581.656 1531.53 Q583.902 1529.01 584.781 1527.27 Q585.684 1525.51 585.684 1523.82 Q585.684 1521.07 583.74 1519.33 Q581.818 1517.6 578.716 1517.6 Q576.517 1517.6 574.064 1518.36 Q571.633 1519.13 568.855 1520.68 L568.855 1515.95 Q571.679 1514.82 574.133 1514.24 Q576.587 1513.66 578.624 1513.66 Q583.994 1513.66 587.189 1516.35 Q590.383 1519.03 590.383 1523.52 Q590.383 1525.65 589.573 1527.57 Q588.786 1529.47 586.679 1532.07 Q586.101 1532.74 582.999 1535.95 Q579.897 1539.15 574.249 1544.91 Z\\\" fill=\\\"#000000\\\" fill-rule=\\\"nonzero\\\" fill-opacity=\\\"1\\\" \\/><path clip-path=\\\"url(#clip530)\\\" d=\\\"M907.167 1518.36 L895.361 1536.81 L907.167 1536.81 L907.167 1518.36 M905.94 1514.29 L911.819 1514.29 L911.819 1536.81 L916.75 1536.81 L916.75 1540.7 L911.819 1540.7 L911.819 1548.85 L907.167 1548.85 L907.167 1540.7 L891.565 1540.7 L891.565 1536.19 L905.94 1514.29 Z\\\" fill=\\\"#000000\\\" fill-rule=\\\"nonzero\\\" fill-opacity=\\\"1\\\" \\/><path clip-path=\\\"url(#clip530)\\\" d=\\\"M1229.12 1529.7 Q1225.98 1529.7 1224.12 1531.86 Q1222.3 1534.01 1222.3 1537.76 Q1222.3 1541.49 1224.12 1543.66 Q1225.98 1545.82 1229.12 1545.82 Q1232.27 1545.82 1234.1 1543.66 Q1235.95 1541.49 1235.95 1537.76 Q1235.95 1534.01 1234.1 1531.86 Q1232.27 1529.7 1229.12 1529.7 M1238.41 1515.05 L1238.41 1519.31 Q1236.65 1518.48 1234.84 1518.04 Q1233.06 1517.6 1231.3 1517.6 Q1226.67 1517.6 1224.22 1520.72 Q1221.79 1523.85 1221.44 1530.17 Q1222.8 1528.15 1224.86 1527.09 Q1226.92 1526 1229.4 1526 Q1234.61 1526 1237.62 1529.17 Q1240.65 1532.32 1240.65 1537.76 Q1240.65 1543.08 1237.5 1546.3 Q1234.36 1549.52 1229.12 1549.52 Q1223.13 1549.52 1219.96 1544.94 Q1216.79 1540.33 1216.79 1531.6 Q1216.79 1523.41 1220.67 1518.55 Q1224.56 1513.66 1231.11 1513.66 Q1232.87 1513.66 1234.66 1514.01 Q1236.46 1514.36 1238.41 1515.05 Z\\\" fill=\\\"#000000\\\" fill-rule=\\\"nonzero\\\" fill-opacity=\\\"1\\\" \\/><path clip-path=\\\"url(#clip530)\\\" d=\\\"M1553.28 1532.44 Q1549.95 1532.44 1548.03 1534.22 Q1546.13 1536 1546.13 1539.13 Q1546.13 1542.25 1548.03 1544.03 Q1549.95 1545.82 1553.28 1545.82 Q1556.61 1545.82 1558.53 1544.03 Q1560.46 1542.23 1560.46 1539.13 Q1560.46 1536 1558.53 1534.22 Q1556.64 1532.44 1553.28 1532.44 M1548.6 1530.45 Q1545.59 1529.7 1543.91 1527.64 Q1542.24 1525.58 1542.24 1522.62 Q1542.24 1518.48 1545.18 1516.07 Q1548.14 1513.66 1553.28 1513.66 Q1558.44 1513.66 1561.38 1516.07 Q1564.32 1518.48 1564.32 1522.62 Q1564.32 1525.58 1562.63 1527.64 Q1560.97 1529.7 1557.98 1530.45 Q1561.36 1531.23 1563.23 1533.52 Q1565.13 1535.82 1565.13 1539.13 Q1565.13 1544.15 1562.05 1546.83 Q1559 1549.52 1553.28 1549.52 Q1547.56 1549.52 1544.48 1546.83 Q1541.43 1544.15 1541.43 1539.13 Q1541.43 1535.82 1543.33 1533.52 Q1545.22 1531.23 1548.6 1530.45 M1546.89 1523.06 Q1546.89 1525.75 1548.56 1527.25 Q1550.25 1528.76 1553.28 1528.76 Q1556.29 1528.76 1557.98 1527.25 Q1559.69 1525.75 1559.69 1523.06 Q1559.69 1520.38 1557.98 1518.87 Q1556.29 1517.37 1553.28 1517.37 Q1550.25 1517.37 1548.56 1518.87 Q1546.89 1520.38 1546.89 1523.06 Z\\\" fill=\\\"#000000\\\" fill-rule=\\\"nonzero\\\" fill-opacity=\\\"1\\\" \\/><path clip-path=\\\"url(#clip530)\\\" d=\\\"M1852.53 1544.91 L1860.17 1544.91 L1860.17 1518.55 L1851.86 1520.21 L1851.86 1515.95 L1860.12 1514.29 L1864.8 1514.29 L1864.8 1544.91 L1872.44 1544.91 L1872.44 1548.85 L1852.53 1548.85 L1852.53 1544.91 Z\\\" fill=\\\"#000000\\\" fill-rule=\\\"nonzero\\\" fill-opacity=\\\"1\\\" \\/><path clip-path=\\\"url(#clip530)\\\" d=\\\"M1891.88 1517.37 Q1888.27 1517.37 1886.44 1520.93 Q1884.64 1524.47 1884.64 1531.6 Q1884.64 1538.71 1886.44 1542.27 Q1888.27 1545.82 1891.88 1545.82 Q1895.52 1545.82 1897.32 1542.27 Q1899.15 1538.71 1899.15 1531.6 Q1899.15 1524.47 1897.32 1520.93 Q1895.52 1517.37 1891.88 1517.37 M1891.88 1513.66 Q1897.69 1513.66 1900.75 1518.27 Q1903.83 1522.85 1903.83 1531.6 Q1903.83 1540.33 1900.75 1544.94 Q1897.69 1549.52 1891.88 1549.52 Q1886.07 1549.52 1882.99 1544.94 Q1879.94 1540.33 1879.94 1531.6 Q1879.94 1522.85 1882.99 1518.27 Q1886.07 1513.66 1891.88 1513.66 Z\\\" fill=\\\"#000000\\\" fill-rule=\\\"nonzero\\\" fill-opacity=\\\"1\\\" \\/><path clip-path=\\\"url(#clip530)\\\" d=\\\"M2177.89 1544.91 L2185.53 1544.91 L2185.53 1518.55 L2177.22 1520.21 L2177.22 1515.95 L2185.48 1514.29 L2190.16 1514.29 L2190.16 1544.91 L2197.8 1544.91 L2197.8 1548.85 L2177.89 1548.85 L2177.89 1544.91 Z\\\" fill=\\\"#000000\\\" fill-rule=\\\"nonzero\\\" fill-opacity=\\\"1\\\" \\/><path clip-path=\\\"url(#clip530)\\\" d=\\\"M2211.27 1544.91 L2227.59 1544.91 L2227.59 1548.85 L2205.64 1548.85 L2205.64 1544.91 Q2208.31 1542.16 2212.89 1537.53 Q2217.5 1532.88 2218.68 1531.53 Q2220.92 1529.01 2221.8 1527.27 Q2222.7 1525.51 2222.7 1523.82 Q2222.7 1521.07 2220.76 1519.33 Q2218.84 1517.6 2215.74 1517.6 Q2213.54 1517.6 2211.08 1518.36 Q2208.65 1519.13 2205.88 1520.68 L2205.88 1515.95 Q2208.7 1514.82 2211.15 1514.24 Q2213.61 1513.66 2215.64 1513.66 Q2221.01 1513.66 2224.21 1516.35 Q2227.4 1519.03 2227.4 1523.52 Q2227.4 1525.65 2226.59 1527.57 Q2225.81 1529.47 2223.7 1532.07 Q2223.12 1532.74 2220.02 1535.95 Q2216.92 1539.15 2211.27 1544.91 Z\\\" fill=\\\"#000000\\\" fill-rule=\\\"nonzero\\\" fill-opacity=\\\"1\\\" \\/><polyline clip-path=\\\"url(#clip530)\\\" style=\\\"stroke:#000000; stroke-linecap:round; stroke-linejoin:round; stroke-width:4; stroke-opacity:1; fill:none\\\" points=\\\"193.936,1486.45 193.936,47.2441 \\\"\\/>\\n<polyline clip-path=\\\"url(#clip530)\\\" style=\\\"stroke:#000000; stroke-linecap:round; stroke-linejoin:round; stroke-width:4; stroke-opacity:1; fill:none\\\" points=\\\"193.936,1445.72 212.834,1445.72 \\\"\\/>\\n<polyline clip-path=\\\"url(#clip530)\\\" style=\\\"stroke:#000000; stroke-linecap:round; stroke-linejoin:round; stroke-width:4; stroke-opacity:1; fill:none\\\" points=\\\"193.936,1106.28 212.834,1106.28 \\\"\\/>\\n<polyline clip-path=\\\"url(#clip530)\\\" style=\\\"stroke:#000000; stroke-linecap:round; stroke-linejoin:round; stroke-width:4; stroke-opacity:1; fill:none\\\" points=\\\"193.936,766.847 212.834,766.847 \\\"\\/>\\n<polyline clip-path=\\\"url(#clip530)\\\" style=\\\"stroke:#000000; stroke-linecap:round; stroke-linejoin:round; stroke-width:4; stroke-opacity:1; fill:none\\\" points=\\\"193.936,427.409 212.834,427.409 \\\"\\/>\\n<polyline clip-path=\\\"url(#clip530)\\\" style=\\\"stroke:#000000; stroke-linecap:round; stroke-linejoin:round; stroke-width:4; stroke-opacity:1; fill:none\\\" points=\\\"193.936,87.9709 212.834,87.9709 \\\"\\/>\\n<path clip-path=\\\"url(#clip530)\\\" d=\\\"M50.9921 1446.17 L80.6679 1446.17 L80.6679 1450.11 L50.9921 1450.11 L50.9921 1446.17 Z\\\" fill=\\\"#000000\\\" fill-rule=\\\"nonzero\\\" fill-opacity=\\\"1\\\" \\/><path clip-path=\\\"url(#clip530)\\\" d=\\\"M91.5706 1459.07 L99.2095 1459.07 L99.2095 1432.7 L90.8993 1434.37 L90.8993 1430.11 L99.1632 1428.44 L103.839 1428.44 L103.839 1459.07 L111.478 1459.07 L111.478 1463 L91.5706 1463 L91.5706 1459.07 Z\\\" fill=\\\"#000000\\\" fill-rule=\\\"nonzero\\\" fill-opacity=\\\"1\\\" \\/><path clip-path=\\\"url(#clip530)\\\" d=\\\"M120.922 1457.12 L125.807 1457.12 L125.807 1463 L120.922 1463 L120.922 1457.12 Z\\\" fill=\\\"#000000\\\" fill-rule=\\\"nonzero\\\" fill-opacity=\\\"1\\\" \\/><path clip-path=\\\"url(#clip530)\\\" d=\\\"M145.992 1431.52 Q142.381 1431.52 140.552 1435.09 Q138.746 1438.63 138.746 1445.76 Q138.746 1452.86 140.552 1456.43 Q142.381 1459.97 145.992 1459.97 Q149.626 1459.97 151.431 1456.43 Q153.26 1452.86 153.26 1445.76 Q153.26 1438.63 151.431 1435.09 Q149.626 1431.52 145.992 1431.52 M145.992 1427.82 Q151.802 1427.82 154.857 1432.42 Q157.936 1437.01 157.936 1445.76 Q157.936 1454.48 154.857 1459.09 Q151.802 1463.67 145.992 1463.67 Q140.181 1463.67 137.103 1459.09 Q134.047 1454.48 134.047 1445.76 Q134.047 1437.01 137.103 1432.42 Q140.181 1427.82 145.992 1427.82 Z\\\" fill=\\\"#000000\\\" fill-rule=\\\"nonzero\\\" fill-opacity=\\\"1\\\" \\/><path clip-path=\\\"url(#clip530)\\\" d=\\\"M51.9875 1106.74 L81.6633 1106.74 L81.6633 1110.67 L51.9875 1110.67 L51.9875 1106.74 Z\\\" fill=\\\"#000000\\\" fill-rule=\\\"nonzero\\\" fill-opacity=\\\"1\\\" \\/><path clip-path=\\\"url(#clip530)\\\" d=\\\"M101.756 1092.08 Q98.1447 1092.08 96.316 1095.65 Q94.5104 1099.19 94.5104 1106.32 Q94.5104 1113.43 96.316 1116.99 Q98.1447 1120.53 101.756 1120.53 Q105.39 1120.53 107.196 1116.99 Q109.024 1113.43 109.024 1106.32 Q109.024 1099.19 107.196 1095.65 Q105.39 1092.08 101.756 1092.08 M101.756 1088.38 Q107.566 1088.38 110.621 1092.99 Q113.7 1097.57 113.7 1106.32 Q113.7 1115.05 110.621 1119.65 Q107.566 1124.24 101.756 1124.24 Q95.9456 1124.24 92.8669 1119.65 Q89.8114 1115.05 89.8114 1106.32 Q89.8114 1097.57 92.8669 1092.99 Q95.9456 1088.38 101.756 1088.38 Z\\\" fill=\\\"#000000\\\" fill-rule=\\\"nonzero\\\" fill-opacity=\\\"1\\\" \\/><path clip-path=\\\"url(#clip530)\\\" d=\\\"M121.918 1117.68 L126.802 1117.68 L126.802 1123.56 L121.918 1123.56 L121.918 1117.68 Z\\\" fill=\\\"#000000\\\" fill-rule=\\\"nonzero\\\" fill-opacity=\\\"1\\\" \\/><path clip-path=\\\"url(#clip530)\\\" d=\\\"M137.033 1089 L155.39 1089 L155.39 1092.94 L141.316 1092.94 L141.316 1101.41 Q142.334 1101.06 143.353 1100.9 Q144.371 1100.72 145.39 1100.72 Q151.177 1100.72 154.556 1103.89 Q157.936 1107.06 157.936 1112.48 Q157.936 1118.06 154.464 1121.16 Q150.992 1124.24 144.672 1124.24 Q142.496 1124.24 140.228 1123.87 Q137.982 1123.5 135.575 1122.75 L135.575 1118.06 Q137.658 1119.19 139.881 1119.75 Q142.103 1120.3 144.58 1120.3 Q148.584 1120.3 150.922 1118.19 Q153.26 1116.09 153.26 1112.48 Q153.26 1108.87 150.922 1106.76 Q148.584 1104.65 144.58 1104.65 Q142.705 1104.65 140.83 1105.07 Q138.978 1105.49 137.033 1106.37 L137.033 1089 Z\\\" fill=\\\"#000000\\\" fill-rule=\\\"nonzero\\\" fill-opacity=\\\"1\\\" \\/><path clip-path=\\\"url(#clip530)\\\" d=\\\"M100.76 752.645 Q97.1493 752.645 95.3206 756.21 Q93.515 759.752 93.515 766.881 Q93.515 773.988 95.3206 777.553 Q97.1493 781.094 100.76 781.094 Q104.395 781.094 106.2 777.553 Q108.029 773.988 108.029 766.881 Q108.029 759.752 106.2 756.21 Q104.395 752.645 100.76 752.645 M100.76 748.942 Q106.571 748.942 109.626 753.548 Q112.705 758.131 112.705 766.881 Q112.705 775.608 109.626 780.215 Q106.571 784.798 100.76 784.798 Q94.9502 784.798 91.8715 780.215 Q88.816 775.608 88.816 766.881 Q88.816 758.131 91.8715 753.548 Q94.9502 748.942 100.76 748.942 Z\\\" fill=\\\"#000000\\\" fill-rule=\\\"nonzero\\\" fill-opacity=\\\"1\\\" \\/><path clip-path=\\\"url(#clip530)\\\" d=\\\"M120.922 778.247 L125.807 778.247 L125.807 784.127 L120.922 784.127 L120.922 778.247 Z\\\" fill=\\\"#000000\\\" fill-rule=\\\"nonzero\\\" fill-opacity=\\\"1\\\" \\/><path clip-path=\\\"url(#clip530)\\\" d=\\\"M145.992 752.645 Q142.381 752.645 140.552 756.21 Q138.746 759.752 138.746 766.881 Q138.746 773.988 140.552 777.553 Q142.381 781.094 145.992 781.094 Q149.626 781.094 151.431 777.553 Q153.26 773.988 153.26 766.881 Q153.26 759.752 151.431 756.21 Q149.626 752.645 145.992 752.645 M145.992 748.942 Q151.802 748.942 154.857 753.548 Q157.936 758.131 157.936 766.881 Q157.936 775.608 154.857 780.215 Q151.802 784.798 145.992 784.798 Q140.181 784.798 137.103 780.215 Q134.047 775.608 134.047 766.881 Q134.047 758.131 137.103 753.548 Q140.181 748.942 145.992 748.942 Z\\\" fill=\\\"#000000\\\" fill-rule=\\\"nonzero\\\" fill-opacity=\\\"1\\\" \\/><path clip-path=\\\"url(#clip530)\\\" d=\\\"M101.756 413.207 Q98.1447 413.207 96.316 416.772 Q94.5104 420.314 94.5104 427.443 Q94.5104 434.55 96.316 438.115 Q98.1447 441.656 101.756 441.656 Q105.39 441.656 107.196 438.115 Q109.024 434.55 109.024 427.443 Q109.024 420.314 107.196 416.772 Q105.39 413.207 101.756 413.207 M101.756 409.504 Q107.566 409.504 110.621 414.11 Q113.7 418.694 113.7 427.443 Q113.7 436.17 110.621 440.777 Q107.566 445.36 101.756 445.36 Q95.9456 445.36 92.8669 440.777 Q89.8114 436.17 89.8114 427.443 Q89.8114 418.694 92.8669 414.11 Q95.9456 409.504 101.756 409.504 Z\\\" fill=\\\"#000000\\\" fill-rule=\\\"nonzero\\\" fill-opacity=\\\"1\\\" \\/><path clip-path=\\\"url(#clip530)\\\" d=\\\"M121.918 438.809 L126.802 438.809 L126.802 444.689 L121.918 444.689 L121.918 438.809 Z\\\" fill=\\\"#000000\\\" fill-rule=\\\"nonzero\\\" fill-opacity=\\\"1\\\" \\/><path clip-path=\\\"url(#clip530)\\\" d=\\\"M137.033 410.129 L155.39 410.129 L155.39 414.064 L141.316 414.064 L141.316 422.536 Q142.334 422.189 143.353 422.027 Q144.371 421.842 145.39 421.842 Q151.177 421.842 154.556 425.013 Q157.936 428.184 157.936 433.601 Q157.936 439.18 154.464 442.281 Q150.992 445.36 144.672 445.36 Q142.496 445.36 140.228 444.99 Q137.982 444.619 135.575 443.879 L135.575 439.18 Q137.658 440.314 139.881 440.869 Q142.103 441.425 144.58 441.425 Q148.584 441.425 150.922 439.318 Q153.26 437.212 153.26 433.601 Q153.26 429.99 150.922 427.883 Q148.584 425.777 144.58 425.777 Q142.705 425.777 140.83 426.193 Q138.978 426.61 137.033 427.49 L137.033 410.129 Z\\\" fill=\\\"#000000\\\" fill-rule=\\\"nonzero\\\" fill-opacity=\\\"1\\\" \\/><path clip-path=\\\"url(#clip530)\\\" d=\\\"M91.5706 101.316 L99.2095 101.316 L99.2095 74.9501 L90.8993 76.6168 L90.8993 72.3576 L99.1632 70.6909 L103.839 70.6909 L103.839 101.316 L111.478 101.316 L111.478 105.251 L91.5706 105.251 L91.5706 101.316 Z\\\" fill=\\\"#000000\\\" fill-rule=\\\"nonzero\\\" fill-opacity=\\\"1\\\" \\/><path clip-path=\\\"url(#clip530)\\\" d=\\\"M120.922 99.3713 L125.807 99.3713 L125.807 105.251 L120.922 105.251 L120.922 99.3713 Z\\\" fill=\\\"#000000\\\" fill-rule=\\\"nonzero\\\" fill-opacity=\\\"1\\\" \\/><path clip-path=\\\"url(#clip530)\\\" d=\\\"M145.992 73.7696 Q142.381 73.7696 140.552 77.3344 Q138.746 80.876 138.746 88.0056 Q138.746 95.1121 140.552 98.6769 Q142.381 102.219 145.992 102.219 Q149.626 102.219 151.431 98.6769 Q153.26 95.1121 153.26 88.0056 Q153.26 80.876 151.431 77.3344 Q149.626 73.7696 145.992 73.7696 M145.992 70.0659 Q151.802 70.0659 154.857 74.6724 Q157.936 79.2557 157.936 88.0056 Q157.936 96.7324 154.857 101.339 Q151.802 105.922 145.992 105.922 Q140.181 105.922 137.103 101.339 Q134.047 96.7324 134.047 88.0056 Q134.047 79.2557 137.103 74.6724 Q140.181 70.0659 145.992 70.0659 Z\\\" fill=\\\"#000000\\\" fill-rule=\\\"nonzero\\\" fill-opacity=\\\"1\\\" \\/><polyline clip-path=\\\"url(#clip532)\\\" style=\\\"stroke:#009af9; stroke-linecap:round; stroke-linejoin:round; stroke-width:4; stroke-opacity:1; fill:none\\\" points=\\\"255.035,738.619 263.149,772.554 271.263,806.475 279.377,840.298 287.491,873.936 295.605,907.307 303.719,940.327 311.833,972.914 319.947,1004.98 328.061,1036.46 336.175,1067.26 344.289,1097.31 352.403,1126.54 360.517,1154.87 368.631,1182.22 376.745,1208.54 384.859,1233.75 392.973,1257.8 401.087,1280.62 409.201,1302.16 417.315,1322.36 425.429,1341.16 433.543,1358.54 441.657,1374.43 449.771,1388.81 457.886,1401.63 466,1412.87 474.114,1422.49 482.228,1430.47 490.342,1436.79 498.456,1441.44 506.57,1444.4 514.684,1445.67 522.798,1445.24 530.912,1443.12 539.026,1439.3 547.14,1433.81 555.254,1426.65 563.368,1417.84 571.482,1407.4 579.596,1395.36 587.71,1381.75 595.824,1366.6 603.938,1349.96 612.052,1331.85 620.166,1312.34 628.28,1291.46 636.394,1269.27 644.508,1245.82 652.622,1221.18 660.736,1195.4 668.85,1168.55 676.964,1140.69 685.078,1111.9 693.193,1082.25 701.307,1051.81 709.421,1020.66 717.535,988.876 725.649,956.535 733.763,923.72 741.877,890.512 749.991,856.996 758.105,823.254 766.219,789.371 774.333,755.432 782.447,721.521 790.561,687.724 798.675,654.125 806.789,620.807 814.903,587.854 823.017,555.349 831.131,523.372 839.245,492.004 847.359,461.323 855.473,431.405 863.587,402.326 871.701,374.158 879.815,346.971 887.929,320.834 896.043,295.812 904.157,271.967 912.271,249.359 920.385,228.045 928.5,208.077 936.614,189.506 944.728,172.378 952.842,156.736 960.956,142.618 969.07,130.061 977.184,119.096 985.298,109.749 993.412,102.045 1001.53,96.0032 1009.64,91.6377 1017.75,88.9598 1025.87,87.9763 1033.98,88.6896 1042.1,91.0979 1050.21,95.1953 1058.32,100.971 1066.44,108.412 1074.55,117.498 1082.67,128.207 1090.78,140.513 1098.89,154.384 1107.01,169.786 1115.12,186.68 1123.24,205.025 1131.35,224.773 1139.46,245.877 1147.58,268.282 1155.69,291.934 1163.81,316.773 1171.92,342.737 1180.03,369.761 1188.15,397.777 1196.26,426.716 1204.38,456.505 1212.49,487.069 1220.6,518.333 1228.72,550.218 1236.83,582.645 1244.95,615.532 1253.06,648.797 1261.17,682.358 1269.29,716.129 1277.4,750.027 1285.52,783.967 1293.63,817.865 1301.75,851.635 1309.86,885.193 1317.97,918.455 1326.09,951.338 1334.2,983.76 1342.32,1015.64 1350.43,1046.9 1358.54,1077.46 1366.66,1107.24 1374.77,1136.17 1382.89,1164.18 1391,1191.19 1399.11,1217.15 1407.23,1241.97 1415.34,1265.62 1423.46,1288.01 1431.57,1309.1 1439.68,1328.84 1447.8,1347.17 1455.91,1364.05 1464.03,1379.44 1472.14,1393.3 1480.25,1405.59 1488.37,1416.28 1496.48,1425.35 1504.6,1432.78 1512.71,1438.54 1520.82,1442.62 1528.94,1445.02 1537.05,1445.72 1545.17,1444.72 1553.28,1442.02 1561.39,1437.64 1569.51,1431.59 1577.62,1423.87 1585.74,1414.51 1593.85,1403.53 1601.96,1390.96 1610.08,1376.83 1618.19,1361.17 1626.31,1344.03 1634.42,1325.44 1642.53,1305.47 1650.65,1284.14 1658.76,1261.52 1666.88,1237.66 1674.99,1212.63 1683.1,1186.48 1691.22,1159.29 1699.33,1131.11 1707.45,1102.03 1715.56,1072.1 1723.67,1041.41 1731.79,1010.04 1739.9,978.058 1748.02,945.548 1756.13,912.592 1764.25,879.271 1772.36,845.67 1780.47,811.871 1788.59,777.96 1796.7,744.021 1804.82,710.139 1812.93,676.399 1821.04,642.884 1829.16,609.68 1837.27,576.869 1845.39,544.532 1853.5,512.751 1861.61,481.605 1869.73,451.173 1877.84,421.529 1885.96,392.748 1894.07,364.902 1902.18,338.061 1910.3,312.292 1918.41,287.659 1926.53,264.223 1934.64,242.044 1942.75,221.177 1950.87,201.673 1958.98,183.583 1967.1,166.95 1975.21,151.816 1983.32,138.22 1991.44,126.195 1999.55,115.771 2007.67,106.974 2015.78,99.8272 2023.89,94.3473 2032.01,90.5483 2040.12,88.4397 2048.24,88.0268 2056.35,89.3106 2064.46,92.2878 2072.58,96.9511 2080.69,103.289 2088.81,111.285 2096.92,120.92 2105.03,132.169 2113.15,145.005 2121.26,159.395 2129.38,175.303 2137.49,192.69 2145.6,211.512 2153.72,231.721 2161.83,253.269 2169.95,276.1 2178.06,300.158 2186.17,325.382 2194.29,351.71 2202.4,379.075 2210.52,407.409 2218.63,436.642 2226.74,466.701 2234.86,497.509 2242.97,528.991 2251.09,561.067 2259.2,593.657 2267.32,626.681 2275.43,660.055 2283.54,693.695 2291.66,727.519 \\\"\\/>\\n<path clip-path=\\\"url(#clip530)\\\" d=\\\"M265.897 198.898 L534.209 198.898 L534.209 95.2176 L265.897 95.2176  Z\\\" fill=\\\"#ffffff\\\" fill-rule=\\\"evenodd\\\" fill-opacity=\\\"1\\\"\\/>\\n<polyline clip-path=\\\"url(#clip530)\\\" style=\\\"stroke:#000000; stroke-linecap:round; stroke-linejoin:round; stroke-width:4; stroke-opacity:1; fill:none\\\" points=\\\"265.897,198.898 534.209,198.898 534.209,95.2176 265.897,95.2176 265.897,198.898 \\\"\\/>\\n<polyline clip-path=\\\"url(#clip530)\\\" style=\\\"stroke:#009af9; stroke-linecap:round; stroke-linejoin:round; stroke-width:4; stroke-opacity:1; fill:none\\\" points=\\\"289.884,147.058 433.805,147.058 \\\"\\/>\\n<path clip-path=\\\"url(#clip530)\\\" d=\\\"M471.634 166.745 Q469.829 171.375 468.116 172.787 Q466.403 174.199 463.532 174.199 L460.13 174.199 L460.13 170.634 L462.63 170.634 Q464.389 170.634 465.361 169.8 Q466.333 168.967 467.514 165.865 L468.278 163.921 L457.792 138.412 L462.306 138.412 L470.407 158.689 L478.509 138.412 L483.023 138.412 L471.634 166.745 Z\\\" fill=\\\"#000000\\\" fill-rule=\\\"nonzero\\\" fill-opacity=\\\"1\\\" \\/><path clip-path=\\\"url(#clip530)\\\" d=\\\"M490.315 160.402 L497.954 160.402 L497.954 134.037 L489.643 135.703 L489.643 131.444 L497.907 129.778 L502.583 129.778 L502.583 160.402 L510.222 160.402 L510.222 164.338 L490.315 164.338 L490.315 160.402 Z\\\" fill=\\\"#000000\\\" fill-rule=\\\"nonzero\\\" fill-opacity=\\\"1\\\" \\/><\\/svg>\\n\"},\"nodeType\":\"DOM\",\"type\":\"node\",\"instanceArgs\":{\"namespace\":\"html\",\"tag\":\"div\"},\"children\":[]}]}}}},\"children\":[{\"props\":{},\"nodeType\":\"ObservableNode\",\"type\":\"node\",\"instanceArgs\":{\"id\":\"21\",\"name\":\"obs-node\"},\"children\":[]}]}]},\n",
       "        window,\n",
       "    );\n",
       "    })()\n",
       "    </script>\n",
       "</div>\n"
      ],
      "text/plain": [
       "Node{WebIO.DOM}(WebIO.DOM(:html, :div), Any[Node{WebIO.DOM}(WebIO.DOM(:html, :div), Any[Scope(Node{WebIO.DOM}(WebIO.DOM(:html, :div), Any[Node{WebIO.DOM}(WebIO.DOM(:html, :div), Any[Node{WebIO.DOM}(WebIO.DOM(:html, :label), Any[\"f\"], Dict{Symbol, Any}(:className => \"interact \", :style => Dict{Any, Any}(:padding => \"5px 10px 0px 10px\")))], Dict{Symbol, Any}(:className => \"interact-flex-row-left\")), Node{WebIO.DOM}(WebIO.DOM(:html, :div), Any[Node{WebIO.DOM}(WebIO.DOM(:html, :div), Any[Node{WebIO.DOM}(WebIO.DOM(:html, :span), Any[Node{WebIO.DOM}(WebIO.DOM(:html, :label), Any[], Dict{Symbol, Any}(:attributes => Dict(\"data-bind\" => \"text : key\")))], Dict{Symbol, Any}(:attributes => Dict(\"data-bind\" => \"click: function (){\\$root.update(val)}, css: {'is-primary is-selected' : \\$root.index() == val, 'interact-widget is-medium button ' : true}\")))], Dict{Symbol, Any}(:attributes => (\"data-bind\" => \"foreach : options_js\"), :className => \"buttons has-addons is-centered\"))], Dict{Symbol, Any}(:className => \"interact-flex-row-center\")), Node{WebIO.DOM}(WebIO.DOM(:html, :div), Any[Node{WebIO.DOM}(WebIO.DOM(:html, :div), Any[], Dict{Symbol, Any}())], Dict{Symbol, Any}(:className => \"interact-flex-row-right\"))], Dict{Symbol, Any}(:className => \"interact-flex-row interact-widget\")), Dict{String, Tuple{AbstractObservable, Union{Nothing, Bool}}}(\"options_js\" => (Observable(OrderedDict[OrderedDict{String, Any}(\"key\" => \"sin\", \"val\" => 1, \"id\" => \"idumUg8eRd\"), OrderedDict{String, Any}(\"key\" => \"cos\", \"val\" => 2, \"id\" => \"idJFto5fvP\"), OrderedDict{String, Any}(\"key\" => \"tan\", \"val\" => 3, \"id\" => \"idaMMsh57Y\")]), nothing), \"index\" => (Observable{Any}(1), nothing)), Set{String}(), nothing, Asset[Asset(\"js\", \"knockout\", \"C:\\\\Users\\\\20172517\\\\.julia\\\\packages\\\\Knockout\\\\HReiN\\\\src\\\\..\\\\assets\\\\knockout.js\"), Asset(\"js\", \"knockout_punches\", \"C:\\\\Users\\\\20172517\\\\.julia\\\\packages\\\\Knockout\\\\HReiN\\\\src\\\\..\\\\assets\\\\knockout_punches.js\"), Asset(\"js\", nothing, \"C:\\\\Users\\\\20172517\\\\.julia\\\\packages\\\\InteractBase\\\\LJXv3\\\\src\\\\..\\\\assets\\\\all.js\"), Asset(\"css\", nothing, \"C:\\\\Users\\\\20172517\\\\.julia\\\\packages\\\\InteractBase\\\\LJXv3\\\\src\\\\..\\\\assets\\\\style.css\"), Asset(\"css\", nothing, \"C:\\\\Users\\\\20172517\\\\.julia\\\\packages\\\\Interact\\\\PENUy\\\\src\\\\..\\\\assets\\\\bulma_confined.min.css\")], Dict{Any, Any}(\"options_js\" => Any[JSString(\"(function (val){return (val!=this.model[\\\"options_js\\\"]()) ? (this.valueFromJulia[\\\"options_js\\\"]=true, this.model[\\\"options_js\\\"](val)) : undefined})\")], \"index\" => Any[JSString(\"(function (val){return (val!=this.model[\\\"index\\\"]()) ? (this.valueFromJulia[\\\"index\\\"]=true, this.model[\\\"index\\\"](val)) : undefined})\")]), WebIO.ConnectionPool(Channel{Any}(32), Set{AbstractConnection}(), Base.GenericCondition{ReentrantLock}(Base.IntrusiveLinkedList{Task}(Task (runnable, started) @0x00000211b8ec2ab0, Task (runnable, started) @0x00000211b8ec2ab0), ReentrantLock(nothing, 0x00000000, 0x00, Base.GenericCondition{Base.Threads.SpinLock}(Base.IntrusiveLinkedList{Task}(nothing, nothing), Base.Threads.SpinLock(0)), (1, 2274954562032, 140730421768352)))), JSString[JSString(\"function () {\\n    var handler = (function (ko, koPunches) {\\n    ko.punches.enableAll();\\n    ko.bindingHandlers.numericValue = {\\n        init: function(element, valueAccessor, allBindings, data, context) {\\n            var stringified = ko.observable(ko.unwrap(valueAccessor()));\\n            stringified.subscribe(function(value) {\\n                var val = parseFloat(value);\\n                if (!isNaN(val)) {\\n                    valueAccessor()(val);\\n                }\\n            });\\n            valueAccessor().subscribe(function(value) {\\n                var str = JSON.stringify(value);\\n                if ((str == \\\"0\\\") && ([\\\"-0\\\", \\\"-0.\\\"].indexOf(stringified()) >= 0))\\n                     return;\\n                 if ([\\\"null\\\", \\\"\\\"].indexOf(str) >= 0)\\n                     return;\\n                stringified(str);\\n            });\\n            ko.applyBindingsToNode(\\n                element,\\n                {\\n                    value: stringified,\\n                    valueUpdate: allBindings.get('valueUpdate'),\\n                },\\n                context,\\n            );\\n        }\\n    };\\n    var json_data = {\\\"options_js\\\":WebIO.getval({\\\"name\\\":\\\"options_js\\\",\\\"scope\\\":\\\"9647987603699994557\\\",\\\"id\\\":\\\"14\\\",\\\"type\\\":\\\"observable\\\"}),\\\"index\\\":WebIO.getval({\\\"name\\\":\\\"index\\\",\\\"scope\\\":\\\"9647987603699994557\\\",\\\"id\\\":\\\"13\\\",\\\"type\\\":\\\"observable\\\"})};\\n    var self = this;\\n    function AppViewModel() {\\n        for (var key in json_data) {\\n            var el = json_data[key];\\n            this[key] = Array.isArray(el) ? ko.observableArray(el) : ko.observable(el);\\n        }\\n        [this[\\\"update\\\"]=function (val) {this.index(val)}]\\n        \\n        [this[\\\"options_js\\\"].subscribe((function (val){!(this.valueFromJulia[\\\"options_js\\\"]) ? (WebIO.setval({\\\"name\\\":\\\"options_js\\\",\\\"scope\\\":\\\"9647987603699994557\\\",\\\"id\\\":\\\"14\\\",\\\"type\\\":\\\"observable\\\"},val)) : undefined; return this.valueFromJulia[\\\"options_js\\\"]=false}),self),this[\\\"index\\\"].subscribe((function (val){!(this.valueFromJulia[\\\"index\\\"]) ? (WebIO.setval({\\\"name\\\":\\\"index\\\",\\\"scope\\\":\\\"9647987603699994557\\\",\\\"id\\\":\\\"13\\\",\\\"type\\\":\\\"observable\\\"},val)) : undefined; return this.valueFromJulia[\\\"index\\\"]=false}),self)]\\n        \\n    }\\n    self.model = new AppViewModel();\\n    self.valueFromJulia = {};\\n    for (var key in json_data) {\\n        self.valueFromJulia[key] = false;\\n    }\\n    ko.applyBindings(self.model, self.dom);\\n}\\n);\\n    (WebIO.importBlock({\\\"data\\\":[{\\\"name\\\":\\\"knockout\\\",\\\"type\\\":\\\"js\\\",\\\"url\\\":\\\"/assetserver/2f41271402a5ef9c872f54d98b634dd0b52b51b5-knockout.js\\\"},{\\\"name\\\":\\\"knockout_punches\\\",\\\"type\\\":\\\"js\\\",\\\"url\\\":\\\"/assetserver/16d9eac8f67d66ea9255f645c61cae4d19575e2b-knockout_punches.js\\\"}],\\\"type\\\":\\\"async_block\\\"})).then((imports) => handler.apply(this, imports));\\n}\\n\")])], Dict{Symbol, Any}(:className => \"interact-widget\")), Node{WebIO.DOM}(WebIO.DOM(:html, :div), Any[Scope(Node{WebIO.DOM}(WebIO.DOM(:html, :div), Any[Node{WebIO.DOM}(WebIO.DOM(:html, :div), Any[Node{WebIO.DOM}(WebIO.DOM(:html, :label), Any[\"ϕ\"], Dict{Symbol, Any}(:className => \"interact \", :style => Dict{Any, Any}(:padding => \"5px 10px 0px 10px\")))], Dict{Symbol, Any}(:className => \"interact-flex-row-left\")), Node{WebIO.DOM}(WebIO.DOM(:html, :div), Any[Node{WebIO.DOM}(WebIO.DOM(:html, :input), Any[], Dict{Symbol, Any}(:max => 126, :min => 1, :attributes => Dict{Any, Any}(:type => \"range\", Symbol(\"data-bind\") => \"numericValue: index, valueUpdate: 'input', event: {change: function (){this.changes(this.changes()+1)}}\", \"orient\" => \"horizontal\"), :step => 1, :className => \"slider slider is-fullwidth\", :style => Dict{Any, Any}()))], Dict{Symbol, Any}(:className => \"interact-flex-row-center\")), Node{WebIO.DOM}(WebIO.DOM(:html, :div), Any[Node{WebIO.DOM}(WebIO.DOM(:html, :p), Any[], Dict{Symbol, Any}(:attributes => Dict(\"data-bind\" => \"text: formatted_val\")))], Dict{Symbol, Any}(:className => \"interact-flex-row-right\"))], Dict{Symbol, Any}(:className => \"interact-flex-row interact-widget\")), Dict{String, Tuple{AbstractObservable, Union{Nothing, Bool}}}(\"changes\" => (Observable(0), nothing), \"index\" => (Observable{Any}(63), nothing)), Set{String}(), nothing, Asset[Asset(\"js\", \"knockout\", \"C:\\\\Users\\\\20172517\\\\.julia\\\\packages\\\\Knockout\\\\HReiN\\\\src\\\\..\\\\assets\\\\knockout.js\"), Asset(\"js\", \"knockout_punches\", \"C:\\\\Users\\\\20172517\\\\.julia\\\\packages\\\\Knockout\\\\HReiN\\\\src\\\\..\\\\assets\\\\knockout_punches.js\"), Asset(\"js\", nothing, \"C:\\\\Users\\\\20172517\\\\.julia\\\\packages\\\\InteractBase\\\\LJXv3\\\\src\\\\..\\\\assets\\\\all.js\"), Asset(\"css\", nothing, \"C:\\\\Users\\\\20172517\\\\.julia\\\\packages\\\\InteractBase\\\\LJXv3\\\\src\\\\..\\\\assets\\\\style.css\"), Asset(\"css\", nothing, \"C:\\\\Users\\\\20172517\\\\.julia\\\\packages\\\\Interact\\\\PENUy\\\\src\\\\..\\\\assets\\\\bulma_confined.min.css\")], Dict{Any, Any}(\"changes\" => Any[JSString(\"(function (val){return (val!=this.model[\\\"changes\\\"]()) ? (this.valueFromJulia[\\\"changes\\\"]=true, this.model[\\\"changes\\\"](val)) : undefined})\")], \"index\" => Any[JSString(\"(function (val){return (val!=this.model[\\\"index\\\"]()) ? (this.valueFromJulia[\\\"index\\\"]=true, this.model[\\\"index\\\"](val)) : undefined})\")]), WebIO.ConnectionPool(Channel{Any}(32), Set{AbstractConnection}(), Base.GenericCondition{ReentrantLock}(Base.IntrusiveLinkedList{Task}(Task (runnable, started) @0x00000211b8c09940, Task (runnable, started) @0x00000211b8c09940), ReentrantLock(nothing, 0x00000000, 0x00, Base.GenericCondition{Base.Threads.SpinLock}(Base.IntrusiveLinkedList{Task}(nothing, nothing), Base.Threads.SpinLock(0)), (9, 11, 1092445040800)))), JSString[JSString(\"function () {\\n    var handler = (function (ko, koPunches) {\\n    ko.punches.enableAll();\\n    ko.bindingHandlers.numericValue = {\\n        init: function(element, valueAccessor, allBindings, data, context) {\\n            var stringified = ko.observable(ko.unwrap(valueAccessor()));\\n            stringified.subscribe(function(value) {\\n                var val = parseFloat(value);\\n                if (!isNaN(val)) {\\n                    valueAccessor()(val);\\n                }\\n            });\\n            valueAccessor().subscribe(function(value) {\\n                var str = JSON.stringify(value);\\n                if ((str == \\\"0\\\") && ([\\\"-0\\\", \\\"-0.\\\"].indexOf(stringified()) >= 0))\\n                     return;\\n                 if ([\\\"null\\\", \\\"\\\"].indexOf(str) >= 0)\\n                     return;\\n                stringified(str);\\n            });\\n            ko.applyBindingsToNode(\\n                element,\\n                {\\n                    value: stringified,\\n                    valueUpdate: allBindings.get('valueUpdate'),\\n                },\\n                context,\\n            );\\n        }\\n    };\\n    var json_data = {\\\"formatted_vals\\\":[\\\"0.0\\\",\\\"0.05\\\",\\\"0.1\\\",\\\"0.15\\\",\\\"0.2\\\",\\\"0.25\\\",\\\"0.3\\\",\\\"0.35\\\",\\\"0.4\\\",\\\"0.45\\\",\\\"0.5\\\",\\\"0.55\\\",\\\"0.6\\\",\\\"0.65\\\",\\\"0.7\\\",\\\"0.75\\\",\\\"0.8\\\",\\\"0.85\\\",\\\"0.9\\\",\\\"0.95\\\",\\\"1.0\\\",\\\"1.05\\\",\\\"1.1\\\",\\\"1.15\\\",\\\"1.2\\\",\\\"1.25\\\",\\\"1.3\\\",\\\"1.35\\\",\\\"1.4\\\",\\\"1.45\\\",\\\"1.5\\\",\\\"1.55\\\",\\\"1.6\\\",\\\"1.65\\\",\\\"1.7\\\",\\\"1.75\\\",\\\"1.8\\\",\\\"1.85\\\",\\\"1.9\\\",\\\"1.95\\\",\\\"2.0\\\",\\\"2.05\\\",\\\"2.1\\\",\\\"2.15\\\",\\\"2.2\\\",\\\"2.25\\\",\\\"2.3\\\",\\\"2.35\\\",\\\"2.4\\\",\\\"2.45\\\",\\\"2.5\\\",\\\"2.55\\\",\\\"2.6\\\",\\\"2.65\\\",\\\"2.7\\\",\\\"2.75\\\",\\\"2.8\\\",\\\"2.85\\\",\\\"2.9\\\",\\\"2.95\\\",\\\"3.0\\\",\\\"3.05\\\",\\\"3.1\\\",\\\"3.15\\\",\\\"3.2\\\",\\\"3.25\\\",\\\"3.3\\\",\\\"3.35\\\",\\\"3.4\\\",\\\"3.45\\\",\\\"3.5\\\",\\\"3.55\\\",\\\"3.6\\\",\\\"3.65\\\",\\\"3.7\\\",\\\"3.75\\\",\\\"3.8\\\",\\\"3.85\\\",\\\"3.9\\\",\\\"3.95\\\",\\\"4.0\\\",\\\"4.05\\\",\\\"4.1\\\",\\\"4.15\\\",\\\"4.2\\\",\\\"4.25\\\",\\\"4.3\\\",\\\"4.35\\\",\\\"4.4\\\",\\\"4.45\\\",\\\"4.5\\\",\\\"4.55\\\",\\\"4.6\\\",\\\"4.65\\\",\\\"4.7\\\",\\\"4.75\\\",\\\"4.8\\\",\\\"4.85\\\",\\\"4.9\\\",\\\"4.95\\\",\\\"5.0\\\",\\\"5.05\\\",\\\"5.1\\\",\\\"5.15\\\",\\\"5.2\\\",\\\"5.25\\\",\\\"5.3\\\",\\\"5.35\\\",\\\"5.4\\\",\\\"5.45\\\",\\\"5.5\\\",\\\"5.55\\\",\\\"5.6\\\",\\\"5.65\\\",\\\"5.7\\\",\\\"5.75\\\",\\\"5.8\\\",\\\"5.85\\\",\\\"5.9\\\",\\\"5.95\\\",\\\"6.0\\\",\\\"6.05\\\",\\\"6.1\\\",\\\"6.15\\\",\\\"6.2\\\",\\\"6.25\\\"],\\\"changes\\\":WebIO.getval({\\\"name\\\":\\\"changes\\\",\\\"scope\\\":\\\"13129863515086317278\\\",\\\"id\\\":\\\"17\\\",\\\"type\\\":\\\"observable\\\"}),\\\"index\\\":WebIO.getval({\\\"name\\\":\\\"index\\\",\\\"scope\\\":\\\"13129863515086317278\\\",\\\"id\\\":\\\"16\\\",\\\"type\\\":\\\"observable\\\"})};\\n    var self = this;\\n    function AppViewModel() {\\n        for (var key in json_data) {\\n            var el = json_data[key];\\n            this[key] = Array.isArray(el) ? ko.observableArray(el) : ko.observable(el);\\n        }\\n        \\n        [this[\\\"formatted_val\\\"]=ko.computed(    function(){\\n        return this.formatted_vals()[parseInt(this.index())-(1)];\\n    }\\n,this)]\\n        [this[\\\"changes\\\"].subscribe((function (val){!(this.valueFromJulia[\\\"changes\\\"]) ? (WebIO.setval({\\\"name\\\":\\\"changes\\\",\\\"scope\\\":\\\"13129863515086317278\\\",\\\"id\\\":\\\"17\\\",\\\"type\\\":\\\"observable\\\"},val)) : undefined; return this.valueFromJulia[\\\"changes\\\"]=false}),self),this[\\\"index\\\"].subscribe((function (val){!(this.valueFromJulia[\\\"index\\\"]) ? (WebIO.setval({\\\"name\\\":\\\"index\\\",\\\"scope\\\":\\\"13129863515086317278\\\",\\\"id\\\":\\\"16\\\",\\\"type\\\":\\\"observable\\\"},val)) : undefined; return this.valueFromJulia[\\\"index\\\"]=false}),self)]\\n        \\n    }\\n    self.model = new AppViewModel();\\n    self.valueFromJulia = {};\\n    for (var key in json_data) {\\n        self.valueFromJulia[key] = false;\\n    }\\n    ko.applyBindings(self.model, self.dom);\\n}\\n);\\n    (WebIO.importBlock({\\\"data\\\":[{\\\"name\\\":\\\"knockout\\\",\\\"type\\\":\\\"js\\\",\\\"url\\\":\\\"/assetserver/2f41271402a5ef9c872f54d98b634dd0b52b51b5-knockout.js\\\"},{\\\"name\\\":\\\"knockout_punches\\\",\\\"type\\\":\\\"js\\\",\\\"url\\\":\\\"/assetserver/16d9eac8f67d66ea9255f645c61cae4d19575e2b-knockout_punches.js\\\"}],\\\"type\\\":\\\"async_block\\\"})).then((imports) => handler.apply(this, imports));\\n}\\n\")])], Dict{Symbol, Any}(:className => \"field interact-widget\")), Observable(Node{WebIO.DOM}(WebIO.DOM(:html, :div), Any[Plot{Plots.GRBackend() n=1}], Dict{Symbol, Any}(:className => \"interact-flex-row interact-widget\")))], Dict{Symbol, Any}())"
      ]
     },
     "execution_count": 43,
     "metadata": {
      "@webio": {
       "kernelId": "770db5ff-3bbd-4a98-a0ea-bfcaf1eefd6e"
      }
     },
     "output_type": "execute_result"
    }
   ],
   "source": [
    "using Plots\n",
    "@manipulate for f in [sin, cos, tan], ϕ in 0:0.05:2π\n",
    "    x = 0:0.05:4π\n",
    "    Plots.plot(x, f.(x .+ ϕ))\n",
    "end"
   ]
  },
  {
   "cell_type": "markdown",
   "metadata": {},
   "source": [
    "# Deploying your gizmos"
   ]
  },
  {
   "cell_type": "markdown",
   "metadata": {},
   "source": [
    "## using Blink.jl\n",
    "\n",
    "Makes your app look like a desktop app!\n",
    "\n",
    "```julia\n",
    "using Blink\n",
    "\n",
    "window = Window()\n",
    "body!(window, widget)\n",
    "\n",
    "# widget can be any node, or scope or `@manipulate` or Interact widget\n",
    "```"
   ]
  },
  {
   "cell_type": "markdown",
   "metadata": {},
   "source": [
    "## using Mux.jl\n",
    "\n",
    "Makes your app look like a web app!\n",
    "\n",
    "```julia\n",
    "using Mux\n",
    "\n",
    "function myapp(request)\n",
    "    # optionally look at request params\n",
    "    widget # widget can be any node, or scope or\n",
    "           # `@manipulate` or Interact widget\n",
    "\n",
    "end\n",
    "\n",
    "fetch(WebIO.webio_serve(page(\"/\", myapp), PORT))\n",
    "\n",
    "```"
   ]
  },
  {
   "cell_type": "markdown",
   "metadata": {},
   "source": [
    "## in Atom / Juno\n",
    "\n",
    "If you execute any expression that returns a WebIO-based widget, then it will just appear in the Atom plot pane, and you can interact with it.\n",
    "\n",
    "\n",
    "\n",
    "## Demos\n",
    "\n",
    "[See here](https://youtu.be/A3_vpuFqb-0?t=924) for a quick demo of making WebIO widgets work in all these 3 front ends."
   ]
  },
  {
   "cell_type": "markdown",
   "metadata": {},
   "source": [
    "## Using WebIO to render your custom types"
   ]
  },
  {
   "cell_type": "code",
   "execution_count": 44,
   "metadata": {},
   "outputs": [
    {
     "data": {
      "text/plain": [
       "LatLong(12.9063, 77.5857)"
      ]
     },
     "execution_count": 44,
     "metadata": {},
     "output_type": "execute_result"
    }
   ],
   "source": [
    "struct LatLong\n",
    "    lat::Float64\n",
    "    long::Float64\n",
    "end\n",
    "\n",
    "here = LatLong(42.3601, -71.0942)\n",
    "there = LatLong(12.9063, 77.5857)"
   ]
  },
  {
   "cell_type": "markdown",
   "metadata": {},
   "source": [
    "WebIO provides `@register_renderable` macro to help you easily display your own types interactively. This takes care of defining a number of methods that will allow your type to be displayed inside any WebIO content on any frontend."
   ]
  },
  {
   "cell_type": "code",
   "execution_count": 45,
   "metadata": {},
   "outputs": [],
   "source": [
    "using WebIO\n",
    "import WebIO: @register_renderable\n",
    "\n",
    "function latlongurl(loc::LatLong)\n",
    "    return \"https://maps.google.com/maps?q=$(loc.lat),$(loc.long)&t=&z=17&ie=UTF8\"\n",
    "end\n",
    "\n",
    "@register_renderable(LatLong) do loc\n",
    "    return WebIO.render(node(:iframe,\n",
    "            src=latlongurl(loc),\n",
    "            attributes=Dict(\n",
    "                \"height\"=>400,\n",
    "                \"width\"=>600,\n",
    "                \"frameborder\"=>0)))\n",
    "end"
   ]
  },
  {
   "cell_type": "code",
   "execution_count": 46,
   "metadata": {},
   "outputs": [
    {
     "data": {
      "application/vnd.webio.node+json": {
       "children": [],
       "instanceArgs": {
        "namespace": "html",
        "tag": "iframe"
       },
       "nodeType": "DOM",
       "props": {
        "attributes": {
         "frameborder": 0,
         "height": 400,
         "width": 600
        },
        "src": "https://maps.google.com/maps?q=42.3601,-71.0942&t=&z=17&ie=UTF8"
       },
       "type": "node"
      },
      "text/html": [
       "<div\n",
       "    class=\"webio-mountpoint\"\n",
       "    data-webio-mountpoint=\"17805000846802134823\"\n",
       ">\n",
       "    <script>\n",
       "    (function(){\n",
       "    // Some integrations (namely, IJulia/Jupyter) use an alternate render pathway than\n",
       "    // just putting the html on the page. If WebIO isn't defined, then it's pretty likely\n",
       "    // that we're in one of those situations and the integration just isn't installed\n",
       "    // correctly.\n",
       "    if (typeof window.WebIO === \"undefined\") {\n",
       "        document\n",
       "            .querySelector('[data-webio-mountpoint=\"17805000846802134823\"]')\n",
       "            .innerHTML = (\n",
       "                '<div style=\"padding: 1em; background-color: #f8d6da; border: 1px solid #f5c6cb; font-weight: bold;\">' +\n",
       "                '<p><strong>WebIO not detected.</strong></p>' +\n",
       "                '<p>Please read ' +\n",
       "                '<a href=\"https://juliagizmos.github.io/WebIO.jl/latest/troubleshooting/not-detected/\" target=\"_blank\">the troubleshooting guide</a> ' +\n",
       "                'for more information on how to resolve this issue.</p>' +\n",
       "                '<p><a href=\"https://juliagizmos.github.io/WebIO.jl/latest/troubleshooting/not-detected/\" target=\"_blank\">https://juliagizmos.github.io/WebIO.jl/latest/troubleshooting/not-detected/</a></p>' +\n",
       "                '</div>'\n",
       "            );\n",
       "        return;\n",
       "    }\n",
       "    WebIO.mount(\n",
       "        document.querySelector('[data-webio-mountpoint=\"17805000846802134823\"]'),\n",
       "        {\"props\":{\"src\":\"https:\\/\\/maps.google.com\\/maps?q=42.3601,-71.0942&t=&z=17&ie=UTF8\",\"attributes\":{\"height\":400,\"width\":600,\"frameborder\":0}},\"nodeType\":\"DOM\",\"type\":\"node\",\"instanceArgs\":{\"namespace\":\"html\",\"tag\":\"iframe\"},\"children\":[]},\n",
       "        window,\n",
       "    );\n",
       "    })()\n",
       "    </script>\n",
       "</div>\n"
      ],
      "text/plain": [
       "LatLong(42.3601, -71.0942)"
      ]
     },
     "execution_count": 46,
     "metadata": {
      "@webio": {
       "kernelId": "770db5ff-3bbd-4a98-a0ea-bfcaf1eefd6e"
      }
     },
     "output_type": "execute_result"
    }
   ],
   "source": [
    "here"
   ]
  },
  {
   "cell_type": "code",
   "execution_count": 47,
   "metadata": {},
   "outputs": [
    {
     "data": {
      "application/vnd.webio.node+json": {
       "children": [],
       "instanceArgs": {
        "namespace": "html",
        "tag": "iframe"
       },
       "nodeType": "DOM",
       "props": {
        "attributes": {
         "frameborder": 0,
         "height": 400,
         "width": 600
        },
        "src": "https://maps.google.com/maps?q=12.9063,77.5857&t=&z=17&ie=UTF8"
       },
       "type": "node"
      },
      "text/html": [
       "<div\n",
       "    class=\"webio-mountpoint\"\n",
       "    data-webio-mountpoint=\"7799412854171595942\"\n",
       ">\n",
       "    <script>\n",
       "    (function(){\n",
       "    // Some integrations (namely, IJulia/Jupyter) use an alternate render pathway than\n",
       "    // just putting the html on the page. If WebIO isn't defined, then it's pretty likely\n",
       "    // that we're in one of those situations and the integration just isn't installed\n",
       "    // correctly.\n",
       "    if (typeof window.WebIO === \"undefined\") {\n",
       "        document\n",
       "            .querySelector('[data-webio-mountpoint=\"7799412854171595942\"]')\n",
       "            .innerHTML = (\n",
       "                '<div style=\"padding: 1em; background-color: #f8d6da; border: 1px solid #f5c6cb; font-weight: bold;\">' +\n",
       "                '<p><strong>WebIO not detected.</strong></p>' +\n",
       "                '<p>Please read ' +\n",
       "                '<a href=\"https://juliagizmos.github.io/WebIO.jl/latest/troubleshooting/not-detected/\" target=\"_blank\">the troubleshooting guide</a> ' +\n",
       "                'for more information on how to resolve this issue.</p>' +\n",
       "                '<p><a href=\"https://juliagizmos.github.io/WebIO.jl/latest/troubleshooting/not-detected/\" target=\"_blank\">https://juliagizmos.github.io/WebIO.jl/latest/troubleshooting/not-detected/</a></p>' +\n",
       "                '</div>'\n",
       "            );\n",
       "        return;\n",
       "    }\n",
       "    WebIO.mount(\n",
       "        document.querySelector('[data-webio-mountpoint=\"7799412854171595942\"]'),\n",
       "        {\"props\":{\"src\":\"https:\\/\\/maps.google.com\\/maps?q=12.9063,77.5857&t=&z=17&ie=UTF8\",\"attributes\":{\"height\":400,\"width\":600,\"frameborder\":0}},\"nodeType\":\"DOM\",\"type\":\"node\",\"instanceArgs\":{\"namespace\":\"html\",\"tag\":\"iframe\"},\"children\":[]},\n",
       "        window,\n",
       "    );\n",
       "    })()\n",
       "    </script>\n",
       "</div>\n"
      ],
      "text/plain": [
       "LatLong(12.9063, 77.5857)"
      ]
     },
     "execution_count": 47,
     "metadata": {
      "@webio": {
       "kernelId": "770db5ff-3bbd-4a98-a0ea-bfcaf1eefd6e"
      }
     },
     "output_type": "execute_result"
    }
   ],
   "source": [
    "there"
   ]
  }
 ],
 "metadata": {
  "@webio": {
   "lastCommId": "b2194e8bbdbf4eaf92219b203f45c14f",
   "lastKernelId": "4b66a38e-9c8d-4ab9-be6a-301dec8a7b02"
  },
  "kernelspec": {
   "display_name": "Julia 1.11.1",
   "language": "julia",
   "name": "julia-1.11"
  },
  "language_info": {
   "file_extension": ".jl",
   "mimetype": "application/julia",
   "name": "julia",
   "version": "1.11.1"
  }
 },
 "nbformat": 4,
 "nbformat_minor": 4
}
